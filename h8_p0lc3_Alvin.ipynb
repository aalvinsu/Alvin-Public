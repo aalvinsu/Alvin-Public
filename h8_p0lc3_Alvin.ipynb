{
  "nbformat": 4,
  "nbformat_minor": 0,
  "metadata": {
    "colab": {
      "provenance": [],
      "authorship_tag": "ABX9TyOkxtDAkyyn8qTn6eGui/ZH",
      "include_colab_link": true
    },
    "kernelspec": {
      "name": "python3",
      "display_name": "Python 3"
    },
    "language_info": {
      "name": "python"
    }
  },
  "cells": [
    {
      "cell_type": "markdown",
      "metadata": {
        "id": "view-in-github",
        "colab_type": "text"
      },
      "source": [
        "<a href=\"https://colab.research.google.com/github/aalvinsu/Alvin-Public/blob/main/h8_p0lc3_Alvin.ipynb\" target=\"_parent\"><img src=\"https://colab.research.google.com/assets/colab-badge.svg\" alt=\"Open In Colab\"/></a>"
      ]
    },
    {
      "cell_type": "markdown",
      "source": [
        "## Data Impor"
      ],
      "metadata": {
        "id": "PQlVk_w31miH"
      }
    },
    {
      "cell_type": "code",
      "execution_count": 18,
      "metadata": {
        "id": "tHWaBoSBzMQ0"
      },
      "outputs": [],
      "source": [
        "from google.colab import auth\n",
        "from google.cloud import bigquery\n",
        "\n",
        "# Autentikasi menggunakan JSON key file\n",
        "auth.authenticate_user()\n",
        "project_id = 'iconic-elevator-196204'\n",
        "client = bigquery.Client(project=project_id)\n",
        "\n",
        "# Query SQL untuk mengambil data dari BigQuery\n",
        "query = \"\"\"\n",
        "    SELECT *\n",
        "    FROM `bigquery-public-data.austin_crime.crime`\n",
        "    LIMIT 10\n",
        "\"\"\"\n",
        "\n",
        "# Eksekusi query dan ambil hasilnya\n",
        "query_job = client.query(query)\n",
        "results = query_job.result()\n"
      ]
    },
    {
      "cell_type": "markdown",
      "source": [
        "Mengambil data lansgung dari BigQuery dengan autensifikasi menggunakan JSON key file, sehingga kita bisa melakukan analisis dan eksplorasi data di Google Collab"
      ],
      "metadata": {
        "id": "WX1en0-34gim"
      }
    },
    {
      "cell_type": "markdown",
      "source": [
        "## Tampilkan tabel crime sampai 5 baris pertama"
      ],
      "metadata": {
        "id": "gE1JwKYe1uCI"
      }
    },
    {
      "cell_type": "code",
      "source": [
        "# Menampilkan Head\n",
        "for i, row in enumerate(results):\n",
        "    print(row)\n",
        "    if i == 4:  # Menghentikan setelah 5 baris pertama\n",
        "        break"
      ],
      "metadata": {
        "colab": {
          "base_uri": "https://localhost:8080/"
        },
        "id": "c_PEFJM91q0-",
        "outputId": "bb3803b6-5d07-4c1a-8afb-262ba529c4c1"
      },
      "execution_count": 19,
      "outputs": [
        {
          "output_type": "stream",
          "name": "stdout",
          "text": [
            "Row((2015150483, 'Austin, TX', None, datetime.datetime(2015, 1, 27, 12, 0, tzinfo=datetime.timezone.utc), 'Not cleared', None, 'RAPE                          ', 'B', None, None, None, 'nan', 'Rape', datetime.datetime(2015, 1, 15, 12, 0, tzinfo=datetime.timezone.utc), None, None, 2015, None), {'unique_key': 0, 'address': 1, 'census_tract': 2, 'clearance_date': 3, 'clearance_status': 4, 'council_district_code': 5, 'description': 6, 'district': 7, 'latitude': 8, 'longitude': 9, 'location': 10, 'location_description': 11, 'primary_type': 12, 'timestamp': 13, 'x_coordinate': 14, 'y_coordinate': 15, 'year': 16, 'zipcode': 17})\n",
            "Row((20151542027, 'Austin, TX', None, datetime.datetime(2015, 7, 24, 12, 0, tzinfo=datetime.timezone.utc), 'Not cleared', None, 'RAPE                          ', 'D', None, None, None, 'nan', 'Rape', datetime.datetime(2015, 6, 3, 12, 0, tzinfo=datetime.timezone.utc), None, None, 2015, None), {'unique_key': 0, 'address': 1, 'census_tract': 2, 'clearance_date': 3, 'clearance_status': 4, 'council_district_code': 5, 'description': 6, 'district': 7, 'latitude': 8, 'longitude': 9, 'location': 10, 'location_description': 11, 'primary_type': 12, 'timestamp': 13, 'x_coordinate': 14, 'y_coordinate': 15, 'year': 16, 'zipcode': 17})\n",
            "Row((20152001758, 'Austin, TX', None, datetime.datetime(2015, 8, 15, 12, 0, tzinfo=datetime.timezone.utc), 'Not cleared', None, 'RAPE                          ', 'F', None, None, None, 'nan', 'Rape', datetime.datetime(2015, 7, 19, 12, 0, tzinfo=datetime.timezone.utc), None, None, 2015, None), {'unique_key': 0, 'address': 1, 'census_tract': 2, 'clearance_date': 3, 'clearance_status': 4, 'council_district_code': 5, 'description': 6, 'district': 7, 'latitude': 8, 'longitude': 9, 'location': 10, 'location_description': 11, 'primary_type': 12, 'timestamp': 13, 'x_coordinate': 14, 'y_coordinate': 15, 'year': 16, 'zipcode': 17})\n",
            "Row((20151340282, 'Austin, TX', None, datetime.datetime(2015, 6, 15, 12, 0, tzinfo=datetime.timezone.utc), 'Cleared by Exception', None, 'RAPE                          ', 'UK', None, None, None, 'nan', 'Rape', datetime.datetime(2015, 5, 14, 12, 0, tzinfo=datetime.timezone.utc), None, None, 2015, None), {'unique_key': 0, 'address': 1, 'census_tract': 2, 'clearance_date': 3, 'clearance_status': 4, 'council_district_code': 5, 'description': 6, 'district': 7, 'latitude': 8, 'longitude': 9, 'location': 10, 'location_description': 11, 'primary_type': 12, 'timestamp': 13, 'x_coordinate': 14, 'y_coordinate': 15, 'year': 16, 'zipcode': 17})\n",
            "Row((20151871268, 'Austin, TX', None, datetime.datetime(2015, 10, 27, 12, 0, tzinfo=datetime.timezone.utc), 'Not cleared', None, 'RAPE                          ', 'UK', None, None, None, 'nan', 'Rape', datetime.datetime(2015, 7, 6, 12, 0, tzinfo=datetime.timezone.utc), None, None, 2015, None), {'unique_key': 0, 'address': 1, 'census_tract': 2, 'clearance_date': 3, 'clearance_status': 4, 'council_district_code': 5, 'description': 6, 'district': 7, 'latitude': 8, 'longitude': 9, 'location': 10, 'location_description': 11, 'primary_type': 12, 'timestamp': 13, 'x_coordinate': 14, 'y_coordinate': 15, 'year': 16, 'zipcode': 17})\n"
          ]
        }
      ]
    },
    {
      "cell_type": "markdown",
      "source": [
        "## Apa saja jenis tindak kejahatan yang terjadi di kota Austin selama tahun 2016?\n",
        "\n",
        "Rape, Theft, Robbery, Agg Assault, Burglary, Auto Theft, Murder"
      ],
      "metadata": {
        "id": "whL3f1WU12up"
      }
    },
    {
      "cell_type": "code",
      "source": [
        "# Jenis tindak kejahatan yang terjadi di Austin pada tahun 2016\n",
        "query = \"\"\"\n",
        "    SELECT DISTINCT primary_type\n",
        "    FROM `bigquery-public-data.austin_crime.crime`\n",
        "    WHERE EXTRACT(YEAR FROM timestamp) = 2016\n",
        "\"\"\"\n",
        "\n",
        "# Eksekusi query dan ambil hasilnya\n",
        "query_job = client.query(query)\n",
        "results = query_job.result()\n",
        "\n",
        "# Menampilkan hasil\n",
        "print(\"Jenis Tindak Kejahatan yang Terjadi di Kota Austin pada Tahun 2016:\")\n",
        "for row in results:\n",
        "    print(row.primary_type)"
      ],
      "metadata": {
        "colab": {
          "base_uri": "https://localhost:8080/"
        },
        "id": "cm2AxQUP0WkE",
        "outputId": "9fa42df1-7f16-4a33-d786-c1d741eb06a3"
      },
      "execution_count": 20,
      "outputs": [
        {
          "output_type": "stream",
          "name": "stdout",
          "text": [
            "Jenis Tindak Kejahatan yang Terjadi di Kota Austin pada Tahun 2016:\n",
            "Rape\n",
            "Theft\n",
            "Robbery\n",
            "Agg Assault\n",
            "Burglary\n",
            "Auto Theft\n",
            "Murder\n"
          ]
        }
      ]
    },
    {
      "cell_type": "markdown",
      "source": [
        "## Berapa banyak kasus tindak kejahatan berdasarkan kasus pembersihannya (clearance status) selama tahun 2016?\n",
        "\n",
        "Not cleared: 29715\n",
        "Cleared by Exception: 1014\n",
        "None: 1719\n",
        "Cleared by Arrest: 5013"
      ],
      "metadata": {
        "id": "jEl4CpMY1_eT"
      }
    },
    {
      "cell_type": "code",
      "source": [
        "# Jumlah kasus tindak kejahatan berdasarkan clearance_status pada tahun 2016\n",
        "query = \"\"\"\n",
        "    SELECT clearance_status, COUNT(*) AS total_cases\n",
        "    FROM `bigquery-public-data.austin_crime.crime`\n",
        "    WHERE EXTRACT(YEAR FROM timestamp) = 2016\n",
        "    GROUP BY clearance_status\n",
        "\"\"\"\n",
        "\n",
        "# Eksekusi query dan ambil hasilnya\n",
        "query_job = client.query(query)\n",
        "results = query_job.result()\n",
        "\n",
        "# Menampilkan hasil\n",
        "print(\"Jumlah Kasus Tindak Kejahatan Berdasarkan Clearance Status pada Tahun 2016:\")\n",
        "for row in results:\n",
        "    print(f\"{row.clearance_status}: {row.total_cases}\")"
      ],
      "metadata": {
        "colab": {
          "base_uri": "https://localhost:8080/"
        },
        "id": "_BG8qpbz08R3",
        "outputId": "a639faa3-ac44-492c-b35c-a5db4f0809b2"
      },
      "execution_count": 21,
      "outputs": [
        {
          "output_type": "stream",
          "name": "stdout",
          "text": [
            "Jumlah Kasus Tindak Kejahatan Berdasarkan Clearance Status pada Tahun 2016:\n",
            "Not cleared: 29715\n",
            "Cleared by Exception: 1014\n",
            "None: 1719\n",
            "Cleared by Arrest: 5013\n"
          ]
        }
      ]
    },
    {
      "cell_type": "markdown",
      "source": [
        "## Jenis kejahatan apa saja yang paling banyak belum terselesaikan kasusnya di tahun 2016?\n",
        "\n",
        "Thefty, BUrgalary, Auto Theft, Agg Assault, Robbery"
      ],
      "metadata": {
        "id": "WWHxhv_v2H9r"
      }
    },
    {
      "cell_type": "code",
      "source": [
        "# Jenis tindak kejahatan yang paling banyak belum terselesaikan kasusnya pada tahun 2016\n",
        "query = \"\"\"\n",
        "    SELECT primary_type, COUNT(*) AS total_cases\n",
        "    FROM `bigquery-public-data.austin_crime.crime`\n",
        "    WHERE EXTRACT(YEAR FROM timestamp) = 2016 AND clearance_status = 'Not cleared'\n",
        "    GROUP BY primary_type\n",
        "    ORDER BY total_cases DESC\n",
        "    LIMIT 5\n",
        "\"\"\"\n",
        "\n",
        "# Eksekusi query dan ambil hasilnya\n",
        "query_job = client.query(query)\n",
        "results = query_job.result()\n",
        "\n",
        "# Menampilkan hasil\n",
        "print(\"Jenis Tindak Kejahatan yang Paling Banyak Belum Terselesaikan Kasusnya pada Tahun 2016:\")\n",
        "for row in results:\n",
        "    print(f\"{row.primary_type}: {row.total_cases}\")"
      ],
      "metadata": {
        "colab": {
          "base_uri": "https://localhost:8080/"
        },
        "id": "YIWNC1eD1Pix",
        "outputId": "b6957a64-4948-40f2-f33d-f96c582c6bd4"
      },
      "execution_count": 22,
      "outputs": [
        {
          "output_type": "stream",
          "name": "stdout",
          "text": [
            "Jenis Tindak Kejahatan yang Paling Banyak Belum Terselesaikan Kasusnya pada Tahun 2016:\n",
            "Theft: 21894\n",
            "Burglary: 4440\n",
            "Auto Theft: 1540\n",
            "Agg Assault: 919\n",
            "Robbery: 560\n"
          ]
        }
      ]
    },
    {
      "cell_type": "markdown",
      "source": [
        "## **Di bulan apa di tahun 2016 kasus pencurian (theft) sangat banyak terjadi?**\n",
        "\n",
        "Kasus pencurian (theft) sangat banyak terjadi pada bulan 4 dengan total kasus 2282"
      ],
      "metadata": {
        "id": "RB59i_XV2NOV"
      }
    },
    {
      "cell_type": "code",
      "source": [
        "# Menentukan bulan di tahun 2016 ketika kasus pencurian (theft) terjadi sangat banyak\n",
        "query = \"\"\"\n",
        "    SELECT EXTRACT(MONTH FROM timestamp) AS month, COUNT(*) AS total_cases\n",
        "    FROM `bigquery-public-data.austin_crime.crime`\n",
        "    WHERE EXTRACT(YEAR FROM timestamp) = 2016 AND primary_type = 'Theft'\n",
        "    GROUP BY month\n",
        "    ORDER BY total_cases DESC\n",
        "    LIMIT 1\n",
        "\"\"\"\n",
        "\n",
        "# Eksekusi query dan ambil hasilnya\n",
        "query_job = client.query(query)\n",
        "results = query_job.result()\n",
        "\n",
        "# Menampilkan hasil\n",
        "for row in results:\n",
        "    month = row.month\n",
        "    total_cases = row.total_cases\n",
        "    print(f\"Kasus pencurian (theft) sangat banyak terjadi pada bulan {month} dengan total kasus {total_cases}\")"
      ],
      "metadata": {
        "colab": {
          "base_uri": "https://localhost:8080/"
        },
        "id": "xGdjkY101WLC",
        "outputId": "ae388387-bbdf-4700-826b-92f973d25633"
      },
      "execution_count": 23,
      "outputs": [
        {
          "output_type": "stream",
          "name": "stdout",
          "text": [
            "Kasus pencurian (theft) sangat banyak terjadi pada bulan 4 dengan total kasus 2282\n"
          ]
        }
      ]
    },
    {
      "cell_type": "markdown",
      "source": [
        "## **Di distrik apa yang paling banyak terjadi kasus pencurian selama 2016?**\n",
        "\n",
        "Distrik dengan kasus pencurian (theft) terbanyak pada tahun 2016: D dengan total kasus 4117"
      ],
      "metadata": {
        "id": "wX-Sntb92Wzz"
      }
    },
    {
      "cell_type": "code",
      "source": [
        "# Menentukan distrik dengan jumlah kasus pencurian (theft) terbanyak selama tahun 2016\n",
        "query = \"\"\"\n",
        "    SELECT district, COUNT(*) AS total_cases\n",
        "    FROM `bigquery-public-data.austin_crime.crime`\n",
        "    WHERE EXTRACT(YEAR FROM timestamp) = 2016 AND primary_type = 'Theft'\n",
        "    GROUP BY district\n",
        "    ORDER BY total_cases DESC\n",
        "    LIMIT 1\n",
        "\"\"\"\n",
        "\n",
        "# Eksekusi query dan ambil hasilnya\n",
        "query_job = client.query(query)\n",
        "results = query_job.result()\n",
        "\n",
        "# Menampilkan hasil\n",
        "for row in results:\n",
        "    district = row.district\n",
        "    total_cases = row.total_cases\n",
        "    print(f\"Distrik dengan kasus pencurian (theft) terbanyak pada tahun 2016: {district} dengan total kasus {total_cases}\")"
      ],
      "metadata": {
        "colab": {
          "base_uri": "https://localhost:8080/"
        },
        "id": "mOJ-F9zi2Tjk",
        "outputId": "5a72e9b0-3563-4cf9-8532-5523d29dfd10"
      },
      "execution_count": 24,
      "outputs": [
        {
          "output_type": "stream",
          "name": "stdout",
          "text": [
            "Distrik dengan kasus pencurian (theft) terbanyak pada tahun 2016: D dengan total kasus 4117\n"
          ]
        }
      ]
    },
    {
      "cell_type": "markdown",
      "source": [
        "***Berapa lama rata-rata waktu (dalam hari) kasus tindak kejahatan 'theft' terselesaikan sejak kasus tersebut terangkat selama tahun 2016?***\n",
        "\n",
        "Rata-rata waktu penyelesaian kasus tindak kejahatan 'theft' selama tahun 2016: 17.63 hari"
      ],
      "metadata": {
        "id": "TIjc5-fs2wfW"
      }
    },
    {
      "cell_type": "code",
      "source": [
        "# Mnghitung rata-rata waktu (dalam hari) untuk menyelesaikan kasus tindak kejahatan 'theft'\n",
        "query = \"\"\"\n",
        "    SELECT AVG(DATE_DIFF(clearance_date, timestamp, DAY)) AS average_duration\n",
        "    FROM `bigquery-public-data.austin_crime.crime`\n",
        "    WHERE EXTRACT(YEAR FROM timestamp) = 2016 AND primary_type = 'Theft'\n",
        "\"\"\"\n",
        "\n",
        "# Eksekusi query dan ambil hasilnya\n",
        "query_job = client.query(query)\n",
        "results = query_job.result()\n",
        "\n",
        "# Menampilkan hasil\n",
        "for row in results:\n",
        "    average_duration = row.average_duration\n",
        "    print(f\"Rata-rata waktu penyelesaian kasus tindak kejahatan 'theft' selama tahun 2016: {average_duration:.2f} hari\")"
      ],
      "metadata": {
        "colab": {
          "base_uri": "https://localhost:8080/"
        },
        "id": "DKH15Lac2daz",
        "outputId": "1be8c1df-a179-4b9c-ff2c-4cabd977f2f3"
      },
      "execution_count": 25,
      "outputs": [
        {
          "output_type": "stream",
          "name": "stdout",
          "text": [
            "Rata-rata waktu penyelesaian kasus tindak kejahatan 'theft' selama tahun 2016: 17.63 hari\n"
          ]
        }
      ]
    },
    {
      "cell_type": "markdown",
      "source": [
        "### ***Dari penjabaran yang sudah kamu bahas (pertanyaan 2-7), apa kesimpulan yang kamu dapat sampaikan?***"
      ],
      "metadata": {
        "id": "Jcf3k3D02mZM"
      }
    },
    {
      "cell_type": "markdown",
      "source": [
        "Selama tahun 2016 telah terjadi banyak sekali tindak kejahatan dimana biasanya tindak kejahatan yang terjadi adalah Rape, Theft, Robbery, Agg Assault, Burglary, Auto Theft, Murder. Yangmana kasus tindak kejahatan theft adalah kasus terbanyak yang belum terselesaikan dengan jumlah 21,894. Angka ini disumbang dari bulan April sebagai kasus pencurian terbanyak sejumlah 2,282 kasus.\n",
        "Kasus pencurian terbanyak terjadi di distrik D dimana di distrik ini banyak orang kehilangan harta benda karena pencurian.\n",
        "\n",
        "Sehingga rekomendasi yang bisa saya berikan adalah memperkuat keamanan pada semua distrik teruatama distrik D, ditambah agar angka ini bisa terus menurun kita bisa melakukan pencegahan dengan memasang CCTV, menerapkan double lock pada pintu."
      ],
      "metadata": {
        "id": "Wa3lMsIf4TsD"
      }
    }
  ]
}