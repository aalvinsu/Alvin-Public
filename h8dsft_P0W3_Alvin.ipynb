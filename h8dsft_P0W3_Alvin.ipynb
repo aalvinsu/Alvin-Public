{
  "nbformat": 4,
  "nbformat_minor": 0,
  "metadata": {
    "colab": {
      "provenance": [],
      "authorship_tag": "ABX9TyMKCV55UIrMPrymuDygotY1",
      "include_colab_link": true
    },
    "kernelspec": {
      "name": "python3",
      "display_name": "Python 3"
    },
    "language_info": {
      "name": "python"
    }
  },
  "cells": [
    {
      "cell_type": "markdown",
      "metadata": {
        "id": "view-in-github",
        "colab_type": "text"
      },
      "source": [
        "<a href=\"https://colab.research.google.com/github/aalvinsu/Alvin-Public/blob/main/h8dsft_P0W3_Alvin.ipynb\" target=\"_parent\"><img src=\"https://colab.research.google.com/assets/colab-badge.svg\" alt=\"Open In Colab\"/></a>"
      ]
    },
    {
      "cell_type": "markdown",
      "source": [
        "## IMPOR DATA"
      ],
      "metadata": {
        "id": "SBa9erV3Pvnd"
      }
    },
    {
      "cell_type": "code",
      "execution_count": 132,
      "metadata": {
        "id": "Z1AXFo288BrW"
      },
      "outputs": [],
      "source": [
        "from google.colab import auth\n",
        "from google.cloud import bigquery\n",
        "\n",
        "# Autentikasi akun Google\n",
        "auth.authenticate_user()\n",
        "\n",
        "# Membuat klien BigQuery\n",
        "client = bigquery.Client(project='iconic-elevator-196204')"
      ]
    },
    {
      "cell_type": "markdown",
      "source": [
        "## EXPLOR DATA ANALIsis"
      ],
      "metadata": {
        "id": "__G7OHc1P0QV"
      }
    },
    {
      "cell_type": "code",
      "source": [
        "# mencari Tahu Data Ini Memiliki Table Apa Saja\n",
        "query = '''\n",
        "SELECT\n",
        "  table_name\n",
        "FROM\n",
        "  `bigquery-public-data.thelook_ecommerce.INFORMATION_SCHEMA.TABLES`\n",
        "'''\n",
        "\n",
        "# Eksekusi query dan mendapatkan hasil\n",
        "query_job = client.query(query)\n",
        "results = query_job.result()\n",
        "\n",
        "# Menampilkan hasil\n",
        "for row in results:\n",
        "    print(row.table_name)"
      ],
      "metadata": {
        "colab": {
          "base_uri": "https://localhost:8080/"
        },
        "id": "dVqB7DlqDBBY",
        "outputId": "eed4db31-de3e-47bb-e858-0906e2ee0298"
      },
      "execution_count": 133,
      "outputs": [
        {
          "output_type": "stream",
          "name": "stdout",
          "text": [
            "users\n",
            "order_items\n",
            "distribution_centers\n",
            "inventory_items\n",
            "products\n",
            "orders\n",
            "events\n"
          ]
        }
      ]
    },
    {
      "cell_type": "code",
      "source": [
        "# Menganalisis Table Orders\n",
        "query = '''\n",
        "SELECT *\n",
        "FROM `bigquery-public-data.thelook_ecommerce.orders`\n",
        "LIMIT 10\n",
        "'''\n",
        "\n",
        "df = client.query(query).to_dataframe()"
      ],
      "metadata": {
        "id": "iekBWduj-OYf"
      },
      "execution_count": 134,
      "outputs": []
    },
    {
      "cell_type": "code",
      "source": [
        "# Menampilkan 5 data pertama\n",
        "print(df.head())"
      ],
      "metadata": {
        "colab": {
          "base_uri": "https://localhost:8080/"
        },
        "id": "QEFqXrqn_igk",
        "outputId": "02c23cac-fa99-4958-f4b2-d16991184472"
      },
      "execution_count": 135,
      "outputs": [
        {
          "output_type": "stream",
          "name": "stdout",
          "text": [
            "   order_id  user_id   status gender                       created_at  \\\n",
            "0        13       13  Shipped      F        2021-11-16 13:28:00+00:00   \n",
            "1        19       18  Shipped      F 2023-06-16 03:01:31.810245+00:00   \n",
            "2        21       19  Shipped      F        2022-09-15 07:07:00+00:00   \n",
            "3        23       21  Shipped      F        2021-11-06 14:44:00+00:00   \n",
            "4        24       22  Shipped      F        2023-05-27 06:51:00+00:00   \n",
            "\n",
            "  returned_at                       shipped_at delivered_at  num_of_item  \n",
            "0         NaT        2021-11-17 22:00:00+00:00          NaT            1  \n",
            "1         NaT 2023-06-16 04:52:31.810245+00:00          NaT            1  \n",
            "2         NaT        2022-09-16 16:59:00+00:00          NaT            1  \n",
            "3         NaT        2021-11-08 23:41:00+00:00          NaT            1  \n",
            "4         NaT        2023-05-28 19:04:00+00:00          NaT            1  \n"
          ]
        }
      ]
    },
    {
      "cell_type": "markdown",
      "source": [
        "***1. Berapa jumlah transaksi yang berstatus Complete tiap bulan selama Q1 sampai Q3 di tahun 2022? Insight apa yang bisa kamu berikan?***\n",
        "\n",
        "Insight yang bisa diberikan adalah data menunjukkan adanya pertumbuhan pada setiap bulan, dimana memang transaksi dari bulan ke bulan mengalami peningkatan."
      ],
      "metadata": {
        "id": "bgeOWiJwQHQR"
      }
    },
    {
      "cell_type": "code",
      "source": [
        "# Jumlah transaksi yang berstatus compelet setiap bulan selama Q1-Q3 di tahun 2022\n",
        "\n",
        "query = '''\n",
        "SELECT\n",
        "  EXTRACT(MONTH FROM TIMESTAMP_TRUNC(shipped_at, MONTH)) AS bulan,\n",
        "  COUNT(*) AS jumlah_transaksi\n",
        "FROM\n",
        "  `bigquery-public-data.thelook_ecommerce.orders`\n",
        "WHERE\n",
        "  TIMESTAMP_TRUNC(shipped_at, YEAR) = TIMESTAMP(\"2022-01-01T00:00:00Z\")\n",
        "  AND TIMESTAMP_TRUNC(shipped_at, QUARTER) BETWEEN TIMESTAMP(\"2022-01-01T00:00:00Z\") AND TIMESTAMP(\"2022-09-30T23:59:59Z\")\n",
        "  AND status = 'Shipped'\n",
        "GROUP BY\n",
        "  bulan\n",
        "ORDER BY\n",
        "  bulan\n",
        "'''\n",
        "\n",
        "# Eksekusi query dan mendapatkan hasil\n",
        "query_job = client.query(query)\n",
        "results = query_job.result()\n",
        "\n",
        "# Menampilkan hasil\n",
        "for row in results:\n",
        "    print(f'Bulan: {row.bulan}, Jumlah Transaksi: {row.jumlah_transaksi}')"
      ],
      "metadata": {
        "colab": {
          "base_uri": "https://localhost:8080/"
        },
        "id": "rGfNtIxWEsbo",
        "outputId": "7749aea5-1318-483f-be45-4a844d32735d"
      },
      "execution_count": 136,
      "outputs": [
        {
          "output_type": "stream",
          "name": "stdout",
          "text": [
            "Bulan: 1, Jumlah Transaksi: 760\n",
            "Bulan: 2, Jumlah Transaksi: 781\n",
            "Bulan: 3, Jumlah Transaksi: 871\n",
            "Bulan: 4, Jumlah Transaksi: 882\n",
            "Bulan: 5, Jumlah Transaksi: 964\n",
            "Bulan: 6, Jumlah Transaksi: 961\n",
            "Bulan: 7, Jumlah Transaksi: 1097\n",
            "Bulan: 8, Jumlah Transaksi: 1137\n",
            "Bulan: 9, Jumlah Transaksi: 1251\n"
          ]
        }
      ]
    },
    {
      "cell_type": "markdown",
      "source": [
        "***Berikan informasi total penjualan (dalam USD) tiap bulan selama Q1 sampai Q3 di tahun 2022! (Hanya yang transaksi berstatus Complete. Apa informasi yang bisa kamu sampaikan?)***\n",
        "\n",
        "Informasi yang bisa saya sampaikan adalah adanya pertumbuhan order yang secara umum terus meningkat menyebabkan penjualan juga meningkat, hanya saja memang terjadi fluktuatif pada bulan tertentu."
      ],
      "metadata": {
        "id": "7ppPIrf_Qgzq"
      }
    },
    {
      "cell_type": "code",
      "source": [
        "# Total penjualan dalam USD setiap bulan selama Q1-Q3\n",
        "query = '''\n",
        "SELECT\n",
        "  EXTRACT(MONTH FROM TIMESTAMP_TRUNC(o.shipped_at, MONTH)) AS bulan,\n",
        "  SUM(i.cost) AS total_penjualan\n",
        "FROM\n",
        "  `bigquery-public-data.thelook_ecommerce.orders` AS o\n",
        "JOIN\n",
        "  `bigquery-public-data.thelook_ecommerce.inventory_items` AS i\n",
        "ON\n",
        "  o.created_at = i.created_at\n",
        "WHERE\n",
        "  TIMESTAMP_TRUNC(o.shipped_at, YEAR) = TIMESTAMP(\"2022-01-01T00:00:00Z\")\n",
        "  AND TIMESTAMP_TRUNC(o.shipped_at, QUARTER) BETWEEN TIMESTAMP(\"2022-01-01T00:00:00Z\") AND TIMESTAMP(\"2022-09-30T23:59:59Z\")\n",
        "  AND o.status = 'Shipped'\n",
        "GROUP BY\n",
        "  bulan\n",
        "ORDER BY\n",
        "  bulan\n",
        "'''\n",
        "\n",
        "# Eksekusi query dan mendapatkan hasil\n",
        "query_job = client.query(query)\n",
        "results = query_job.result()\n",
        "\n",
        "# Menampilkan hasil\n",
        "for row in results:\n",
        "    print(f'Bulan: {row.bulan}, Total Penjualan: {row.total_penjualan}')"
      ],
      "metadata": {
        "colab": {
          "base_uri": "https://localhost:8080/"
        },
        "id": "RqoLL4GOKYSW",
        "outputId": "e9a6093f-a7a8-4ce6-d9b7-1a192d717d3c"
      },
      "execution_count": 137,
      "outputs": [
        {
          "output_type": "stream",
          "name": "stdout",
          "text": [
            "Bulan: 1, Total Penjualan: 3977.7950241328763\n",
            "Bulan: 2, Total Penjualan: 5060.143262507887\n",
            "Bulan: 3, Total Penjualan: 4634.83821802552\n",
            "Bulan: 4, Total Penjualan: 4648.569012535104\n",
            "Bulan: 5, Total Penjualan: 7292.559485617736\n",
            "Bulan: 6, Total Penjualan: 5302.233582570643\n",
            "Bulan: 7, Total Penjualan: 7581.61916142278\n",
            "Bulan: 8, Total Penjualan: 6344.954737478664\n",
            "Bulan: 9, Total Penjualan: 8983.815911798938\n"
          ]
        }
      ]
    },
    {
      "cell_type": "markdown",
      "source": [
        "***Berapa user yang melakukan transaksi berstatus Complete di tiap bulan dari Q1 sampai Q3 2022? Apa kesimpulanmu?***\n",
        "\n",
        "User secara general mengalami peningkatan dalam bertransaksi, hanya saja pada bulan ke 3 dan 4 mengalami sedikit penurunan yang perlu kita lihat penyebabnya dengan melakukan investigasi baik itu penurunan budget marketing, stock barang yang mungkin menipis, atau adanya kendala eksternal seperti adanya promo competitor yang lebih menggiurkan."
      ],
      "metadata": {
        "id": "VXiXolqHQypJ"
      }
    },
    {
      "cell_type": "code",
      "source": [
        "# Data Jumlah User\n",
        "query = '''\n",
        "SELECT\n",
        "  EXTRACT(MONTH FROM TIMESTAMP_TRUNC(o.shipped_at, MONTH)) AS bulan,\n",
        "  COUNT(DISTINCT o.user_id) AS jumlah_pengguna\n",
        "FROM\n",
        "  `bigquery-public-data.thelook_ecommerce.orders` AS o\n",
        "WHERE\n",
        "  TIMESTAMP_TRUNC(o.shipped_at, YEAR) = TIMESTAMP(\"2022-01-01T00:00:00Z\")\n",
        "  AND TIMESTAMP_TRUNC(o.shipped_at, QUARTER) BETWEEN TIMESTAMP(\"2022-01-01T00:00:00Z\") AND TIMESTAMP(\"2022-09-30T23:59:59Z\")\n",
        "  AND o.status = 'Complete'\n",
        "GROUP BY\n",
        "  bulan\n",
        "ORDER BY\n",
        "  bulan\n",
        "'''\n",
        "\n",
        "# Eksekusi query dan mendapatkan hasil\n",
        "query_job = client.query(query)\n",
        "results = query_job.result()\n",
        "\n",
        "# Menampilkan hasil\n",
        "for row in results:\n",
        "    print(f'Bulan: {row.bulan}, Jumlah Pengguna: {row.jumlah_pengguna}')"
      ],
      "metadata": {
        "colab": {
          "base_uri": "https://localhost:8080/"
        },
        "id": "eEqxp2SeLSli",
        "outputId": "449da079-4ef6-428b-a653-16d2960a1764"
      },
      "execution_count": 138,
      "outputs": [
        {
          "output_type": "stream",
          "name": "stdout",
          "text": [
            "Bulan: 1, Jumlah Pengguna: 622\n",
            "Bulan: 2, Jumlah Pengguna: 607\n",
            "Bulan: 3, Jumlah Pengguna: 746\n",
            "Bulan: 4, Jumlah Pengguna: 744\n",
            "Bulan: 5, Jumlah Pengguna: 808\n",
            "Bulan: 6, Jumlah Pengguna: 857\n",
            "Bulan: 7, Jumlah Pengguna: 910\n",
            "Bulan: 8, Jumlah Pengguna: 952\n",
            "Bulan: 9, Jumlah Pengguna: 1044\n"
          ]
        }
      ]
    },
    {
      "cell_type": "code",
      "source": [],
      "metadata": {
        "id": "s2PmFVymLixs"
      },
      "execution_count": 138,
      "outputs": []
    },
    {
      "cell_type": "markdown",
      "source": [
        "***4. Kategori produk apa saja yang paling banyak dibeli (staus transaksi: Complete) di tiap bulannya selama Q1 sampai Q3 tahun 2022? Berikan insight!***\n",
        "\n",
        "***5. Kategori produk apa saja yang paling banyak mendapatkan pendapatan (staus transaksi: Complete) di tiap bulannya selama Q1 sampai Q3 tahun 2022? Berikan insight!***\n",
        "\n",
        "Jawaban Nomor 4 dan 5:\n",
        "Kategori Outerwear & Coats, Pendapatan: 1002.9289868644682 pada bulan ke-6.\n",
        "Pada bulan ini terjadi peningkatabn pembelian Outerwear dan Coast karena pada bulan Juni tengah memasukki peralihan musim dari summe meuju auntum dimana udara akan terasa lebih dingin sehingga konsumen menyiapkan diri menghadapi musim gugur yang kemudian akan diikuti musim dingin."
      ],
      "metadata": {
        "id": "_dsM9A6pSEeh"
      }
    },
    {
      "cell_type": "code",
      "source": [
        "query = '''\n",
        "SELECT\n",
        "  EXTRACT(MONTH FROM TIMESTAMP_TRUNC(o.created_at, MONTH)) AS bulan,\n",
        "  i.product_category AS kategori_produk,\n",
        "  SUM(i.cost) AS total_pendapatan\n",
        "FROM\n",
        "  `bigquery-public-data.thelook_ecommerce.orders` AS o\n",
        "JOIN\n",
        "  `bigquery-public-data.thelook_ecommerce.inventory_items` AS i\n",
        "  ON o.created_at = i.created_at\n",
        "WHERE\n",
        "  TIMESTAMP_TRUNC(o.created_at, YEAR) = TIMESTAMP(\"2022-01-01T00:00:00Z\")\n",
        "  AND TIMESTAMP_TRUNC(o.created_at, QUARTER) BETWEEN TIMESTAMP(\"2022-01-01T00:00:00Z\") AND TIMESTAMP(\"2022-09-30T23:59:59Z\")\n",
        "  AND o.status = 'Complete'\n",
        "GROUP BY\n",
        "  bulan, kategori_produk\n",
        "ORDER BY\n",
        "  bulan, total_pendapatan DESC\n",
        "'''\n",
        "\n",
        "# Eksekusi query dan mendapatkan hasil\n",
        "query_job = client.query(query)\n",
        "results = query_job.result()\n",
        "\n",
        "# Menampilkan hasil\n",
        "for row in results:\n",
        "    print(f'Bulan: {row.bulan}, Kategori Produk: {row.kategori_produk}, Total Pendapatan: {row.total_pendapatan}')\n"
      ],
      "metadata": {
        "colab": {
          "base_uri": "https://localhost:8080/"
        },
        "id": "c8TynsFdRc9g",
        "outputId": "d819b4c2-1eb4-483c-a893-d48d8631ba35"
      },
      "execution_count": 139,
      "outputs": [
        {
          "output_type": "stream",
          "name": "stdout",
          "text": [
            "Bulan: 1, Kategori Produk: Jeans, Total Pendapatan: 687.843929518921\n",
            "Bulan: 1, Kategori Produk: Sweaters, Total Pendapatan: 381.66186164451494\n",
            "Bulan: 1, Kategori Produk: Fashion Hoodies & Sweatshirts, Total Pendapatan: 286.7194337397178\n",
            "Bulan: 1, Kategori Produk: Intimates, Total Pendapatan: 283.3591402664432\n",
            "Bulan: 1, Kategori Produk: Swim, Total Pendapatan: 266.10011337783874\n",
            "Bulan: 1, Kategori Produk: Shorts, Total Pendapatan: 240.11058044420747\n",
            "Bulan: 1, Kategori Produk: Outerwear & Coats, Total Pendapatan: 233.265300559948\n",
            "Bulan: 1, Kategori Produk: Tops & Tees, Total Pendapatan: 225.78586132600097\n",
            "Bulan: 1, Kategori Produk: Dresses, Total Pendapatan: 189.94955008415207\n",
            "Bulan: 1, Kategori Produk: Sleep & Lounge, Total Pendapatan: 145.29743910748084\n",
            "Bulan: 1, Kategori Produk: Pants, Total Pendapatan: 139.87573155168536\n",
            "Bulan: 1, Kategori Produk: Accessories, Total Pendapatan: 127.38729985208138\n",
            "Bulan: 1, Kategori Produk: Plus, Total Pendapatan: 111.90515957649345\n",
            "Bulan: 1, Kategori Produk: Blazers & Jackets, Total Pendapatan: 109.32377349764438\n",
            "Bulan: 1, Kategori Produk: Pants & Capris, Total Pendapatan: 99.41357059472085\n",
            "Bulan: 1, Kategori Produk: Leggings, Total Pendapatan: 96.75427790574942\n",
            "Bulan: 1, Kategori Produk: Active, Total Pendapatan: 93.69630090680236\n",
            "Bulan: 1, Kategori Produk: Socks, Total Pendapatan: 79.523790644086\n",
            "Bulan: 1, Kategori Produk: Suits & Sport Coats, Total Pendapatan: 67.6214003173843\n",
            "Bulan: 1, Kategori Produk: Maternity, Total Pendapatan: 52.179701220384985\n",
            "Bulan: 1, Kategori Produk: Suits, Total Pendapatan: 51.01244229940088\n",
            "Bulan: 1, Kategori Produk: Underwear, Total Pendapatan: 43.09105032658651\n",
            "Bulan: 1, Kategori Produk: Socks & Hosiery, Total Pendapatan: 19.8362396669744\n",
            "Bulan: 1, Kategori Produk: Jumpsuits & Rompers, Total Pendapatan: 12.792029870671481\n",
            "Bulan: 2, Kategori Produk: Jeans, Total Pendapatan: 474.8503896427533\n",
            "Bulan: 2, Kategori Produk: Swim, Total Pendapatan: 415.67815280042436\n",
            "Bulan: 2, Kategori Produk: Fashion Hoodies & Sweatshirts, Total Pendapatan: 372.45664043724224\n",
            "Bulan: 2, Kategori Produk: Sleep & Lounge, Total Pendapatan: 360.0606284221307\n",
            "Bulan: 2, Kategori Produk: Shorts, Total Pendapatan: 320.5774790849643\n",
            "Bulan: 2, Kategori Produk: Intimates, Total Pendapatan: 206.45416110819406\n",
            "Bulan: 2, Kategori Produk: Dresses, Total Pendapatan: 190.26869306407164\n",
            "Bulan: 2, Kategori Produk: Active, Total Pendapatan: 183.89603999446243\n",
            "Bulan: 2, Kategori Produk: Outerwear & Coats, Total Pendapatan: 182.62815181369908\n",
            "Bulan: 2, Kategori Produk: Suits & Sport Coats, Total Pendapatan: 164.3196291067627\n",
            "Bulan: 2, Kategori Produk: Tops & Tees, Total Pendapatan: 160.53199086217046\n",
            "Bulan: 2, Kategori Produk: Accessories, Total Pendapatan: 119.91139976307042\n",
            "Bulan: 2, Kategori Produk: Pants, Total Pendapatan: 112.94065220170086\n",
            "Bulan: 2, Kategori Produk: Plus, Total Pendapatan: 79.48094905346557\n",
            "Bulan: 2, Kategori Produk: Socks, Total Pendapatan: 74.38315999673694\n",
            "Bulan: 2, Kategori Produk: Leggings, Total Pendapatan: 48.215079816518426\n",
            "Bulan: 2, Kategori Produk: Underwear, Total Pendapatan: 46.14600979856938\n",
            "Bulan: 2, Kategori Produk: Clothing Sets, Total Pendapatan: 43.64999989047647\n",
            "Bulan: 2, Kategori Produk: Sweaters, Total Pendapatan: 39.64319978216216\n",
            "Bulan: 2, Kategori Produk: Maternity, Total Pendapatan: 38.590770819760415\n",
            "Bulan: 2, Kategori Produk: Pants & Capris, Total Pendapatan: 32.75220022836998\n",
            "Bulan: 2, Kategori Produk: Blazers & Jackets, Total Pendapatan: 22.67622078966743\n",
            "Bulan: 2, Kategori Produk: Socks & Hosiery, Total Pendapatan: 17.89755016489029\n",
            "Bulan: 2, Kategori Produk: Jumpsuits & Rompers, Total Pendapatan: 16.82438983629331\n",
            "Bulan: 2, Kategori Produk: Skirts, Total Pendapatan: 5.96309980403781\n",
            "Bulan: 3, Kategori Produk: Jeans, Total Pendapatan: 869.8091769603749\n",
            "Bulan: 3, Kategori Produk: Outerwear & Coats, Total Pendapatan: 618.2627319166786\n",
            "Bulan: 3, Kategori Produk: Fashion Hoodies & Sweatshirts, Total Pendapatan: 448.28481066295456\n",
            "Bulan: 3, Kategori Produk: Swim, Total Pendapatan: 439.4426227846361\n",
            "Bulan: 3, Kategori Produk: Sweaters, Total Pendapatan: 421.55726783831557\n",
            "Bulan: 3, Kategori Produk: Intimates, Total Pendapatan: 281.12237120807646\n",
            "Bulan: 3, Kategori Produk: Suits & Sport Coats, Total Pendapatan: 240.04348958558936\n",
            "Bulan: 3, Kategori Produk: Tops & Tees, Total Pendapatan: 212.6734604960596\n",
            "Bulan: 3, Kategori Produk: Pants, Total Pendapatan: 195.48800201296064\n",
            "Bulan: 3, Kategori Produk: Shorts, Total Pendapatan: 187.14451076789925\n",
            "Bulan: 3, Kategori Produk: Plus, Total Pendapatan: 151.94070815482826\n",
            "Bulan: 3, Kategori Produk: Sleep & Lounge, Total Pendapatan: 149.06650008045207\n",
            "Bulan: 3, Kategori Produk: Maternity, Total Pendapatan: 134.64003999552415\n",
            "Bulan: 3, Kategori Produk: Active, Total Pendapatan: 133.36990231988057\n",
            "Bulan: 3, Kategori Produk: Dresses, Total Pendapatan: 123.35215986305491\n",
            "Bulan: 3, Kategori Produk: Underwear, Total Pendapatan: 80.27497990792848\n",
            "Bulan: 3, Kategori Produk: Suits, Total Pendapatan: 79.94877161872343\n",
            "Bulan: 3, Kategori Produk: Socks, Total Pendapatan: 59.4332104000216\n",
            "Bulan: 3, Kategori Produk: Socks & Hosiery, Total Pendapatan: 54.47261975087702\n",
            "Bulan: 3, Kategori Produk: Skirts, Total Pendapatan: 54.35797911189915\n",
            "Bulan: 3, Kategori Produk: Clothing Sets, Total Pendapatan: 42.97999980859458\n",
            "Bulan: 3, Kategori Produk: Pants & Capris, Total Pendapatan: 39.19349990878254\n",
            "Bulan: 3, Kategori Produk: Blazers & Jackets, Total Pendapatan: 36.491660444446055\n",
            "Bulan: 3, Kategori Produk: Accessories, Total Pendapatan: 28.32838936296165\n",
            "Bulan: 3, Kategori Produk: Leggings, Total Pendapatan: 13.071199915240705\n",
            "Bulan: 4, Kategori Produk: Jeans, Total Pendapatan: 481.0406365602581\n",
            "Bulan: 4, Kategori Produk: Sleep & Lounge, Total Pendapatan: 397.10002590604637\n",
            "Bulan: 4, Kategori Produk: Outerwear & Coats, Total Pendapatan: 395.80988320859046\n",
            "Bulan: 4, Kategori Produk: Pants & Capris, Total Pendapatan: 377.7879998497665\n",
            "Bulan: 4, Kategori Produk: Dresses, Total Pendapatan: 367.5339190656144\n",
            "Bulan: 4, Kategori Produk: Fashion Hoodies & Sweatshirts, Total Pendapatan: 335.52439924762814\n",
            "Bulan: 4, Kategori Produk: Sweaters, Total Pendapatan: 289.5702004877713\n",
            "Bulan: 4, Kategori Produk: Swim, Total Pendapatan: 287.2408703504606\n",
            "Bulan: 4, Kategori Produk: Intimates, Total Pendapatan: 277.88437849110073\n",
            "Bulan: 4, Kategori Produk: Suits & Sport Coats, Total Pendapatan: 264.25930028454286\n",
            "Bulan: 4, Kategori Produk: Underwear, Total Pendapatan: 157.21477954838542\n",
            "Bulan: 4, Kategori Produk: Shorts, Total Pendapatan: 139.96105027074628\n",
            "Bulan: 4, Kategori Produk: Active, Total Pendapatan: 129.35197093263895\n",
            "Bulan: 4, Kategori Produk: Tops & Tees, Total Pendapatan: 124.41366056684791\n",
            "Bulan: 4, Kategori Produk: Plus, Total Pendapatan: 98.87419012082177\n",
            "Bulan: 4, Kategori Produk: Pants, Total Pendapatan: 89.99643082226224\n",
            "Bulan: 4, Kategori Produk: Clothing Sets, Total Pendapatan: 81.65699968859553\n",
            "Bulan: 4, Kategori Produk: Socks, Total Pendapatan: 76.1077011025203\n",
            "Bulan: 4, Kategori Produk: Maternity, Total Pendapatan: 73.30100009217858\n",
            "Bulan: 4, Kategori Produk: Skirts, Total Pendapatan: 43.22149982349947\n",
            "Bulan: 4, Kategori Produk: Jumpsuits & Rompers, Total Pendapatan: 30.522240936001985\n",
            "Bulan: 4, Kategori Produk: Accessories, Total Pendapatan: 28.51365980106863\n",
            "Bulan: 4, Kategori Produk: Socks & Hosiery, Total Pendapatan: 25.05245021998435\n",
            "Bulan: 4, Kategori Produk: Leggings, Total Pendapatan: 9.55089979455471\n",
            "Bulan: 4, Kategori Produk: Blazers & Jackets, Total Pendapatan: 8.66265026151985\n",
            "Bulan: 5, Kategori Produk: Jeans, Total Pendapatan: 730.6545265181358\n",
            "Bulan: 5, Kategori Produk: Tops & Tees, Total Pendapatan: 466.86619791321755\n",
            "Bulan: 5, Kategori Produk: Outerwear & Coats, Total Pendapatan: 399.1321076943901\n",
            "Bulan: 5, Kategori Produk: Sweaters, Total Pendapatan: 370.21216096964963\n",
            "Bulan: 5, Kategori Produk: Pants, Total Pendapatan: 312.42553738694363\n",
            "Bulan: 5, Kategori Produk: Shorts, Total Pendapatan: 300.0461000170927\n",
            "Bulan: 5, Kategori Produk: Blazers & Jackets, Total Pendapatan: 296.2217325282129\n",
            "Bulan: 5, Kategori Produk: Fashion Hoodies & Sweatshirts, Total Pendapatan: 232.8231101494165\n",
            "Bulan: 5, Kategori Produk: Swim, Total Pendapatan: 230.02146191404293\n",
            "Bulan: 5, Kategori Produk: Maternity, Total Pendapatan: 217.81831020253202\n",
            "Bulan: 5, Kategori Produk: Accessories, Total Pendapatan: 195.97759894123774\n",
            "Bulan: 5, Kategori Produk: Suits & Sport Coats, Total Pendapatan: 150.27717954437173\n",
            "Bulan: 5, Kategori Produk: Dresses, Total Pendapatan: 147.9814806717685\n",
            "Bulan: 5, Kategori Produk: Sleep & Lounge, Total Pendapatan: 132.15807913512185\n",
            "Bulan: 5, Kategori Produk: Underwear, Total Pendapatan: 130.1860997466283\n",
            "Bulan: 5, Kategori Produk: Intimates, Total Pendapatan: 122.34815911425292\n",
            "Bulan: 5, Kategori Produk: Plus, Total Pendapatan: 87.1842913513305\n",
            "Bulan: 5, Kategori Produk: Socks, Total Pendapatan: 78.5035903097073\n",
            "Bulan: 5, Kategori Produk: Suits, Total Pendapatan: 78.25700014084578\n",
            "Bulan: 5, Kategori Produk: Pants & Capris, Total Pendapatan: 71.11047273337348\n",
            "Bulan: 5, Kategori Produk: Skirts, Total Pendapatan: 55.46483969435454\n",
            "Bulan: 5, Kategori Produk: Active, Total Pendapatan: 51.060079674622116\n",
            "Bulan: 5, Kategori Produk: Socks & Hosiery, Total Pendapatan: 36.66744965219423\n",
            "Bulan: 5, Kategori Produk: Leggings, Total Pendapatan: 4.340789866301268\n",
            "Bulan: 6, Kategori Produk: Outerwear & Coats, Total Pendapatan: 1002.9289868644682\n",
            "Bulan: 6, Kategori Produk: Jeans, Total Pendapatan: 942.6955332017981\n",
            "Bulan: 6, Kategori Produk: Active, Total Pendapatan: 611.5453433408288\n",
            "Bulan: 6, Kategori Produk: Accessories, Total Pendapatan: 378.8824290107162\n",
            "Bulan: 6, Kategori Produk: Intimates, Total Pendapatan: 358.18060071424736\n",
            "Bulan: 6, Kategori Produk: Shorts, Total Pendapatan: 341.43022309278956\n",
            "Bulan: 6, Kategori Produk: Suits & Sport Coats, Total Pendapatan: 332.1919815728024\n",
            "Bulan: 6, Kategori Produk: Tops & Tees, Total Pendapatan: 309.0812016589643\n",
            "Bulan: 6, Kategori Produk: Fashion Hoodies & Sweatshirts, Total Pendapatan: 286.62334097760436\n",
            "Bulan: 6, Kategori Produk: Swim, Total Pendapatan: 274.3483325221921\n",
            "Bulan: 6, Kategori Produk: Sleep & Lounge, Total Pendapatan: 258.43700728142494\n",
            "Bulan: 6, Kategori Produk: Dresses, Total Pendapatan: 196.16212803907962\n",
            "Bulan: 6, Kategori Produk: Pants, Total Pendapatan: 141.84654882441535\n",
            "Bulan: 6, Kategori Produk: Pants & Capris, Total Pendapatan: 139.1968314395082\n",
            "Bulan: 6, Kategori Produk: Socks, Total Pendapatan: 101.24242164299352\n",
            "Bulan: 6, Kategori Produk: Maternity, Total Pendapatan: 87.86257986123681\n",
            "Bulan: 6, Kategori Produk: Plus, Total Pendapatan: 85.76011926565052\n",
            "Bulan: 6, Kategori Produk: Sweaters, Total Pendapatan: 82.70333083327681\n",
            "Bulan: 6, Kategori Produk: Leggings, Total Pendapatan: 69.89315015933514\n",
            "Bulan: 6, Kategori Produk: Skirts, Total Pendapatan: 67.01512023691565\n",
            "Bulan: 6, Kategori Produk: Underwear, Total Pendapatan: 62.02700002770871\n",
            "Bulan: 6, Kategori Produk: Clothing Sets, Total Pendapatan: 21.01049990952015\n",
            "Bulan: 6, Kategori Produk: Blazers & Jackets, Total Pendapatan: 13.72839998859018\n",
            "Bulan: 6, Kategori Produk: Socks & Hosiery, Total Pendapatan: 10.584699893574417\n",
            "Bulan: 6, Kategori Produk: Suits, Total Pendapatan: 9.820219895048735\n",
            "Bulan: 7, Kategori Produk: Jeans, Total Pendapatan: 559.057347911635\n",
            "Bulan: 7, Kategori Produk: Suits & Sport Coats, Total Pendapatan: 526.8973982989905\n",
            "Bulan: 7, Kategori Produk: Sweaters, Total Pendapatan: 447.5278216779626\n",
            "Bulan: 7, Kategori Produk: Tops & Tees, Total Pendapatan: 430.38863029556177\n",
            "Bulan: 7, Kategori Produk: Shorts, Total Pendapatan: 425.8865499223497\n",
            "Bulan: 7, Kategori Produk: Outerwear & Coats, Total Pendapatan: 344.75530354691375\n",
            "Bulan: 7, Kategori Produk: Sleep & Lounge, Total Pendapatan: 338.738248011114\n",
            "Bulan: 7, Kategori Produk: Active, Total Pendapatan: 310.5848898433006\n",
            "Bulan: 7, Kategori Produk: Intimates, Total Pendapatan: 291.6138121170246\n",
            "Bulan: 7, Kategori Produk: Accessories, Total Pendapatan: 262.95033710399724\n",
            "Bulan: 7, Kategori Produk: Fashion Hoodies & Sweatshirts, Total Pendapatan: 250.4421114295827\n",
            "Bulan: 7, Kategori Produk: Dresses, Total Pendapatan: 240.41731997000642\n",
            "Bulan: 7, Kategori Produk: Pants, Total Pendapatan: 239.92766546304634\n",
            "Bulan: 7, Kategori Produk: Swim, Total Pendapatan: 194.2749023537663\n",
            "Bulan: 7, Kategori Produk: Leggings, Total Pendapatan: 180.0657479881495\n",
            "Bulan: 7, Kategori Produk: Pants & Capris, Total Pendapatan: 83.53551061427011\n",
            "Bulan: 7, Kategori Produk: Plus, Total Pendapatan: 75.06559990405813\n",
            "Bulan: 7, Kategori Produk: Socks, Total Pendapatan: 64.58410041759686\n",
            "Bulan: 7, Kategori Produk: Underwear, Total Pendapatan: 61.56600010686088\n",
            "Bulan: 7, Kategori Produk: Suits, Total Pendapatan: 59.51379877566248\n",
            "Bulan: 7, Kategori Produk: Blazers & Jackets, Total Pendapatan: 49.56050034071086\n",
            "Bulan: 7, Kategori Produk: Maternity, Total Pendapatan: 28.90720068048239\n",
            "Bulan: 7, Kategori Produk: Socks & Hosiery, Total Pendapatan: 14.83119984911494\n",
            "Bulan: 7, Kategori Produk: Skirts, Total Pendapatan: 7.999950277158477\n",
            "Bulan: 7, Kategori Produk: Jumpsuits & Rompers, Total Pendapatan: 5.2606398685655\n",
            "Bulan: 8, Kategori Produk: Shorts, Total Pendapatan: 833.1148224950417\n",
            "Bulan: 8, Kategori Produk: Fashion Hoodies & Sweatshirts, Total Pendapatan: 677.6398507892806\n",
            "Bulan: 8, Kategori Produk: Outerwear & Coats, Total Pendapatan: 602.0228334000466\n",
            "Bulan: 8, Kategori Produk: Swim, Total Pendapatan: 524.7625324142417\n",
            "Bulan: 8, Kategori Produk: Jeans, Total Pendapatan: 446.7160500395228\n",
            "Bulan: 8, Kategori Produk: Sleep & Lounge, Total Pendapatan: 417.52566715428884\n",
            "Bulan: 8, Kategori Produk: Sweaters, Total Pendapatan: 372.6763894741142\n",
            "Bulan: 8, Kategori Produk: Tops & Tees, Total Pendapatan: 358.9646744609009\n",
            "Bulan: 8, Kategori Produk: Dresses, Total Pendapatan: 320.9016602154227\n",
            "Bulan: 8, Kategori Produk: Plus, Total Pendapatan: 232.15676954356627\n",
            "Bulan: 8, Kategori Produk: Intimates, Total Pendapatan: 202.29694007240744\n",
            "Bulan: 8, Kategori Produk: Maternity, Total Pendapatan: 184.9819399254671\n",
            "Bulan: 8, Kategori Produk: Pants, Total Pendapatan: 158.7256589579998\n",
            "Bulan: 8, Kategori Produk: Underwear, Total Pendapatan: 154.2345589585924\n",
            "Bulan: 8, Kategori Produk: Active, Total Pendapatan: 148.6812703975593\n",
            "Bulan: 8, Kategori Produk: Pants & Capris, Total Pendapatan: 93.80876969266825\n",
            "Bulan: 8, Kategori Produk: Socks, Total Pendapatan: 93.6065605824092\n",
            "Bulan: 8, Kategori Produk: Accessories, Total Pendapatan: 81.67225960252226\n",
            "Bulan: 8, Kategori Produk: Suits & Sport Coats, Total Pendapatan: 69.43040120676756\n",
            "Bulan: 8, Kategori Produk: Leggings, Total Pendapatan: 55.45628059477106\n",
            "Bulan: 8, Kategori Produk: Blazers & Jackets, Total Pendapatan: 51.06171018609866\n",
            "Bulan: 8, Kategori Produk: Socks & Hosiery, Total Pendapatan: 38.98260981825773\n",
            "Bulan: 8, Kategori Produk: Skirts, Total Pendapatan: 10.470809851592929\n",
            "Bulan: 8, Kategori Produk: Jumpsuits & Rompers, Total Pendapatan: 5.434100077246875\n",
            "Bulan: 9, Kategori Produk: Sweaters, Total Pendapatan: 946.211527069314\n",
            "Bulan: 9, Kategori Produk: Jeans, Total Pendapatan: 566.2807904122631\n",
            "Bulan: 9, Kategori Produk: Sleep & Lounge, Total Pendapatan: 522.4799582749254\n",
            "Bulan: 9, Kategori Produk: Swim, Total Pendapatan: 508.3543760298985\n",
            "Bulan: 9, Kategori Produk: Suits & Sport Coats, Total Pendapatan: 490.7802582136074\n",
            "Bulan: 9, Kategori Produk: Active, Total Pendapatan: 417.8285228724941\n",
            "Bulan: 9, Kategori Produk: Fashion Hoodies & Sweatshirts, Total Pendapatan: 401.3686000848837\n",
            "Bulan: 9, Kategori Produk: Shorts, Total Pendapatan: 290.9749587464248\n",
            "Bulan: 9, Kategori Produk: Intimates, Total Pendapatan: 266.6726784170528\n",
            "Bulan: 9, Kategori Produk: Tops & Tees, Total Pendapatan: 235.47526039339834\n",
            "Bulan: 9, Kategori Produk: Dresses, Total Pendapatan: 229.44929980878607\n",
            "Bulan: 9, Kategori Produk: Pants, Total Pendapatan: 191.98510390311347\n",
            "Bulan: 9, Kategori Produk: Accessories, Total Pendapatan: 188.45575978920957\n",
            "Bulan: 9, Kategori Produk: Pants & Capris, Total Pendapatan: 185.68909790631207\n",
            "Bulan: 9, Kategori Produk: Underwear, Total Pendapatan: 139.54198018059924\n",
            "Bulan: 9, Kategori Produk: Outerwear & Coats, Total Pendapatan: 130.46052040069878\n",
            "Bulan: 9, Kategori Produk: Maternity, Total Pendapatan: 96.12896004395323\n",
            "Bulan: 9, Kategori Produk: Socks, Total Pendapatan: 45.894460108904596\n",
            "Bulan: 9, Kategori Produk: Plus, Total Pendapatan: 44.113250769298524\n",
            "Bulan: 9, Kategori Produk: Socks & Hosiery, Total Pendapatan: 35.8905094015801\n",
            "Bulan: 9, Kategori Produk: Leggings, Total Pendapatan: 30.58199032001732\n",
            "Bulan: 9, Kategori Produk: Clothing Sets, Total Pendapatan: 25.53845100062638\n",
            "Bulan: 9, Kategori Produk: Blazers & Jackets, Total Pendapatan: 23.976069980860053\n",
            "Bulan: 9, Kategori Produk: Jumpsuits & Rompers, Total Pendapatan: 8.903149557797612\n"
          ]
        }
      ]
    },
    {
      "cell_type": "code",
      "source": [
        "# Melihat kategori penyumbang omset terbanyak\n",
        "query = '''\n",
        "SELECT\n",
        "  EXTRACT(MONTH FROM TIMESTAMP_TRUNC(o.created_at, MONTH)) AS bulan,\n",
        "  i.product_category AS kategori_produk,\n",
        "  SUM(i.cost) AS pendapatan\n",
        "FROM\n",
        "  `bigquery-public-data.thelook_ecommerce.orders` AS o\n",
        "JOIN\n",
        "  `bigquery-public-data.thelook_ecommerce.inventory_items` AS i\n",
        "  ON o.created_at = i.created_at\n",
        "WHERE\n",
        "  TIMESTAMP_TRUNC(o.created_at, YEAR) = TIMESTAMP(\"2022-01-01T00:00:00Z\")\n",
        "  AND TIMESTAMP_TRUNC(o.created_at, QUARTER) BETWEEN TIMESTAMP(\"2022-01-01T00:00:00Z\") AND TIMESTAMP(\"2022-09-30T23:59:59Z\")\n",
        "  AND o.status = 'Complete'\n",
        "GROUP BY\n",
        "  bulan, kategori_produk\n",
        "HAVING\n",
        "  SUM(i.cost) = (\n",
        "    SELECT\n",
        "      MAX(total_pendapatan)\n",
        "    FROM (\n",
        "      SELECT\n",
        "        EXTRACT(MONTH FROM TIMESTAMP_TRUNC(o.created_at, MONTH)) AS bulan,\n",
        "        i.product_category AS kategori_produk,\n",
        "        SUM(i.cost) AS total_pendapatan\n",
        "      FROM\n",
        "        `bigquery-public-data.thelook_ecommerce.orders` AS o\n",
        "      JOIN\n",
        "        `bigquery-public-data.thelook_ecommerce.inventory_items` AS i\n",
        "        ON o.created_at = i.created_at\n",
        "      WHERE\n",
        "        TIMESTAMP_TRUNC(o.created_at, YEAR) = TIMESTAMP(\"2022-01-01T00:00:00Z\")\n",
        "        AND TIMESTAMP_TRUNC(o.created_at, QUARTER) BETWEEN TIMESTAMP(\"2022-01-01T00:00:00Z\") AND TIMESTAMP(\"2022-09-30T23:59:59Z\")\n",
        "        AND o.status = 'Complete'\n",
        "      GROUP BY\n",
        "        bulan, kategori_produk\n",
        "    ) AS subquery\n",
        "    WHERE subquery.bulan = bulan\n",
        "  )\n",
        "ORDER BY\n",
        "  bulan\n",
        "'''\n",
        "\n",
        "# Eksekusi query dan mendapatkan hasil\n",
        "query_job = client.query(query)\n",
        "results = query_job.result()\n",
        "\n",
        "# Menampilkan hasil\n",
        "for row in results:\n",
        "    print(f'Bulan: {row.bulan}, Kategori Produk: {row.kategori_produk}, Pendapatan: {row.pendapatan}')"
      ],
      "metadata": {
        "colab": {
          "base_uri": "https://localhost:8080/"
        },
        "id": "TmtobRhxSSjh",
        "outputId": "b980985b-4585-4397-c30a-4ee98030f8dc"
      },
      "execution_count": 140,
      "outputs": [
        {
          "output_type": "stream",
          "name": "stdout",
          "text": [
            "Bulan: 6, Kategori Produk: Outerwear & Coats, Pendapatan: 1002.9289868644682\n"
          ]
        }
      ]
    },
    {
      "cell_type": "markdown",
      "source": [
        "Dibandingkan dengan jumlah transaksi dan total penjualan, mana yang paling berkaitan dengan jumlah user yang melakukan transaksi? Apa analisis yang dapat kamu jelaskan?\n",
        "\n",
        "Jika kita melihat pada data transaksi pada bulan ke 3 dan 4, ternyata mengalami penurunan walaupun terjadi peningkatan penjualan. Hal ini menunjukkan bahwa jumlah user tidak signifikan berpengaruh pada peningkatan penjualan."
      ],
      "metadata": {
        "id": "yiwe6Z9UTK8c"
      }
    },
    {
      "cell_type": "markdown",
      "source": [
        "***Berikan kesimpulan dari laporan/informasi yang dibuat berdasarkan problem statement/poin penjabaran menggunakan bahasa awam! (boleh dalam beberapa paragraf)***\n",
        "\n",
        "Kesimpulannya adalah bahwa jumlah transaksi tidak berhubungan dengan jumlah user dimana memang pada user yang mungkin datang ke website ecommerce ini, tetapi tidak melakukan pembelian.\n",
        "\n",
        "Guna mengubah user yang tidak melakukan pembelian ini menjadi pembeli harus ditingkatkan conversion ratenya, seperti menawarkan promo lebih menarik stok produk lebih bervariatif, dan juga memberikan diskon khusus untuk mereka agar mau bertransaksi"
      ],
      "metadata": {
        "id": "GmfJ9bYJT063"
      }
    },
    {
      "cell_type": "markdown",
      "source": [
        "***Apakah problem statement yang kamu definisikan di awal dapat terukur ketercapaiannya? berikan pendapatmu!***\n",
        "\n",
        "Dapat, kita bisa melihat jumlah pertumbuhan penjualan, pendapatan, hingga revenue dari perusahaan\n",
        "\n",
        "***Berdasarkan hasil analisis yang sudah kamu lakukan dari 6 penjabaran di atas, jika CEO perusahaanmu ingin menargetkan pendapatan di awal kuartal 4 harus mencapai $250,000, apakah masuk akal?***\n",
        "\n",
        "Menurut saya tidak masuk akal, karena dari historical data yang ada belum pernah company mencapai target tersebut bahkan mendekati angka tersebut.\n",
        "\n",
        "***CEO kamu menargetkan di kuartal 4 ada investor yang dapat menyuntikan dana ke perusahaanmu, dimana investor akan melihat GMV selama 3 kuartal terakhir serta prospek kedepan minimal di kuartal 4 akan seperti apa. Berikan informasi kepada CEO mu berdasarkan trend transaksi, jumlah user yang bertransaksi, dan GMV 3 kuartal terakhir, apakah perusahaanmu layak atau tidak mendapatkan investor baru!***\n",
        "\n",
        "Menurut saya layak karena trend pertumbuhan user cenderung positif, dan angka penjualan memiliki fluktuatif, namun trend ke arah positif. Hal ini membuat CEO bisa menggunakan data investasi untuk melakukan penjualan produk lebih bervariatif, membuat promo lebih menarik dan meningkatkan kualitas dari website agar user mau menjadi buyer."
      ],
      "metadata": {
        "id": "ZH0MPNrgUQaz"
      }
    }
  ]
}