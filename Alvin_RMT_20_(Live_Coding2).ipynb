{
  "nbformat": 4,
  "nbformat_minor": 0,
  "metadata": {
    "colab": {
      "provenance": [],
      "authorship_tag": "ABX9TyNHDq2db72SYBlmdenBAY+0",
      "include_colab_link": true
    },
    "kernelspec": {
      "name": "python3",
      "display_name": "Python 3"
    },
    "language_info": {
      "name": "python"
    }
  },
  "cells": [
    {
      "cell_type": "markdown",
      "metadata": {
        "id": "view-in-github",
        "colab_type": "text"
      },
      "source": [
        "<a href=\"https://colab.research.google.com/github/aalvinsu/Alvin-Public/blob/main/Alvin_RMT_20_(Live_Coding2).ipynb\" target=\"_parent\"><img src=\"https://colab.research.google.com/assets/colab-badge.svg\" alt=\"Open In Colab\"/></a>"
      ]
    },
    {
      "cell_type": "markdown",
      "source": [
        "Import Libary"
      ],
      "metadata": {
        "id": "KlEh5vmdi697"
      }
    },
    {
      "cell_type": "code",
      "execution_count": 28,
      "metadata": {
        "id": "HBWfFW-Nh8uq"
      },
      "outputs": [],
      "source": [
        "from sklearn.feature_extraction.text import CountVectorizer\n",
        "from sklearn.metrics.pairwise import cosine_similarity"
      ]
    },
    {
      "cell_type": "markdown",
      "source": [
        "Mendefiniskan kalimat-kalimat yang akan dianalisis"
      ],
      "metadata": {
        "id": "SvFBvCYti_tk"
      }
    },
    {
      "cell_type": "code",
      "source": [
        "sentences = [\"Julie loves me more than Linda loves me\",\n",
        "             \"Jane likes me more than Julie loves me\"]"
      ],
      "metadata": {
        "id": "MutV23N1i44y"
      },
      "execution_count": 29,
      "outputs": []
    },
    {
      "cell_type": "markdown",
      "source": [
        "Mentransformasikan kalmat menjadi vektor"
      ],
      "metadata": {
        "id": "q_DCNt43jNKD"
      }
    },
    {
      "cell_type": "code",
      "source": [
        "vectorizer = CountVectorizer().fit_transform(sentences)\n",
        "vectors = vectorizer.toarray()"
      ],
      "metadata": {
        "id": "gu79CBPmjLaW"
      },
      "execution_count": 30,
      "outputs": []
    },
    {
      "cell_type": "markdown",
      "source": [
        "Menghitung cosine vektor yang ada"
      ],
      "metadata": {
        "id": "3rzsCby_jYk8"
      }
    },
    {
      "cell_type": "code",
      "source": [
        "cosine_sim = cosine_similarity(vectors)"
      ],
      "metadata": {
        "id": "wjzf7MUhjVao"
      },
      "execution_count": 31,
      "outputs": []
    },
    {
      "cell_type": "markdown",
      "source": [
        "Menampilkan hasil cosine_sim"
      ],
      "metadata": {
        "id": "faGVzPLzjcWr"
      }
    },
    {
      "cell_type": "code",
      "source": [
        "print(cosine_sim)"
      ],
      "metadata": {
        "colab": {
          "base_uri": "https://localhost:8080/"
        },
        "id": "_r0nT7hyjb6i",
        "outputId": "86cbd4de-2a55-4479-889d-6f9f1034ddf5"
      },
      "execution_count": 32,
      "outputs": [
        {
          "output_type": "stream",
          "name": "stdout",
          "text": [
            "[[1.         0.82158384]\n",
            " [0.82158384 1.        ]]\n"
          ]
        }
      ]
    },
    {
      "cell_type": "markdown",
      "source": [
        "Karena hasilnya mendekati 1 maka artinya kalimat-kalimat tersebut mirip"
      ],
      "metadata": {
        "id": "UKAp3feGjmhU"
      }
    },
    {
      "cell_type": "markdown",
      "source": [
        "b. ***Jika meninjau dua buah vektor dan dihitung cosine similaritynya (cos theta), jelaskan secara singkat, jelas, padat apa makna cosine similarity yang bernilai 0 dan 1 (tinjau dari posisi dua vektor di koordinat kartesian)?***\n",
        "\n",
        "Semakin mendekati 0 cosine similarity maka semakin tidak mirip, begitu juga kalau angkanya mendekati 1 artinya kalimat yang dibandingkan sangat mirip\n",
        "\n",
        "***c. Mengapa cosine similarity harus melibatkan vektor bukan matriks?***\n",
        "\n",
        "Matriks terlalu banyak memiliki informasi, sementara vektor memiliki orientasi dalam ruang vektor yang berarti bisa menjadi representasi yang lebih sederhana. Sehingga dalam mencari cosine similarity, kita bisa menggunakan vektor agar lebih efisien dalam bekerja"
      ],
      "metadata": {
        "id": "Krcp7kpFj2FB"
      }
    },
    {
      "cell_type": "markdown",
      "source": [
        "Problem 2"
      ],
      "metadata": {
        "id": "tuY1xkrykl3P"
      }
    },
    {
      "cell_type": "code",
      "source": [
        "import pandas as pd\n",
        "from statistics import median, mode\n",
        "from scipy.stats import skew\n",
        "\n",
        "# Baca data dari file CSV\n",
        "data = pd.read_csv('/content/h8dsft_P0LC3_Alvin.csv')  # Ganti 'data.csv' dengan nama file data Anda\n"
      ],
      "metadata": {
        "id": "FT9zK_2sluvl"
      },
      "execution_count": 33,
      "outputs": []
    },
    {
      "cell_type": "code",
      "source": [
        "# Hitung rata-rata\n",
        "mean_value = data['sale_dollars'].mean()"
      ],
      "metadata": {
        "id": "CGtF85N_l1hO"
      },
      "execution_count": 34,
      "outputs": []
    },
    {
      "cell_type": "code",
      "source": [
        "# Hitung median\n",
        "median_value = median(data['sale_dollars'])"
      ],
      "metadata": {
        "id": "sf-swvN8l3Ur"
      },
      "execution_count": 35,
      "outputs": []
    },
    {
      "cell_type": "code",
      "source": [
        "# Hitung modus\n",
        "mode_value = mode(data['sale_dollars'])"
      ],
      "metadata": {
        "id": "YpBmzxP2l41j"
      },
      "execution_count": 36,
      "outputs": []
    },
    {
      "cell_type": "code",
      "source": [
        "# Tampilkan hasil\n",
        "print(\"Rata-rata:\", mean_value)\n",
        "print(\"Median:\", median_value)\n",
        "print(\"Modus:\", mode_value)"
      ],
      "metadata": {
        "colab": {
          "base_uri": "https://localhost:8080/"
        },
        "id": "Ht-9ZAKEl6HZ",
        "outputId": "777464b8-b17d-4952-c6f2-ea82a0387270"
      },
      "execution_count": 37,
      "outputs": [
        {
          "output_type": "stream",
          "name": "stdout",
          "text": [
            "Rata-rata: 226.37297399999997\n",
            "Median: 123.12\n",
            "Modus: 94.2\n"
          ]
        }
      ]
    },
    {
      "cell_type": "code",
      "source": [
        "# Hitung skewness\n",
        "skewness = skew(data['sale_dollars'])"
      ],
      "metadata": {
        "id": "2UwbGrCPmKoT"
      },
      "execution_count": 38,
      "outputs": []
    },
    {
      "cell_type": "code",
      "source": [
        "# Tentukan apakah data skew atau normal\n",
        "if skewness < -1:\n",
        "    skewness_type = \"Highly Negatively Skewed\"\n",
        "elif skewness > 1:\n",
        "    skewness_type = \"Highly Positively Skewed\"\n",
        "elif skewness < -0.5:\n",
        "    skewness_type = \"Moderately Negatively Skewed\"\n",
        "elif skewness > 0.5:\n",
        "    skewness_type = \"Moderately Positively Skewed\"\n",
        "else:\n",
        "    skewness_type = \"Approximately Symmetric (Normal)\""
      ],
      "metadata": {
        "id": "_qca04YKmRud"
      },
      "execution_count": 39,
      "outputs": []
    },
    {
      "cell_type": "code",
      "source": [
        "# Tampilkan hasil\n",
        "print(\"Skewness:\", skewness)\n",
        "print(\"Data Distribution:\", skewness_type)"
      ],
      "metadata": {
        "colab": {
          "base_uri": "https://localhost:8080/"
        },
        "id": "PgqKPi8VmTmc",
        "outputId": "cc014211-21d7-4070-fb15-fd572613c12e"
      },
      "execution_count": 40,
      "outputs": [
        {
          "output_type": "stream",
          "name": "stdout",
          "text": [
            "Skewness: 26.983807238119912\n",
            "Data Distribution: Highly Positively Skewed\n"
          ]
        }
      ]
    },
    {
      "cell_type": "markdown",
      "source": [
        "***Sebelum melakukan extreme value analysis, kamu harus melakukan pengecekan skewness dari distribusi datanya. Apakah datanya skew atau normal? jelaskan jawabanmu!***\n",
        "\n",
        "Skwness positif menanfakan bahwa nilai median akan lebih kecil dair mean.\n",
        "\n",
        "***Ada dua teknik untuk melakukan extreme value analysis, teknik yang mana yang kamu pakai? berikan alasanmu berdasarkan data!***\n",
        "\n",
        "metode nilai ekstrim (extreme value methods) seperti metode blok maksimum (block maxima), metode threshold exceedance (threshold exceedance methods), atau metode lainnya seperti analisis quantile (quantile analysis).\n",
        "Dalam kasus ini kita bisa menggunakan block maxima, yang berarti membagi data penjualan menjadi blok-blok waktu tertentu, kemudian mengindentifikasi nilai penjualan maksimum pada setiap blok."
      ],
      "metadata": {
        "id": "4P28uQQIoa-A"
      }
    }
  ]
}