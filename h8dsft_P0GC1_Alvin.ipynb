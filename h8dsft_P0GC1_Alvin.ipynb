{
  "nbformat": 4,
  "nbformat_minor": 0,
  "metadata": {
    "colab": {
      "provenance": [],
      "authorship_tag": "ABX9TyOZd/kIDXv/SQPgaA7paE5B",
      "include_colab_link": true
    },
    "kernelspec": {
      "name": "python3",
      "display_name": "Python 3"
    },
    "language_info": {
      "name": "python"
    }
  },
  "cells": [
    {
      "cell_type": "markdown",
      "metadata": {
        "id": "view-in-github",
        "colab_type": "text"
      },
      "source": [
        "<a href=\"https://colab.research.google.com/github/aalvinsu/test_belajar/blob/main/h8dsft_P0GC1_Alvin.ipynb\" target=\"_parent\"><img src=\"https://colab.research.google.com/assets/colab-badge.svg\" alt=\"Open In Colab\"/></a>"
      ]
    },
    {
      "cell_type": "markdown",
      "source": [
        "# **Perkenalan**\n",
        "\n"
      ],
      "metadata": {
        "id": "gwTcioGACgKu"
      }
    },
    {
      "cell_type": "markdown",
      "source": [
        "Dalam proyek analisis data COVID-19 dari John Hopkins University, fokus saya adalah pada empat aspek utama. Pertama, saya akan menganalisis jumlah kasus COVID-19 yang tercatat, menggunakan grafik dan visualisasi untuk memperlihatkan tren pertumbuhan kasus secara global dan per bulannya selama 2020. Selanjutnya, saya akan memperhatikan pemetaan geografis penyebaran COVID-19 di seluruh dunia, dengan menggunakan diagram bar untuk menunjukkan negara mana yang memiliki kasus terkonfirmasi Covid terbanyak di dunia, juga saya akan mengidentifikasi provinsi mana yang menjadi sebuah hotspot penyebaran Covid-19 di negara tersebut"
      ],
      "metadata": {
        "id": "gyqfAwIeCnMK"
      }
    },
    {
      "cell_type": "markdown",
      "source": [
        "## Impor Pustaka"
      ],
      "metadata": {
        "id": "9chOGLK8DlQ5"
      }
    },
    {
      "cell_type": "code",
      "execution_count": 149,
      "metadata": {
        "id": "b8dxEHXHpD77"
      },
      "outputs": [],
      "source": [
        "import numpy as np\n",
        "import pandas as pd\n",
        "import matplotlib.pyplot as plt"
      ]
    },
    {
      "cell_type": "markdown",
      "source": [
        "## Data Loading"
      ],
      "metadata": {
        "id": "HCgOUHF9DtA9"
      }
    },
    {
      "cell_type": "code",
      "source": [
        "# Membaca file CSV\n",
        "df = pd.read_csv('/content/h8dsft_P0GC1_Alvin.csv')\n",
        "\n",
        "# Melihat head\n",
        "\n",
        "df.head()"
      ],
      "metadata": {
        "colab": {
          "base_uri": "https://localhost:8080/",
          "height": 391
        },
        "id": "3mI4Nxx3_71L",
        "outputId": "3ca07000-79c3-47c5-e83c-82c34cab252b"
      },
      "execution_count": 150,
      "outputs": [
        {
          "output_type": "execute_result",
          "data": {
            "text/plain": [
              "   province_state country_region        date   latitude   longitude  \\\n",
              "0         Florida             US  2020-05-15  26.901310  -81.929491   \n",
              "1        Nebraska             US  2020-05-15  42.545026 -101.124433   \n",
              "2       Tennessee             US  2020-05-15  35.425275  -88.609584   \n",
              "3  North Carolina             US  2020-05-15  36.129081  -76.601184   \n",
              "4          Nevada             US  2020-05-15  39.581057 -118.339461   \n",
              "\n",
              "                     location_geom  confirmed  deaths  recovered  active  \\\n",
              "0  POINT(-81.92949121 26.90131002)        367      40        0.0   327.0   \n",
              "1  POINT(-101.1244332 42.54502621)          1       0        0.0     1.0   \n",
              "2   POINT(-88.6095842 35.42527478)         12       0        0.0    12.0   \n",
              "3  POINT(-76.60118385 36.12908077)         12       0        0.0    12.0   \n",
              "4  POINT(-118.3394607 39.58105744)          5       0        0.0     5.0   \n",
              "\n",
              "      fips     admin2                combined_key  \n",
              "0  12015.0  Charlotte      Charlotte, Florida, US  \n",
              "1  31031.0     Cherry        Cherry, Nebraska, US  \n",
              "2  47023.0    Chester      Chester, Tennessee, US  \n",
              "3  37041.0     Chowan  Chowan, North Carolina, US  \n",
              "4  32001.0  Churchill       Churchill, Nevada, US  "
            ],
            "text/html": [
              "\n",
              "  <div id=\"df-a77c2d0e-045b-40ed-8506-93671399a442\">\n",
              "    <div class=\"colab-df-container\">\n",
              "      <div>\n",
              "<style scoped>\n",
              "    .dataframe tbody tr th:only-of-type {\n",
              "        vertical-align: middle;\n",
              "    }\n",
              "\n",
              "    .dataframe tbody tr th {\n",
              "        vertical-align: top;\n",
              "    }\n",
              "\n",
              "    .dataframe thead th {\n",
              "        text-align: right;\n",
              "    }\n",
              "</style>\n",
              "<table border=\"1\" class=\"dataframe\">\n",
              "  <thead>\n",
              "    <tr style=\"text-align: right;\">\n",
              "      <th></th>\n",
              "      <th>province_state</th>\n",
              "      <th>country_region</th>\n",
              "      <th>date</th>\n",
              "      <th>latitude</th>\n",
              "      <th>longitude</th>\n",
              "      <th>location_geom</th>\n",
              "      <th>confirmed</th>\n",
              "      <th>deaths</th>\n",
              "      <th>recovered</th>\n",
              "      <th>active</th>\n",
              "      <th>fips</th>\n",
              "      <th>admin2</th>\n",
              "      <th>combined_key</th>\n",
              "    </tr>\n",
              "  </thead>\n",
              "  <tbody>\n",
              "    <tr>\n",
              "      <th>0</th>\n",
              "      <td>Florida</td>\n",
              "      <td>US</td>\n",
              "      <td>2020-05-15</td>\n",
              "      <td>26.901310</td>\n",
              "      <td>-81.929491</td>\n",
              "      <td>POINT(-81.92949121 26.90131002)</td>\n",
              "      <td>367</td>\n",
              "      <td>40</td>\n",
              "      <td>0.0</td>\n",
              "      <td>327.0</td>\n",
              "      <td>12015.0</td>\n",
              "      <td>Charlotte</td>\n",
              "      <td>Charlotte, Florida, US</td>\n",
              "    </tr>\n",
              "    <tr>\n",
              "      <th>1</th>\n",
              "      <td>Nebraska</td>\n",
              "      <td>US</td>\n",
              "      <td>2020-05-15</td>\n",
              "      <td>42.545026</td>\n",
              "      <td>-101.124433</td>\n",
              "      <td>POINT(-101.1244332 42.54502621)</td>\n",
              "      <td>1</td>\n",
              "      <td>0</td>\n",
              "      <td>0.0</td>\n",
              "      <td>1.0</td>\n",
              "      <td>31031.0</td>\n",
              "      <td>Cherry</td>\n",
              "      <td>Cherry, Nebraska, US</td>\n",
              "    </tr>\n",
              "    <tr>\n",
              "      <th>2</th>\n",
              "      <td>Tennessee</td>\n",
              "      <td>US</td>\n",
              "      <td>2020-05-15</td>\n",
              "      <td>35.425275</td>\n",
              "      <td>-88.609584</td>\n",
              "      <td>POINT(-88.6095842 35.42527478)</td>\n",
              "      <td>12</td>\n",
              "      <td>0</td>\n",
              "      <td>0.0</td>\n",
              "      <td>12.0</td>\n",
              "      <td>47023.0</td>\n",
              "      <td>Chester</td>\n",
              "      <td>Chester, Tennessee, US</td>\n",
              "    </tr>\n",
              "    <tr>\n",
              "      <th>3</th>\n",
              "      <td>North Carolina</td>\n",
              "      <td>US</td>\n",
              "      <td>2020-05-15</td>\n",
              "      <td>36.129081</td>\n",
              "      <td>-76.601184</td>\n",
              "      <td>POINT(-76.60118385 36.12908077)</td>\n",
              "      <td>12</td>\n",
              "      <td>0</td>\n",
              "      <td>0.0</td>\n",
              "      <td>12.0</td>\n",
              "      <td>37041.0</td>\n",
              "      <td>Chowan</td>\n",
              "      <td>Chowan, North Carolina, US</td>\n",
              "    </tr>\n",
              "    <tr>\n",
              "      <th>4</th>\n",
              "      <td>Nevada</td>\n",
              "      <td>US</td>\n",
              "      <td>2020-05-15</td>\n",
              "      <td>39.581057</td>\n",
              "      <td>-118.339461</td>\n",
              "      <td>POINT(-118.3394607 39.58105744)</td>\n",
              "      <td>5</td>\n",
              "      <td>0</td>\n",
              "      <td>0.0</td>\n",
              "      <td>5.0</td>\n",
              "      <td>32001.0</td>\n",
              "      <td>Churchill</td>\n",
              "      <td>Churchill, Nevada, US</td>\n",
              "    </tr>\n",
              "  </tbody>\n",
              "</table>\n",
              "</div>\n",
              "      <button class=\"colab-df-convert\" onclick=\"convertToInteractive('df-a77c2d0e-045b-40ed-8506-93671399a442')\"\n",
              "              title=\"Convert this dataframe to an interactive table.\"\n",
              "              style=\"display:none;\">\n",
              "        \n",
              "  <svg xmlns=\"http://www.w3.org/2000/svg\" height=\"24px\"viewBox=\"0 0 24 24\"\n",
              "       width=\"24px\">\n",
              "    <path d=\"M0 0h24v24H0V0z\" fill=\"none\"/>\n",
              "    <path d=\"M18.56 5.44l.94 2.06.94-2.06 2.06-.94-2.06-.94-.94-2.06-.94 2.06-2.06.94zm-11 1L8.5 8.5l.94-2.06 2.06-.94-2.06-.94L8.5 2.5l-.94 2.06-2.06.94zm10 10l.94 2.06.94-2.06 2.06-.94-2.06-.94-.94-2.06-.94 2.06-2.06.94z\"/><path d=\"M17.41 7.96l-1.37-1.37c-.4-.4-.92-.59-1.43-.59-.52 0-1.04.2-1.43.59L10.3 9.45l-7.72 7.72c-.78.78-.78 2.05 0 2.83L4 21.41c.39.39.9.59 1.41.59.51 0 1.02-.2 1.41-.59l7.78-7.78 2.81-2.81c.8-.78.8-2.07 0-2.86zM5.41 20L4 18.59l7.72-7.72 1.47 1.35L5.41 20z\"/>\n",
              "  </svg>\n",
              "      </button>\n",
              "      \n",
              "  <style>\n",
              "    .colab-df-container {\n",
              "      display:flex;\n",
              "      flex-wrap:wrap;\n",
              "      gap: 12px;\n",
              "    }\n",
              "\n",
              "    .colab-df-convert {\n",
              "      background-color: #E8F0FE;\n",
              "      border: none;\n",
              "      border-radius: 50%;\n",
              "      cursor: pointer;\n",
              "      display: none;\n",
              "      fill: #1967D2;\n",
              "      height: 32px;\n",
              "      padding: 0 0 0 0;\n",
              "      width: 32px;\n",
              "    }\n",
              "\n",
              "    .colab-df-convert:hover {\n",
              "      background-color: #E2EBFA;\n",
              "      box-shadow: 0px 1px 2px rgba(60, 64, 67, 0.3), 0px 1px 3px 1px rgba(60, 64, 67, 0.15);\n",
              "      fill: #174EA6;\n",
              "    }\n",
              "\n",
              "    [theme=dark] .colab-df-convert {\n",
              "      background-color: #3B4455;\n",
              "      fill: #D2E3FC;\n",
              "    }\n",
              "\n",
              "    [theme=dark] .colab-df-convert:hover {\n",
              "      background-color: #434B5C;\n",
              "      box-shadow: 0px 1px 3px 1px rgba(0, 0, 0, 0.15);\n",
              "      filter: drop-shadow(0px 1px 2px rgba(0, 0, 0, 0.3));\n",
              "      fill: #FFFFFF;\n",
              "    }\n",
              "  </style>\n",
              "\n",
              "      <script>\n",
              "        const buttonEl =\n",
              "          document.querySelector('#df-a77c2d0e-045b-40ed-8506-93671399a442 button.colab-df-convert');\n",
              "        buttonEl.style.display =\n",
              "          google.colab.kernel.accessAllowed ? 'block' : 'none';\n",
              "\n",
              "        async function convertToInteractive(key) {\n",
              "          const element = document.querySelector('#df-a77c2d0e-045b-40ed-8506-93671399a442');\n",
              "          const dataTable =\n",
              "            await google.colab.kernel.invokeFunction('convertToInteractive',\n",
              "                                                     [key], {});\n",
              "          if (!dataTable) return;\n",
              "\n",
              "          const docLinkHtml = 'Like what you see? Visit the ' +\n",
              "            '<a target=\"_blank\" href=https://colab.research.google.com/notebooks/data_table.ipynb>data table notebook</a>'\n",
              "            + ' to learn more about interactive tables.';\n",
              "          element.innerHTML = '';\n",
              "          dataTable['output_type'] = 'display_data';\n",
              "          await google.colab.output.renderOutput(dataTable, element);\n",
              "          const docLink = document.createElement('div');\n",
              "          docLink.innerHTML = docLinkHtml;\n",
              "          element.appendChild(docLink);\n",
              "        }\n",
              "      </script>\n",
              "    </div>\n",
              "  </div>\n",
              "  "
            ]
          },
          "metadata": {},
          "execution_count": 150
        }
      ]
    },
    {
      "cell_type": "code",
      "source": [
        "# Melihat Tail\n",
        "\n",
        "df.tail()"
      ],
      "metadata": {
        "colab": {
          "base_uri": "https://localhost:8080/",
          "height": 357
        },
        "id": "C9C351KiAQDx",
        "outputId": "a1a3bbf4-e7e3-438b-8f41-1827e153e35f"
      },
      "execution_count": 151,
      "outputs": [
        {
          "output_type": "execute_result",
          "data": {
            "text/plain": [
              "      province_state country_region        date   latitude  longitude  \\\n",
              "60815       Illinois             US  2021-11-14  38.353092 -89.409827   \n",
              "60816        Indiana             US  2021-11-14  40.606269 -87.310940   \n",
              "60817        Indiana             US  2021-11-14  40.050930 -86.468416   \n",
              "60818        Indiana             US  2021-11-14  39.196056 -86.228689   \n",
              "60819        Indiana             US  2021-11-14  39.395618 -87.117235   \n",
              "\n",
              "                         location_geom  confirmed  deaths  recovered  active  \\\n",
              "60815  POINT(-89.40982703 38.35309213)       2171      29        NaN     NaN   \n",
              "60816  POINT(-87.31093999 40.60626947)       1558      17        NaN     NaN   \n",
              "60817   POINT(-86.46841646 40.0509304)       9298     119        NaN     NaN   \n",
              "60818  POINT(-86.22868909 39.19605589)       1607      49        NaN     NaN   \n",
              "60819  POINT(-87.11723506 39.39561833)       4409      60        NaN     NaN   \n",
              "\n",
              "          fips      admin2              combined_key  \n",
              "60815  17189.0  Washington  Washington, Illinois, US  \n",
              "60816  18007.0      Benton       Benton, Indiana, US  \n",
              "60817  18011.0       Boone        Boone, Indiana, US  \n",
              "60818  18013.0       Brown        Brown, Indiana, US  \n",
              "60819  18021.0        Clay         Clay, Indiana, US  "
            ],
            "text/html": [
              "\n",
              "  <div id=\"df-ed371f14-8d88-486f-a23a-b9230ee0f74e\">\n",
              "    <div class=\"colab-df-container\">\n",
              "      <div>\n",
              "<style scoped>\n",
              "    .dataframe tbody tr th:only-of-type {\n",
              "        vertical-align: middle;\n",
              "    }\n",
              "\n",
              "    .dataframe tbody tr th {\n",
              "        vertical-align: top;\n",
              "    }\n",
              "\n",
              "    .dataframe thead th {\n",
              "        text-align: right;\n",
              "    }\n",
              "</style>\n",
              "<table border=\"1\" class=\"dataframe\">\n",
              "  <thead>\n",
              "    <tr style=\"text-align: right;\">\n",
              "      <th></th>\n",
              "      <th>province_state</th>\n",
              "      <th>country_region</th>\n",
              "      <th>date</th>\n",
              "      <th>latitude</th>\n",
              "      <th>longitude</th>\n",
              "      <th>location_geom</th>\n",
              "      <th>confirmed</th>\n",
              "      <th>deaths</th>\n",
              "      <th>recovered</th>\n",
              "      <th>active</th>\n",
              "      <th>fips</th>\n",
              "      <th>admin2</th>\n",
              "      <th>combined_key</th>\n",
              "    </tr>\n",
              "  </thead>\n",
              "  <tbody>\n",
              "    <tr>\n",
              "      <th>60815</th>\n",
              "      <td>Illinois</td>\n",
              "      <td>US</td>\n",
              "      <td>2021-11-14</td>\n",
              "      <td>38.353092</td>\n",
              "      <td>-89.409827</td>\n",
              "      <td>POINT(-89.40982703 38.35309213)</td>\n",
              "      <td>2171</td>\n",
              "      <td>29</td>\n",
              "      <td>NaN</td>\n",
              "      <td>NaN</td>\n",
              "      <td>17189.0</td>\n",
              "      <td>Washington</td>\n",
              "      <td>Washington, Illinois, US</td>\n",
              "    </tr>\n",
              "    <tr>\n",
              "      <th>60816</th>\n",
              "      <td>Indiana</td>\n",
              "      <td>US</td>\n",
              "      <td>2021-11-14</td>\n",
              "      <td>40.606269</td>\n",
              "      <td>-87.310940</td>\n",
              "      <td>POINT(-87.31093999 40.60626947)</td>\n",
              "      <td>1558</td>\n",
              "      <td>17</td>\n",
              "      <td>NaN</td>\n",
              "      <td>NaN</td>\n",
              "      <td>18007.0</td>\n",
              "      <td>Benton</td>\n",
              "      <td>Benton, Indiana, US</td>\n",
              "    </tr>\n",
              "    <tr>\n",
              "      <th>60817</th>\n",
              "      <td>Indiana</td>\n",
              "      <td>US</td>\n",
              "      <td>2021-11-14</td>\n",
              "      <td>40.050930</td>\n",
              "      <td>-86.468416</td>\n",
              "      <td>POINT(-86.46841646 40.0509304)</td>\n",
              "      <td>9298</td>\n",
              "      <td>119</td>\n",
              "      <td>NaN</td>\n",
              "      <td>NaN</td>\n",
              "      <td>18011.0</td>\n",
              "      <td>Boone</td>\n",
              "      <td>Boone, Indiana, US</td>\n",
              "    </tr>\n",
              "    <tr>\n",
              "      <th>60818</th>\n",
              "      <td>Indiana</td>\n",
              "      <td>US</td>\n",
              "      <td>2021-11-14</td>\n",
              "      <td>39.196056</td>\n",
              "      <td>-86.228689</td>\n",
              "      <td>POINT(-86.22868909 39.19605589)</td>\n",
              "      <td>1607</td>\n",
              "      <td>49</td>\n",
              "      <td>NaN</td>\n",
              "      <td>NaN</td>\n",
              "      <td>18013.0</td>\n",
              "      <td>Brown</td>\n",
              "      <td>Brown, Indiana, US</td>\n",
              "    </tr>\n",
              "    <tr>\n",
              "      <th>60819</th>\n",
              "      <td>Indiana</td>\n",
              "      <td>US</td>\n",
              "      <td>2021-11-14</td>\n",
              "      <td>39.395618</td>\n",
              "      <td>-87.117235</td>\n",
              "      <td>POINT(-87.11723506 39.39561833)</td>\n",
              "      <td>4409</td>\n",
              "      <td>60</td>\n",
              "      <td>NaN</td>\n",
              "      <td>NaN</td>\n",
              "      <td>18021.0</td>\n",
              "      <td>Clay</td>\n",
              "      <td>Clay, Indiana, US</td>\n",
              "    </tr>\n",
              "  </tbody>\n",
              "</table>\n",
              "</div>\n",
              "      <button class=\"colab-df-convert\" onclick=\"convertToInteractive('df-ed371f14-8d88-486f-a23a-b9230ee0f74e')\"\n",
              "              title=\"Convert this dataframe to an interactive table.\"\n",
              "              style=\"display:none;\">\n",
              "        \n",
              "  <svg xmlns=\"http://www.w3.org/2000/svg\" height=\"24px\"viewBox=\"0 0 24 24\"\n",
              "       width=\"24px\">\n",
              "    <path d=\"M0 0h24v24H0V0z\" fill=\"none\"/>\n",
              "    <path d=\"M18.56 5.44l.94 2.06.94-2.06 2.06-.94-2.06-.94-.94-2.06-.94 2.06-2.06.94zm-11 1L8.5 8.5l.94-2.06 2.06-.94-2.06-.94L8.5 2.5l-.94 2.06-2.06.94zm10 10l.94 2.06.94-2.06 2.06-.94-2.06-.94-.94-2.06-.94 2.06-2.06.94z\"/><path d=\"M17.41 7.96l-1.37-1.37c-.4-.4-.92-.59-1.43-.59-.52 0-1.04.2-1.43.59L10.3 9.45l-7.72 7.72c-.78.78-.78 2.05 0 2.83L4 21.41c.39.39.9.59 1.41.59.51 0 1.02-.2 1.41-.59l7.78-7.78 2.81-2.81c.8-.78.8-2.07 0-2.86zM5.41 20L4 18.59l7.72-7.72 1.47 1.35L5.41 20z\"/>\n",
              "  </svg>\n",
              "      </button>\n",
              "      \n",
              "  <style>\n",
              "    .colab-df-container {\n",
              "      display:flex;\n",
              "      flex-wrap:wrap;\n",
              "      gap: 12px;\n",
              "    }\n",
              "\n",
              "    .colab-df-convert {\n",
              "      background-color: #E8F0FE;\n",
              "      border: none;\n",
              "      border-radius: 50%;\n",
              "      cursor: pointer;\n",
              "      display: none;\n",
              "      fill: #1967D2;\n",
              "      height: 32px;\n",
              "      padding: 0 0 0 0;\n",
              "      width: 32px;\n",
              "    }\n",
              "\n",
              "    .colab-df-convert:hover {\n",
              "      background-color: #E2EBFA;\n",
              "      box-shadow: 0px 1px 2px rgba(60, 64, 67, 0.3), 0px 1px 3px 1px rgba(60, 64, 67, 0.15);\n",
              "      fill: #174EA6;\n",
              "    }\n",
              "\n",
              "    [theme=dark] .colab-df-convert {\n",
              "      background-color: #3B4455;\n",
              "      fill: #D2E3FC;\n",
              "    }\n",
              "\n",
              "    [theme=dark] .colab-df-convert:hover {\n",
              "      background-color: #434B5C;\n",
              "      box-shadow: 0px 1px 3px 1px rgba(0, 0, 0, 0.15);\n",
              "      filter: drop-shadow(0px 1px 2px rgba(0, 0, 0, 0.3));\n",
              "      fill: #FFFFFF;\n",
              "    }\n",
              "  </style>\n",
              "\n",
              "      <script>\n",
              "        const buttonEl =\n",
              "          document.querySelector('#df-ed371f14-8d88-486f-a23a-b9230ee0f74e button.colab-df-convert');\n",
              "        buttonEl.style.display =\n",
              "          google.colab.kernel.accessAllowed ? 'block' : 'none';\n",
              "\n",
              "        async function convertToInteractive(key) {\n",
              "          const element = document.querySelector('#df-ed371f14-8d88-486f-a23a-b9230ee0f74e');\n",
              "          const dataTable =\n",
              "            await google.colab.kernel.invokeFunction('convertToInteractive',\n",
              "                                                     [key], {});\n",
              "          if (!dataTable) return;\n",
              "\n",
              "          const docLinkHtml = 'Like what you see? Visit the ' +\n",
              "            '<a target=\"_blank\" href=https://colab.research.google.com/notebooks/data_table.ipynb>data table notebook</a>'\n",
              "            + ' to learn more about interactive tables.';\n",
              "          element.innerHTML = '';\n",
              "          dataTable['output_type'] = 'display_data';\n",
              "          await google.colab.output.renderOutput(dataTable, element);\n",
              "          const docLink = document.createElement('div');\n",
              "          docLink.innerHTML = docLinkHtml;\n",
              "          element.appendChild(docLink);\n",
              "        }\n",
              "      </script>\n",
              "    </div>\n",
              "  </div>\n",
              "  "
            ]
          },
          "metadata": {},
          "execution_count": 151
        }
      ]
    },
    {
      "cell_type": "code",
      "source": [
        "# Displaying Data Type\n",
        "\n",
        "df.info()"
      ],
      "metadata": {
        "colab": {
          "base_uri": "https://localhost:8080/"
        },
        "id": "F_a3dfbHAaTT",
        "outputId": "34b86c1b-9985-43b3-d0aa-739f80d7f456"
      },
      "execution_count": 152,
      "outputs": [
        {
          "output_type": "stream",
          "name": "stdout",
          "text": [
            "<class 'pandas.core.frame.DataFrame'>\n",
            "RangeIndex: 60820 entries, 0 to 60819\n",
            "Data columns (total 13 columns):\n",
            " #   Column          Non-Null Count  Dtype  \n",
            "---  ------          --------------  -----  \n",
            " 0   province_state  58015 non-null  object \n",
            " 1   country_region  60820 non-null  object \n",
            " 2   date            60820 non-null  object \n",
            " 3   latitude        59418 non-null  float64\n",
            " 4   longitude       59418 non-null  float64\n",
            " 5   location_geom   59418 non-null  object \n",
            " 6   confirmed       60820 non-null  int64  \n",
            " 7   deaths          60820 non-null  int64  \n",
            " 8   recovered       18589 non-null  float64\n",
            " 9   active          18425 non-null  float64\n",
            " 10  fips            49644 non-null  float64\n",
            " 11  admin2          49727 non-null  object \n",
            " 12  combined_key    60667 non-null  object \n",
            "dtypes: float64(5), int64(2), object(6)\n",
            "memory usage: 6.0+ MB\n"
          ]
        }
      ]
    },
    {
      "cell_type": "markdown",
      "source": [
        "## Data Cleansing"
      ],
      "metadata": {
        "id": "VjRvRyJ8D05h"
      }
    },
    {
      "cell_type": "code",
      "source": [
        "# Mengubah nama DF menjadi Data Covid\n",
        "data_covid = df.copy()"
      ],
      "metadata": {
        "id": "MCr4AVR1FL2D"
      },
      "execution_count": 153,
      "outputs": []
    },
    {
      "cell_type": "code",
      "source": [
        "data_covid.shape"
      ],
      "metadata": {
        "colab": {
          "base_uri": "https://localhost:8080/"
        },
        "id": "VXO4JUQJI5fQ",
        "outputId": "877320d5-a4d2-4465-e816-20a2908d1002"
      },
      "execution_count": 154,
      "outputs": [
        {
          "output_type": "execute_result",
          "data": {
            "text/plain": [
              "(60820, 13)"
            ]
          },
          "metadata": {},
          "execution_count": 154
        }
      ]
    },
    {
      "cell_type": "code",
      "source": [
        "# Menghapus baris yang tidak memiliki data\n",
        "\n",
        "rows_without_missing_data = data_covid.dropna()"
      ],
      "metadata": {
        "id": "XitlI55nD3ZR"
      },
      "execution_count": 155,
      "outputs": []
    },
    {
      "cell_type": "code",
      "source": [
        "data_covid"
      ],
      "metadata": {
        "colab": {
          "base_uri": "https://localhost:8080/",
          "height": 696
        },
        "id": "nvmwUzvgIex9",
        "outputId": "62180b40-e4fb-48a4-bc39-fae2c513ab4c"
      },
      "execution_count": 156,
      "outputs": [
        {
          "output_type": "execute_result",
          "data": {
            "text/plain": [
              "       province_state country_region        date   latitude   longitude  \\\n",
              "0             Florida             US  2020-05-15  26.901310  -81.929491   \n",
              "1            Nebraska             US  2020-05-15  42.545026 -101.124433   \n",
              "2           Tennessee             US  2020-05-15  35.425275  -88.609584   \n",
              "3      North Carolina             US  2020-05-15  36.129081  -76.601184   \n",
              "4              Nevada             US  2020-05-15  39.581057 -118.339461   \n",
              "...               ...            ...         ...        ...         ...   \n",
              "60815        Illinois             US  2021-11-14  38.353092  -89.409827   \n",
              "60816         Indiana             US  2021-11-14  40.606269  -87.310940   \n",
              "60817         Indiana             US  2021-11-14  40.050930  -86.468416   \n",
              "60818         Indiana             US  2021-11-14  39.196056  -86.228689   \n",
              "60819         Indiana             US  2021-11-14  39.395618  -87.117235   \n",
              "\n",
              "                         location_geom  confirmed  deaths  recovered  active  \\\n",
              "0      POINT(-81.92949121 26.90131002)        367      40        0.0   327.0   \n",
              "1      POINT(-101.1244332 42.54502621)          1       0        0.0     1.0   \n",
              "2       POINT(-88.6095842 35.42527478)         12       0        0.0    12.0   \n",
              "3      POINT(-76.60118385 36.12908077)         12       0        0.0    12.0   \n",
              "4      POINT(-118.3394607 39.58105744)          5       0        0.0     5.0   \n",
              "...                                ...        ...     ...        ...     ...   \n",
              "60815  POINT(-89.40982703 38.35309213)       2171      29        NaN     NaN   \n",
              "60816  POINT(-87.31093999 40.60626947)       1558      17        NaN     NaN   \n",
              "60817   POINT(-86.46841646 40.0509304)       9298     119        NaN     NaN   \n",
              "60818  POINT(-86.22868909 39.19605589)       1607      49        NaN     NaN   \n",
              "60819  POINT(-87.11723506 39.39561833)       4409      60        NaN     NaN   \n",
              "\n",
              "          fips      admin2                combined_key  \n",
              "0      12015.0   Charlotte      Charlotte, Florida, US  \n",
              "1      31031.0      Cherry        Cherry, Nebraska, US  \n",
              "2      47023.0     Chester      Chester, Tennessee, US  \n",
              "3      37041.0      Chowan  Chowan, North Carolina, US  \n",
              "4      32001.0   Churchill       Churchill, Nevada, US  \n",
              "...        ...         ...                         ...  \n",
              "60815  17189.0  Washington    Washington, Illinois, US  \n",
              "60816  18007.0      Benton         Benton, Indiana, US  \n",
              "60817  18011.0       Boone          Boone, Indiana, US  \n",
              "60818  18013.0       Brown          Brown, Indiana, US  \n",
              "60819  18021.0        Clay           Clay, Indiana, US  \n",
              "\n",
              "[60820 rows x 13 columns]"
            ],
            "text/html": [
              "\n",
              "  <div id=\"df-6ab12343-73e0-4cc7-b661-86a196667703\">\n",
              "    <div class=\"colab-df-container\">\n",
              "      <div>\n",
              "<style scoped>\n",
              "    .dataframe tbody tr th:only-of-type {\n",
              "        vertical-align: middle;\n",
              "    }\n",
              "\n",
              "    .dataframe tbody tr th {\n",
              "        vertical-align: top;\n",
              "    }\n",
              "\n",
              "    .dataframe thead th {\n",
              "        text-align: right;\n",
              "    }\n",
              "</style>\n",
              "<table border=\"1\" class=\"dataframe\">\n",
              "  <thead>\n",
              "    <tr style=\"text-align: right;\">\n",
              "      <th></th>\n",
              "      <th>province_state</th>\n",
              "      <th>country_region</th>\n",
              "      <th>date</th>\n",
              "      <th>latitude</th>\n",
              "      <th>longitude</th>\n",
              "      <th>location_geom</th>\n",
              "      <th>confirmed</th>\n",
              "      <th>deaths</th>\n",
              "      <th>recovered</th>\n",
              "      <th>active</th>\n",
              "      <th>fips</th>\n",
              "      <th>admin2</th>\n",
              "      <th>combined_key</th>\n",
              "    </tr>\n",
              "  </thead>\n",
              "  <tbody>\n",
              "    <tr>\n",
              "      <th>0</th>\n",
              "      <td>Florida</td>\n",
              "      <td>US</td>\n",
              "      <td>2020-05-15</td>\n",
              "      <td>26.901310</td>\n",
              "      <td>-81.929491</td>\n",
              "      <td>POINT(-81.92949121 26.90131002)</td>\n",
              "      <td>367</td>\n",
              "      <td>40</td>\n",
              "      <td>0.0</td>\n",
              "      <td>327.0</td>\n",
              "      <td>12015.0</td>\n",
              "      <td>Charlotte</td>\n",
              "      <td>Charlotte, Florida, US</td>\n",
              "    </tr>\n",
              "    <tr>\n",
              "      <th>1</th>\n",
              "      <td>Nebraska</td>\n",
              "      <td>US</td>\n",
              "      <td>2020-05-15</td>\n",
              "      <td>42.545026</td>\n",
              "      <td>-101.124433</td>\n",
              "      <td>POINT(-101.1244332 42.54502621)</td>\n",
              "      <td>1</td>\n",
              "      <td>0</td>\n",
              "      <td>0.0</td>\n",
              "      <td>1.0</td>\n",
              "      <td>31031.0</td>\n",
              "      <td>Cherry</td>\n",
              "      <td>Cherry, Nebraska, US</td>\n",
              "    </tr>\n",
              "    <tr>\n",
              "      <th>2</th>\n",
              "      <td>Tennessee</td>\n",
              "      <td>US</td>\n",
              "      <td>2020-05-15</td>\n",
              "      <td>35.425275</td>\n",
              "      <td>-88.609584</td>\n",
              "      <td>POINT(-88.6095842 35.42527478)</td>\n",
              "      <td>12</td>\n",
              "      <td>0</td>\n",
              "      <td>0.0</td>\n",
              "      <td>12.0</td>\n",
              "      <td>47023.0</td>\n",
              "      <td>Chester</td>\n",
              "      <td>Chester, Tennessee, US</td>\n",
              "    </tr>\n",
              "    <tr>\n",
              "      <th>3</th>\n",
              "      <td>North Carolina</td>\n",
              "      <td>US</td>\n",
              "      <td>2020-05-15</td>\n",
              "      <td>36.129081</td>\n",
              "      <td>-76.601184</td>\n",
              "      <td>POINT(-76.60118385 36.12908077)</td>\n",
              "      <td>12</td>\n",
              "      <td>0</td>\n",
              "      <td>0.0</td>\n",
              "      <td>12.0</td>\n",
              "      <td>37041.0</td>\n",
              "      <td>Chowan</td>\n",
              "      <td>Chowan, North Carolina, US</td>\n",
              "    </tr>\n",
              "    <tr>\n",
              "      <th>4</th>\n",
              "      <td>Nevada</td>\n",
              "      <td>US</td>\n",
              "      <td>2020-05-15</td>\n",
              "      <td>39.581057</td>\n",
              "      <td>-118.339461</td>\n",
              "      <td>POINT(-118.3394607 39.58105744)</td>\n",
              "      <td>5</td>\n",
              "      <td>0</td>\n",
              "      <td>0.0</td>\n",
              "      <td>5.0</td>\n",
              "      <td>32001.0</td>\n",
              "      <td>Churchill</td>\n",
              "      <td>Churchill, Nevada, US</td>\n",
              "    </tr>\n",
              "    <tr>\n",
              "      <th>...</th>\n",
              "      <td>...</td>\n",
              "      <td>...</td>\n",
              "      <td>...</td>\n",
              "      <td>...</td>\n",
              "      <td>...</td>\n",
              "      <td>...</td>\n",
              "      <td>...</td>\n",
              "      <td>...</td>\n",
              "      <td>...</td>\n",
              "      <td>...</td>\n",
              "      <td>...</td>\n",
              "      <td>...</td>\n",
              "      <td>...</td>\n",
              "    </tr>\n",
              "    <tr>\n",
              "      <th>60815</th>\n",
              "      <td>Illinois</td>\n",
              "      <td>US</td>\n",
              "      <td>2021-11-14</td>\n",
              "      <td>38.353092</td>\n",
              "      <td>-89.409827</td>\n",
              "      <td>POINT(-89.40982703 38.35309213)</td>\n",
              "      <td>2171</td>\n",
              "      <td>29</td>\n",
              "      <td>NaN</td>\n",
              "      <td>NaN</td>\n",
              "      <td>17189.0</td>\n",
              "      <td>Washington</td>\n",
              "      <td>Washington, Illinois, US</td>\n",
              "    </tr>\n",
              "    <tr>\n",
              "      <th>60816</th>\n",
              "      <td>Indiana</td>\n",
              "      <td>US</td>\n",
              "      <td>2021-11-14</td>\n",
              "      <td>40.606269</td>\n",
              "      <td>-87.310940</td>\n",
              "      <td>POINT(-87.31093999 40.60626947)</td>\n",
              "      <td>1558</td>\n",
              "      <td>17</td>\n",
              "      <td>NaN</td>\n",
              "      <td>NaN</td>\n",
              "      <td>18007.0</td>\n",
              "      <td>Benton</td>\n",
              "      <td>Benton, Indiana, US</td>\n",
              "    </tr>\n",
              "    <tr>\n",
              "      <th>60817</th>\n",
              "      <td>Indiana</td>\n",
              "      <td>US</td>\n",
              "      <td>2021-11-14</td>\n",
              "      <td>40.050930</td>\n",
              "      <td>-86.468416</td>\n",
              "      <td>POINT(-86.46841646 40.0509304)</td>\n",
              "      <td>9298</td>\n",
              "      <td>119</td>\n",
              "      <td>NaN</td>\n",
              "      <td>NaN</td>\n",
              "      <td>18011.0</td>\n",
              "      <td>Boone</td>\n",
              "      <td>Boone, Indiana, US</td>\n",
              "    </tr>\n",
              "    <tr>\n",
              "      <th>60818</th>\n",
              "      <td>Indiana</td>\n",
              "      <td>US</td>\n",
              "      <td>2021-11-14</td>\n",
              "      <td>39.196056</td>\n",
              "      <td>-86.228689</td>\n",
              "      <td>POINT(-86.22868909 39.19605589)</td>\n",
              "      <td>1607</td>\n",
              "      <td>49</td>\n",
              "      <td>NaN</td>\n",
              "      <td>NaN</td>\n",
              "      <td>18013.0</td>\n",
              "      <td>Brown</td>\n",
              "      <td>Brown, Indiana, US</td>\n",
              "    </tr>\n",
              "    <tr>\n",
              "      <th>60819</th>\n",
              "      <td>Indiana</td>\n",
              "      <td>US</td>\n",
              "      <td>2021-11-14</td>\n",
              "      <td>39.395618</td>\n",
              "      <td>-87.117235</td>\n",
              "      <td>POINT(-87.11723506 39.39561833)</td>\n",
              "      <td>4409</td>\n",
              "      <td>60</td>\n",
              "      <td>NaN</td>\n",
              "      <td>NaN</td>\n",
              "      <td>18021.0</td>\n",
              "      <td>Clay</td>\n",
              "      <td>Clay, Indiana, US</td>\n",
              "    </tr>\n",
              "  </tbody>\n",
              "</table>\n",
              "<p>60820 rows × 13 columns</p>\n",
              "</div>\n",
              "      <button class=\"colab-df-convert\" onclick=\"convertToInteractive('df-6ab12343-73e0-4cc7-b661-86a196667703')\"\n",
              "              title=\"Convert this dataframe to an interactive table.\"\n",
              "              style=\"display:none;\">\n",
              "        \n",
              "  <svg xmlns=\"http://www.w3.org/2000/svg\" height=\"24px\"viewBox=\"0 0 24 24\"\n",
              "       width=\"24px\">\n",
              "    <path d=\"M0 0h24v24H0V0z\" fill=\"none\"/>\n",
              "    <path d=\"M18.56 5.44l.94 2.06.94-2.06 2.06-.94-2.06-.94-.94-2.06-.94 2.06-2.06.94zm-11 1L8.5 8.5l.94-2.06 2.06-.94-2.06-.94L8.5 2.5l-.94 2.06-2.06.94zm10 10l.94 2.06.94-2.06 2.06-.94-2.06-.94-.94-2.06-.94 2.06-2.06.94z\"/><path d=\"M17.41 7.96l-1.37-1.37c-.4-.4-.92-.59-1.43-.59-.52 0-1.04.2-1.43.59L10.3 9.45l-7.72 7.72c-.78.78-.78 2.05 0 2.83L4 21.41c.39.39.9.59 1.41.59.51 0 1.02-.2 1.41-.59l7.78-7.78 2.81-2.81c.8-.78.8-2.07 0-2.86zM5.41 20L4 18.59l7.72-7.72 1.47 1.35L5.41 20z\"/>\n",
              "  </svg>\n",
              "      </button>\n",
              "      \n",
              "  <style>\n",
              "    .colab-df-container {\n",
              "      display:flex;\n",
              "      flex-wrap:wrap;\n",
              "      gap: 12px;\n",
              "    }\n",
              "\n",
              "    .colab-df-convert {\n",
              "      background-color: #E8F0FE;\n",
              "      border: none;\n",
              "      border-radius: 50%;\n",
              "      cursor: pointer;\n",
              "      display: none;\n",
              "      fill: #1967D2;\n",
              "      height: 32px;\n",
              "      padding: 0 0 0 0;\n",
              "      width: 32px;\n",
              "    }\n",
              "\n",
              "    .colab-df-convert:hover {\n",
              "      background-color: #E2EBFA;\n",
              "      box-shadow: 0px 1px 2px rgba(60, 64, 67, 0.3), 0px 1px 3px 1px rgba(60, 64, 67, 0.15);\n",
              "      fill: #174EA6;\n",
              "    }\n",
              "\n",
              "    [theme=dark] .colab-df-convert {\n",
              "      background-color: #3B4455;\n",
              "      fill: #D2E3FC;\n",
              "    }\n",
              "\n",
              "    [theme=dark] .colab-df-convert:hover {\n",
              "      background-color: #434B5C;\n",
              "      box-shadow: 0px 1px 3px 1px rgba(0, 0, 0, 0.15);\n",
              "      filter: drop-shadow(0px 1px 2px rgba(0, 0, 0, 0.3));\n",
              "      fill: #FFFFFF;\n",
              "    }\n",
              "  </style>\n",
              "\n",
              "      <script>\n",
              "        const buttonEl =\n",
              "          document.querySelector('#df-6ab12343-73e0-4cc7-b661-86a196667703 button.colab-df-convert');\n",
              "        buttonEl.style.display =\n",
              "          google.colab.kernel.accessAllowed ? 'block' : 'none';\n",
              "\n",
              "        async function convertToInteractive(key) {\n",
              "          const element = document.querySelector('#df-6ab12343-73e0-4cc7-b661-86a196667703');\n",
              "          const dataTable =\n",
              "            await google.colab.kernel.invokeFunction('convertToInteractive',\n",
              "                                                     [key], {});\n",
              "          if (!dataTable) return;\n",
              "\n",
              "          const docLinkHtml = 'Like what you see? Visit the ' +\n",
              "            '<a target=\"_blank\" href=https://colab.research.google.com/notebooks/data_table.ipynb>data table notebook</a>'\n",
              "            + ' to learn more about interactive tables.';\n",
              "          element.innerHTML = '';\n",
              "          dataTable['output_type'] = 'display_data';\n",
              "          await google.colab.output.renderOutput(dataTable, element);\n",
              "          const docLink = document.createElement('div');\n",
              "          docLink.innerHTML = docLinkHtml;\n",
              "          element.appendChild(docLink);\n",
              "        }\n",
              "      </script>\n",
              "    </div>\n",
              "  </div>\n",
              "  "
            ]
          },
          "metadata": {},
          "execution_count": 156
        }
      ]
    },
    {
      "cell_type": "markdown",
      "source": [
        "## Eksplorasi Data"
      ],
      "metadata": {
        "id": "hj2-bQdOLHWb"
      }
    },
    {
      "cell_type": "code",
      "source": [
        "# Konversi kolom \"date\" ke dalam tipe data datetime\n",
        "data_covid[\"date\"] = pd.to_datetime(data_covid[\"date\"])"
      ],
      "metadata": {
        "id": "Ayk_jNC0TXRM"
      },
      "execution_count": 157,
      "outputs": []
    },
    {
      "cell_type": "code",
      "source": [
        "# Filter data hanya untuk tahun 2020\n",
        "data_covid_2020 = data_covid[data_covid[\"date\"].dt.year == 2020]"
      ],
      "metadata": {
        "id": "22iD_nYJTcRb"
      },
      "execution_count": 158,
      "outputs": []
    },
    {
      "cell_type": "code",
      "source": [
        "# Membuat kolom baru \"month\" berdasarkan bulan dari kolom \"date\"\n",
        "data_covid_2020[\"month\"] = data_covid_2020[\"date\"].dt.month_name()"
      ],
      "metadata": {
        "colab": {
          "base_uri": "https://localhost:8080/"
        },
        "id": "XabkDJaYTijV",
        "outputId": "e8a49ff2-3acd-4ce1-e969-5fa634c6f173"
      },
      "execution_count": 159,
      "outputs": [
        {
          "output_type": "stream",
          "name": "stderr",
          "text": [
            "<ipython-input-159-d12ef4441f26>:2: SettingWithCopyWarning: \n",
            "A value is trying to be set on a copy of a slice from a DataFrame.\n",
            "Try using .loc[row_indexer,col_indexer] = value instead\n",
            "\n",
            "See the caveats in the documentation: https://pandas.pydata.org/pandas-docs/stable/user_guide/indexing.html#returning-a-view-versus-a-copy\n",
            "  data_covid_2020[\"month\"] = data_covid_2020[\"date\"].dt.month_name()\n"
          ]
        }
      ]
    },
    {
      "cell_type": "code",
      "source": [
        "# Mengelompokkan data berdasarkan bulan dan menjumlahkan jumlah kematian\n",
        "deaths_by_month = data_covid_2020.groupby(\"month\")[\"deaths\"].sum()"
      ],
      "metadata": {
        "id": "wqKUYzG4Tl70"
      },
      "execution_count": 160,
      "outputs": []
    },
    {
      "cell_type": "code",
      "source": [
        "# Plot grafik jumlah kematian COVID-19 berdasarkan bulan\n",
        "deaths_by_month.plot()"
      ],
      "metadata": {
        "colab": {
          "base_uri": "https://localhost:8080/",
          "height": 466
        },
        "id": "vlNmYPe6TqPa",
        "outputId": "8f75ad13-24e5-411b-8a07-09d4fbfecc04"
      },
      "execution_count": 161,
      "outputs": [
        {
          "output_type": "execute_result",
          "data": {
            "text/plain": [
              "<Axes: xlabel='month'>"
            ]
          },
          "metadata": {},
          "execution_count": 161
        },
        {
          "output_type": "display_data",
          "data": {
            "text/plain": [
              "<Figure size 640x480 with 1 Axes>"
            ],
            "image/png": "[encoded data removed]"
          },
          "metadata": {}
        }
      ]
    },
    {
      "cell_type": "code",
      "source": [
        "# Mengelompokkan data berdasarkan negara dan menjumlahkan jumlah terkonfirmasi\n",
        "terkonfirmasi_per_negara = data_covid.groupby(\"country_region\")[\"confirmed\"].sum()"
      ],
      "metadata": {
        "id": "UPj8Dwv8UE0M"
      },
      "execution_count": 162,
      "outputs": []
    },
    {
      "cell_type": "code",
      "source": [
        "# Mengurutkan data secara menurun berdasarkan jumlah terkonfirmasi\n",
        "terkonfirmasi_per_negara = terkonfirmasi_per_negara.sort_values(ascending=False)"
      ],
      "metadata": {
        "id": "tG2KojGoUYOb"
      },
      "execution_count": 163,
      "outputs": []
    },
    {
      "cell_type": "code",
      "source": [
        "# Mengambil 10 negara dengan jumlah terkonfirmasi tertinggi\n",
        "top_10_negara = terkonfirmasi_per_negara.head(10)"
      ],
      "metadata": {
        "id": "F5cBe8ciUahy"
      },
      "execution_count": 164,
      "outputs": []
    },
    {
      "cell_type": "code",
      "source": [
        "# Membuat plot batang untuk menampilkan data\n",
        "plt.figure(figsize=(10, 6))\n",
        "top_10_negara.plot(kind=\"bar\")\n",
        "plt.xlabel(\"Negara\")\n",
        "plt.ylabel(\"Jumlah Terkonfirmasi\")\n",
        "plt.title(\"Top 10 Negara dengan Jumlah Terkonfirmasi COVID-19 Tertinggi Pada Tahun 2020\")\n",
        "plt.xticks(rotation=45)\n",
        "plt.show()"
      ],
      "metadata": {
        "colab": {
          "base_uri": "https://localhost:8080/",
          "height": 639
        },
        "id": "oP86QFHdUcxG",
        "outputId": "3c159cb5-0b9e-47f8-b8b8-9d98f5fa07c2"
      },
      "execution_count": 165,
      "outputs": [
        {
          "output_type": "display_data",
          "data": {
            "text/plain": [
              "<Figure size 1000x600 with 1 Axes>"
            ],
            "image/png": "[encoded data removed]"
          },
          "metadata": {}
        }
      ]
    },
    {
      "cell_type": "code",
      "source": [
        "# Filter data untuk negara-negara dengan jumlah kematian di atas 100 orang\n",
        "negara_terparah = data_covid[data_covid[\"deaths\"] > 100]"
      ],
      "metadata": {
        "id": "5NNdujUKUn0l"
      },
      "execution_count": 166,
      "outputs": []
    },
    {
      "cell_type": "code",
      "source": [
        "# Mengelompokkan data berdasarkan negara dan menjumlahkan jumlah kematian\n",
        "kematian_per_negara = negara_terparah.groupby(\"country_region\")[\"deaths\"].sum()\n"
      ],
      "metadata": {
        "id": "K1YRHLO9VEXk"
      },
      "execution_count": 167,
      "outputs": []
    },
    {
      "cell_type": "code",
      "source": [
        "# Mengurutkan data secara menurun berdasarkan jumlah kematian\n",
        "kematian_per_negara = kematian_per_negara.sort_values(ascending=False)"
      ],
      "metadata": {
        "id": "ovC7ysKGVGyj"
      },
      "execution_count": 168,
      "outputs": []
    },
    {
      "cell_type": "code",
      "source": [
        "# Mengambil negara dengan jumlah kematian tertinggi\n",
        "negara_tertinggi = kematian_per_negara.head(1).index[0]"
      ],
      "metadata": {
        "id": "Dx1ftQwmVJMV"
      },
      "execution_count": 169,
      "outputs": []
    },
    {
      "cell_type": "code",
      "source": [
        "print(\"Negara terparah dengan kriteria kematian di atas 100 orang:\", negara_tertinggi)"
      ],
      "metadata": {
        "colab": {
          "base_uri": "https://localhost:8080/"
        },
        "id": "aKEs1lnFVK8b",
        "outputId": "f781d98b-083a-48cb-b65d-b3cb20fce169"
      },
      "execution_count": 170,
      "outputs": [
        {
          "output_type": "stream",
          "name": "stdout",
          "text": [
            "Negara terparah dengan kriteria kematian di atas 100 orang: US\n"
          ]
        }
      ]
    },
    {
      "cell_type": "code",
      "source": [
        "# Filter data untuk provinsi di AS dengan jumlah kematian di atas 1000 orang\n",
        "provinsi_terparah_us = data_covid[(data_covid[\"country_region\"] == \"US\") & (data_covid[\"deaths\"] > 1000)]"
      ],
      "metadata": {
        "id": "v-VkF0hxVdsU"
      },
      "execution_count": 171,
      "outputs": []
    },
    {
      "cell_type": "code",
      "source": [
        "# Mengambil provinsi-provinsi yang memenuhi kriteria\n",
        "provinsi_hotspot = provinsi_terparah_us[\"province_state\"].unique()"
      ],
      "metadata": {
        "id": "ZRReSgYYVgOK"
      },
      "execution_count": 172,
      "outputs": []
    },
    {
      "cell_type": "code",
      "source": [
        "print(\"Provinsi di AS dengan kematian di atas 1000 orang:\")\n",
        "print(provinsi_hotspot)"
      ],
      "metadata": {
        "colab": {
          "base_uri": "https://localhost:8080/"
        },
        "id": "gvKrMJMHVial",
        "outputId": "8391ebca-d25a-4976-f89d-e044b783eb7c"
      },
      "execution_count": 173,
      "outputs": [
        {
          "output_type": "stream",
          "name": "stdout",
          "text": [
            "Provinsi di AS dengan kematian di atas 1000 orang:\n",
            "['Illinois' 'California' 'Pennsylvania' 'Florida' 'Louisiana' 'New York'\n",
            " 'Oklahoma' 'South Carolina' 'Texas' 'Arizona' 'Michigan' 'Missouri'\n",
            " 'New Jersey' 'Ohio' 'Virginia' 'Washington' 'Wisconsin' 'Colorado'\n",
            " 'Connecticut' 'Delaware' 'Georgia' 'Kansas' 'Massachusetts' 'Oregon'\n",
            " 'Rhode Island' 'Maryland' 'North Carolina' 'Alabama' 'Minnesota'\n",
            " 'Indiana' 'Kentucky' 'Nebraska' 'Nevada' 'Puerto Rico' 'New Mexico'\n",
            " 'Tennessee' 'Arkansas' 'District of Columbia' 'Iowa' 'Idaho' 'Utah'\n",
            " 'Hawaii']\n"
          ]
        }
      ]
    },
    {
      "cell_type": "code",
      "source": [
        "# Menghitung jumlah kematian per provinsi\n",
        "kematian_per_provinsi = provinsi_terparah_us.groupby(\"province_state\")[\"deaths\"].sum()"
      ],
      "metadata": {
        "id": "A0afNxHjWILE"
      },
      "execution_count": 174,
      "outputs": []
    },
    {
      "cell_type": "code",
      "source": [
        "# Mengambil 5 provinsi teratas\n",
        "top_5_provinsi = kematian_per_provinsi.head(5)"
      ],
      "metadata": {
        "id": "kKdBG_08VzSo"
      },
      "execution_count": 175,
      "outputs": []
    },
    {
      "cell_type": "code",
      "source": [
        "# Membuat pie chart\n",
        "plt.figure(figsize=(8, 6))\n",
        "plt.pie(top_5_provinsi, labels=top_5_provinsi.index, autopct='%1.1f%%')\n",
        "plt.title(\"US Covid Hotspot\")\n",
        "plt.show()"
      ],
      "metadata": {
        "colab": {
          "base_uri": "https://localhost:8080/",
          "height": 521
        },
        "id": "ttB52aWbWeva",
        "outputId": "127ca067-a895-4b96-e70e-b8daa655b3a4"
      },
      "execution_count": 176,
      "outputs": [
        {
          "output_type": "display_data",
          "data": {
            "text/plain": [
              "<Figure size 800x600 with 1 Axes>"
            ],
            "image/png": "[encoded data removed]"
          },
          "metadata": {}
        }
      ]
    },
    {
      "cell_type": "markdown",
      "source": [
        "# Kesimpulan"
      ],
      "metadata": {
        "id": "aXIi9EPeXvHA"
      }
    },
    {
      "cell_type": "markdown",
      "source": [
        "Kesimpulannya adalah pada tahun 2020 angka kematian tertinggi terjadi antara bulan April hingga bulan December, dimana pada tahun 2020 ini negara yang memiliki jumlah angka terkonfirmasi covid terbanyak adalah US, India, dan Brazil.\n",
        "\n",
        "US sendiri memiliki top 5 provinsi angka terkonfirmasi covid terbanyak yaitu California, Arizona Colorado, Abama, dan Arkansas. Provinsi ini menjadi salah satu hotspot penyebaran Covid di Amerika."
      ],
      "metadata": {
        "id": "XmU6ETl9XxQ7"
      }
    }
  ]
}