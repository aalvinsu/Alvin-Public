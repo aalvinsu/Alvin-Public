{
  "nbformat": 4,
  "nbformat_minor": 0,
  "metadata": {
    "colab": {
      "provenance": [],
      "authorship_tag": "ABX9TyO4srj0WvkH+4JfM/WhGDyZ",
      "include_colab_link": true
    },
    "kernelspec": {
      "name": "python3",
      "display_name": "Python 3"
    },
    "language_info": {
      "name": "python"
    }
  },
  "cells": [
    {
      "cell_type": "markdown",
      "metadata": {
        "id": "view-in-github",
        "colab_type": "text"
      },
      "source": [
        "<a href=\"https://colab.research.google.com/github/aalvinsu/Alvin-Public/blob/main/GA4_Analysis.ipynb\" target=\"_parent\"><img src=\"https://colab.research.google.com/assets/colab-badge.svg\" alt=\"Open In Colab\"/></a>"
      ]
    },
    {
      "cell_type": "markdown",
      "source": [
        "Pada analisis kali ini kita akan membahas bagaimana customer behavior pada Google Merchendise Store https://shop.googlemerchandisestore.com/ (dataset: bigquery-public-data.ga4_obfuscated_sample_ecommerce.events_) dan bagaimana mereka berinteraksi pada official Google online shop tersebut.\n",
        "\n",
        "Berikut adalah beberapa pertanyaan yang akan terjawab mengenai behavior mereka selama kurun waktu 3 bulan (2020-11-01 to 2021-01-31)\n",
        "\n",
        "Dengan kita membaca penelitian ini, kita akan memahami objektif dari riset ini, yaitu:\n",
        "\n",
        "1. Overall top global income dari Google Merchandise Store.\n",
        "2. Customer Behavior\n",
        "3. Customer Journey"
      ],
      "metadata": {
        "id": "DC_eBpl9Wa27"
      }
    },
    {
      "cell_type": "markdown",
      "source": [
        "## Import Data"
      ],
      "metadata": {
        "id": "UYSTczn7WYx3"
      }
    },
    {
      "cell_type": "code",
      "source": [
        "from google.colab import auth\n",
        "from google.cloud import bigquery\n",
        "import matplotlib.pyplot as plt\n",
        "# Autentikasi akun Google\n",
        "auth.authenticate_user()\n",
        "\n",
        "# Membuat klien BigQuery\n",
        "client = bigquery.Client(project='iconic-elevator-196204')"
      ],
      "metadata": {
        "id": "ACFzTydeNYYS"
      },
      "execution_count": 57,
      "outputs": []
    },
    {
      "cell_type": "markdown",
      "source": [
        "## Eksplorasi Data"
      ],
      "metadata": {
        "id": "gkrArv-POFAR"
      }
    },
    {
      "cell_type": "markdown",
      "source": [
        "### Mengetahui jumlah event pada website"
      ],
      "metadata": {
        "id": "KLiWJhWLOHYU"
      }
    },
    {
      "cell_type": "code",
      "source": [
        "# Mengetahui jumlah event pada website\n",
        "query = '''\n",
        "SELECT\n",
        "  COUNT(*) AS event_count,\n",
        "  COUNT(DISTINCT user_pseudo_id) AS user_count,\n",
        "  COUNT(DISTINCT event_date) AS day_count\n",
        "FROM `bigquery-public-data.ga4_obfuscated_sample_ecommerce.events_*`\n",
        "'''\n",
        "\n",
        "# Menjalankan query menggunakan klien BigQuery\n",
        "query_job = client.query(query)\n",
        "\n",
        "# Mendapatkan hasil query\n",
        "results = query_job.result()\n",
        "\n",
        "# Menampilkan hasil\n",
        "for row in results:\n",
        "  print(f\"Event Count: {row.event_count}\")\n",
        "  print(f\"User Count: {row.user_count}\")\n",
        "  print(f\"Day Count: {row.day_count}\")"
      ],
      "metadata": {
        "colab": {
          "base_uri": "https://localhost:8080/"
        },
        "id": "Fc4qJsKnOAjg",
        "outputId": "70b0c5a9-59a4-4648-fdfa-8c5ca6a82e88"
      },
      "execution_count": 58,
      "outputs": [
        {
          "output_type": "stream",
          "name": "stdout",
          "text": [
            "Event Count: 4295584\n",
            "User Count: 270154\n",
            "Day Count: 92\n"
          ]
        }
      ]
    },
    {
      "cell_type": "markdown",
      "source": [
        "## Menganalisis Revenue dari ecommerce"
      ],
      "metadata": {
        "id": "7hEzP2-FtFPP"
      }
    },
    {
      "cell_type": "markdown",
      "source": [
        "### Mengetahui 3 negara pembeli terbanyak"
      ],
      "metadata": {
        "id": "YGlByhQyYC1a"
      }
    },
    {
      "cell_type": "code",
      "source": [
        "# Mengetahui 3 negara pembeli terbanyak\n",
        "query = \"\"\"\n",
        "SELECT\n",
        "    geo.country AS country,\n",
        "    SUM(ecommerce.purchase_revenue) AS revenue\n",
        "FROM\n",
        "    `bigquery-public-data.ga4_obfuscated_sample_ecommerce.events_*`\n",
        "WHERE\n",
        "    _TABLE_SUFFIX BETWEEN '20201101' AND '20210131'\n",
        "    AND event_name = 'purchase'\n",
        "    AND geo.country IS NOT NULL\n",
        "GROUP BY\n",
        "    country\n",
        "ORDER BY\n",
        "    revenue DESC\n",
        "LIMIT\n",
        "    3\n",
        "\"\"\"\n",
        "\n",
        "# Menjalankan query menggunakan klien BigQuery\n",
        "query_job = client.query(query)\n",
        "\n",
        "# Mendapatkan hasil query\n",
        "results = query_job.result()\n",
        "\n",
        "# Menampilkan hasil\n",
        "for row in results:\n",
        "    print(f\"Country: {row.country}\")\n",
        "    print(f\"Revenue: {row.revenue}\")\n",
        "    print(\"---\")"
      ],
      "metadata": {
        "colab": {
          "base_uri": "https://localhost:8080/"
        },
        "id": "ZzdhYUaVX-Eo",
        "outputId": "6329c1aa-9f0e-466f-d428-747b920a4cde"
      },
      "execution_count": 60,
      "outputs": [
        {
          "output_type": "stream",
          "name": "stdout",
          "text": [
            "Country: United States\n",
            "Revenue: 160573.0\n",
            "---\n",
            "Country: India\n",
            "Revenue: 34986.0\n",
            "---\n",
            "Country: Canada\n",
            "Revenue: 32799.0\n",
            "---\n"
          ]
        }
      ]
    },
    {
      "cell_type": "markdown",
      "source": [
        "Karena US adalah negara dengan penyumbang revenue terbanyak pada ecommerce milik Google, kita bisa melakukan analisis lebih dalam mengenai grafik bulanan dari revenue yang diberikan oleh konsumen yang berasal dari US"
      ],
      "metadata": {
        "id": "gG_Mw6GPr9-8"
      }
    },
    {
      "cell_type": "markdown",
      "source": [
        "## Mencari Tahu Berapa Jumlah Revenue dari US"
      ],
      "metadata": {
        "id": "3og5GyUTYJ6o"
      }
    },
    {
      "cell_type": "code",
      "source": [
        "# Menjalankan query SQL\n",
        "query = \"\"\"\n",
        "SELECT\n",
        "  FORMAT_TIMESTAMP('%Y-%m', PARSE_TIMESTAMP('%Y%m%d', _TABLE_SUFFIX)) AS month,\n",
        "  SUM(ecommerce.purchase_revenue) AS revenue\n",
        "FROM\n",
        "  `bigquery-public-data.ga4_obfuscated_sample_ecommerce.events_*`\n",
        "WHERE\n",
        "  geo.country = 'United States'\n",
        "  AND _TABLE_SUFFIX BETWEEN '20201101' AND '20210131'\n",
        "  AND ecommerce.purchase_revenue IS NOT NULL\n",
        "GROUP BY\n",
        "  month\n",
        "ORDER BY\n",
        "  month\n",
        "\"\"\"\n",
        "\n",
        "# Menjalankan query menggunakan klien BigQuery\n",
        "query_job = client.query(query)\n",
        "\n",
        "# Mendapatkan hasil query\n",
        "results = query_job.result()\n",
        "\n",
        "# Membuat list bulan dan pendapatan\n",
        "months = []\n",
        "revenues = []\n",
        "for row in results:\n",
        "    months.append(row.month)\n",
        "    revenues.append(row.revenue)\n",
        "\n",
        "# Membuat plot\n",
        "plt.figure(figsize=(10, 6))\n",
        "plt.bar(months, revenues)\n",
        "plt.xlabel('Month')\n",
        "plt.ylabel('Revenue (USD)')\n",
        "plt.title('Revenue from US per Month')\n",
        "plt.xticks(rotation=45)\n",
        "plt.show()"
      ],
      "metadata": {
        "colab": {
          "base_uri": "https://localhost:8080/",
          "height": 601
        },
        "id": "MafwuywkcmP4",
        "outputId": "242e8987-8ba8-4597-881e-91f33d7ac6cd"
      },
      "execution_count": 61,
      "outputs": [
        {
          "output_type": "display_data",
          "data": {
            "text/plain": [
              "<Figure size 1000x600 with 1 Axes>"
            ],
            "image/png": "[encoded data removed]"
          },
          "metadata": {}
        }
      ]
    },
    {
      "cell_type": "markdown",
      "source": [
        "## Customer Behaviour Analisis"
      ],
      "metadata": {
        "id": "h-elQXliXQbJ"
      }
    },
    {
      "cell_type": "markdown",
      "source": [
        "### Mengetahui Rata-rata jumlah produk yang terjual kepada setiap usernya"
      ],
      "metadata": {
        "id": "GfgaQgvMQ32M"
      }
    },
    {
      "cell_type": "code",
      "source": [
        "# Mengetahui Rata-rata jumlah produk yang terjual kepada setiap usernya\n",
        "query = '''\n",
        "SELECT\n",
        "  COUNT(*) / COUNT(DISTINCT user_pseudo_id) AS avg_transaction_per_purchaser\n",
        "FROM\n",
        "  `bigquery-public-data.ga4_obfuscated_sample_ecommerce.events_*`\n",
        "WHERE\n",
        "  event_name IN ('in_app_purchase', 'purchase')\n",
        "  AND _TABLE_SUFFIX BETWEEN '20201201' AND '20210131'\n",
        "'''\n",
        "\n",
        "# Menjalankan query menggunakan klien BigQuery\n",
        "query_job = client.query(query)\n",
        "\n",
        "# Mendapatkan hasil query\n",
        "results = query_job.result()\n",
        "\n",
        "# Menampilkan hasil\n",
        "for row in results:\n",
        "  print(f\"Avg Transaction per Purchaser: {row.avg_transaction_per_purchaser}\")"
      ],
      "metadata": {
        "colab": {
          "base_uri": "https://localhost:8080/"
        },
        "id": "mRtw69VLQq5Y",
        "outputId": "3389bd14-cf97-4b37-c890-94722a1dae95"
      },
      "execution_count": 63,
      "outputs": [
        {
          "output_type": "stream",
          "name": "stdout",
          "text": [
            "Avg Transaction per Purchaser: 1.2138805472138805\n"
          ]
        }
      ]
    },
    {
      "cell_type": "markdown",
      "source": [
        "Rata-Rata jumlah pageview terhadap jumlah pembelian"
      ],
      "metadata": {
        "id": "DWuA2gv0WFtM"
      }
    },
    {
      "cell_type": "code",
      "source": [
        "# Rata-Rata jumlah pageview terhadap jumlah pembelian\n",
        "query = \"\"\"\n",
        "WITH\n",
        "  UserInfo AS (\n",
        "    SELECT\n",
        "      user_pseudo_id,\n",
        "      COUNTIF(event_name = 'page_view') AS page_view_count,\n",
        "      COUNTIF(event_name IN ('in_app_purchase', 'purchase')) AS purchase_event_count\n",
        "    FROM `bigquery-public-data.ga4_obfuscated_sample_ecommerce.events_*`\n",
        "    WHERE _TABLE_SUFFIX BETWEEN '20201201' AND '20201202'\n",
        "    GROUP BY 1\n",
        "  )\n",
        "SELECT\n",
        "  (purchase_event_count > 0) AS purchaser,\n",
        "  COUNT(*) AS user_count,\n",
        "  SUM(page_view_count) AS total_page_views,\n",
        "  SUM(page_view_count) / COUNT(*) AS avg_page_views\n",
        "FROM UserInfo\n",
        "GROUP BY 1\n",
        "\"\"\"\n",
        "\n",
        "# Menjalankan query menggunakan klien BigQuery\n",
        "query_job = client.query(query)\n",
        "\n",
        "# Mendapatkan hasil query\n",
        "results = query_job.result()\n",
        "\n",
        "# Menampilkan hasil\n",
        "for row in results:\n",
        "    print(f\"Purchaser: {row.purchaser}\")\n",
        "    print(f\"User Count: {row.user_count}\")\n",
        "    print(f\"Total Page Views: {row.total_page_views}\")\n",
        "    print(f\"Avg Page Views: {row.avg_page_views}\")\n",
        "    print(\"---\")"
      ],
      "metadata": {
        "colab": {
          "base_uri": "https://localhost:8080/"
        },
        "id": "D8yeSdd2ZKBb",
        "outputId": "6fa329ee-27ee-4f60-916e-c724ce473b33"
      },
      "execution_count": 64,
      "outputs": [
        {
          "output_type": "stream",
          "name": "stdout",
          "text": [
            "Purchaser: False\n",
            "User Count: 7916\n",
            "Total Page Views: 34786\n",
            "Avg Page Views: 4.394391106619505\n",
            "---\n",
            "Purchaser: True\n",
            "User Count: 172\n",
            "Total Page Views: 6591\n",
            "Avg Page Views: 38.31976744186046\n",
            "---\n"
          ]
        }
      ]
    },
    {
      "cell_type": "markdown",
      "source": [
        "### Menghitung pengeluaran 10 user per session by user terbanyak"
      ],
      "metadata": {
        "id": "82m8W8nMs7vQ"
      }
    },
    {
      "cell_type": "code",
      "source": [
        "# Menghitung pengeluaran 10 user per session by user terbanyak\n",
        "query = \"\"\"\n",
        "SELECT\n",
        "  user_pseudo_id,\n",
        "  COUNT(DISTINCT(SELECT EP.value.int_value FROM UNNEST(event_params) AS EP WHERE key = 'ga_session_id')) AS session_count,\n",
        "  AVG(\n",
        "    (\n",
        "      SELECT COALESCE(EP.value.int_value, EP.value.float_value, EP.value.double_value)\n",
        "      FROM UNNEST(event_params) AS EP\n",
        "      WHERE key = 'value'\n",
        "    )) AS avg_spend_per_session_by_user\n",
        "FROM\n",
        "  `bigquery-public-data.ga4_obfuscated_sample_ecommerce.events_*`\n",
        "WHERE\n",
        "  event_name = 'purchase'\n",
        "  AND _TABLE_SUFFIX BETWEEN '20201101' AND '20210131'\n",
        "GROUP BY\n",
        "  user_pseudo_id\n",
        "ORDER BY\n",
        "  avg_spend_per_session_by_user DESC\n",
        "LIMIT\n",
        "  10\n",
        "\"\"\"\n",
        "\n",
        "# Menjalankan query menggunakan klien BigQuery\n",
        "query_job = client.query(query)\n",
        "\n",
        "# Mendapatkan hasil query\n",
        "results = query_job.result()\n",
        "\n",
        "# Menampilkan hasil\n",
        "for row in results:\n",
        "    print(f\"User Pseudo ID: {row.user_pseudo_id}\")\n",
        "    print(f\"Session Count: {row.session_count}\")\n",
        "    print(f\"Avg Spend per Session by User: {row.avg_spend_per_session_by_user}\")\n",
        "    print(\"---\")"
      ],
      "metadata": {
        "colab": {
          "base_uri": "https://localhost:8080/"
        },
        "id": "gjP-76E8s2Sq",
        "outputId": "c19c3bde-b5d1-43a1-ca3f-b4f71fbd0661"
      },
      "execution_count": 74,
      "outputs": [
        {
          "output_type": "stream",
          "name": "stdout",
          "text": [
            "User Pseudo ID: 81036435.1157569602\n",
            "Session Count: 1\n",
            "Avg Spend per Session by User: 1530.4\n",
            "---\n",
            "User Pseudo ID: 7134559299.4601048201\n",
            "Session Count: 1\n",
            "Avg Spend per Session by User: 1200.0\n",
            "---\n",
            "User Pseudo ID: 12306432.7939489449\n",
            "Session Count: 1\n",
            "Avg Spend per Session by User: 1170.0\n",
            "---\n",
            "User Pseudo ID: 51248671.8133898155\n",
            "Session Count: 1\n",
            "Avg Spend per Session by User: 997.5\n",
            "---\n",
            "User Pseudo ID: 2566418.5535518831\n",
            "Session Count: 1\n",
            "Avg Spend per Session by User: 864.8\n",
            "---\n",
            "User Pseudo ID: 39388951.3688006674\n",
            "Session Count: 1\n",
            "Avg Spend per Session by User: 805.6\n",
            "---\n",
            "User Pseudo ID: 2278219.0388083386\n",
            "Session Count: 1\n",
            "Avg Spend per Session by User: 784.32\n",
            "---\n",
            "User Pseudo ID: 1033085.6917088117\n",
            "Session Count: 1\n",
            "Avg Spend per Session by User: 711.84\n",
            "---\n",
            "User Pseudo ID: 1532927.6404323781\n",
            "Session Count: 1\n",
            "Avg Spend per Session by User: 683.24\n",
            "---\n",
            "User Pseudo ID: 6822684.1627482502\n",
            "Session Count: 1\n",
            "Avg Spend per Session by User: 671.2\n",
            "---\n"
          ]
        }
      ]
    },
    {
      "cell_type": "markdown",
      "source": [
        "Mengetahui Customer Journey"
      ],
      "metadata": {
        "id": "x4zEk8vhtdXH"
      }
    },
    {
      "cell_type": "markdown",
      "source": [
        "### Mengetahui channel marketing yang paling banyak mendatangkan pengunjung"
      ],
      "metadata": {
        "id": "yMD86LDPsN20"
      }
    },
    {
      "cell_type": "code",
      "source": [
        "# Query\n",
        "query = \"\"\"\n",
        "WITH prep AS (\n",
        "  SELECT\n",
        "    user_pseudo_id,\n",
        "    (SELECT value.int_value FROM UNNEST(event_params) WHERE key = 'ga_session_id') AS session_id,\n",
        "    MAX((SELECT value.string_value FROM UNNEST(event_params) WHERE key = 'campaign')) AS campaign\n",
        "  FROM\n",
        "    `bigquery-public-data.ga4_obfuscated_sample_ecommerce.events_*`\n",
        "  WHERE\n",
        "    _TABLE_SUFFIX BETWEEN '20201101' AND '20210131'\n",
        "  GROUP BY\n",
        "    user_pseudo_id,\n",
        "    session_id\n",
        ")\n",
        "SELECT\n",
        "  COALESCE(campaign, '(direct)') AS campaign_session,\n",
        "  COUNT(DISTINCT CONCAT(user_pseudo_id, session_id)) AS sessions\n",
        "FROM\n",
        "  prep\n",
        "GROUP BY\n",
        "  campaign_session\n",
        "ORDER BY\n",
        "  sessions DESC;\n",
        "\"\"\"\n",
        "\n",
        "# Jalankan query\n",
        "query_job = client.query(query)\n",
        "\n",
        "# Dapatkan hasil query\n",
        "results = query_job.result()\n",
        "\n",
        "# Tampilkan hasil\n",
        "for row in results:\n",
        "    print(\"Campaign Session:\", row.campaign_session)\n",
        "    print(\"Sessions:\", row.sessions)\n",
        "    print(\"---\")\n",
        "\n",
        "# Jalankan query dan simpan hasilnya dalam variabel results\n",
        "query_job = client.query(query)\n",
        "results = query_job.result()\n",
        "\n",
        "# Simpan hasil query dalam daftar\n",
        "data = [(row.campaign_session, row.sessions) for row in results]\n",
        "\n",
        "# Urutkan data berdasarkan sessions secara descending\n",
        "sorted_data = sorted(data, key=lambda x: x[1], reverse=True)\n",
        "\n",
        "# Ambil 5 data teratas dan sisanya digabungkan menjadi \"others\"\n",
        "top_5 = sorted_data[:5]\n",
        "others = sorted_data[5:]\n",
        "sessions_top_5 = [d[1] for d in top_5]\n",
        "sessions_others = sum(d[1] for d in others)\n",
        "\n",
        "# Label dan nilai untuk top 5 data\n",
        "labels_top_5 = [d[0] for d in top_5]\n",
        "labels_top_5.append(\"Others\")\n",
        "sessions_top_5.append(sessions_others)\n",
        "\n",
        "# Buat pie chart\n",
        "plt.figure(figsize=(8, 8))\n",
        "plt.pie(sessions_top_5, labels=labels_top_5, autopct='%1.1f%%')\n",
        "plt.title('Top 5 Campaign Sessions')\n",
        "\n",
        "# Tampilkan pie chart\n",
        "plt.show()"
      ],
      "metadata": {
        "colab": {
          "base_uri": "https://localhost:8080/",
          "height": 1000
        },
        "id": "g6eQsL-QdeBv",
        "outputId": "f49be8d5-ef80-4d2a-ca0c-607a728c2b2c"
      },
      "execution_count": 78,
      "outputs": [
        {
          "output_type": "stream",
          "name": "stdout",
          "text": [
            "Campaign Session: (direct)\n",
            "Sessions: 122745\n",
            "---\n",
            "Campaign Session: (referral)\n",
            "Sessions: 122672\n",
            "---\n",
            "Campaign Session: (organic)\n",
            "Sessions: 73471\n",
            "---\n",
            "Campaign Session: <Other>\n",
            "Sessions: 34508\n",
            "---\n",
            "Campaign Session: (data deleted)\n",
            "Sessions: 5051\n",
            "---\n",
            "Campaign Session: Data Share Promo\n",
            "Sessions: 1484\n",
            "---\n",
            "Campaign Session: NewYear_V1\n",
            "Sessions: 68\n",
            "---\n",
            "Campaign Session: NewYear_V2\n",
            "Sessions: 39\n",
            "---\n",
            "Campaign Session: Holiday_V2\n",
            "Sessions: 38\n",
            "---\n",
            "Campaign Session: BlackFriday_V2\n",
            "Sessions: 25\n",
            "---\n",
            "Campaign Session: Holiday_V1\n",
            "Sessions: 19\n",
            "---\n",
            "Campaign Session: BlackFriday_V1\n",
            "Sessions: 9\n",
            "---\n"
          ]
        },
        {
          "output_type": "display_data",
          "data": {
            "text/plain": [
              "<Figure size 800x800 with 1 Axes>"
            ],
            "image/png": "[encoded data removed]"
          },
          "metadata": {}
        }
      ]
    },
    {
      "cell_type": "code",
      "source": [
        "# Query\n",
        "query = \"\"\"\n",
        "WITH prep AS (\n",
        "  SELECT\n",
        "    user_pseudo_id,\n",
        "    (SELECT value.int_value FROM UNNEST(event_params) WHERE key = 'ga_session_id') AS session_id,\n",
        "    MAX((SELECT value.string_value FROM UNNEST(event_params) WHERE key = 'medium')) AS medium\n",
        "  FROM\n",
        "    `bigquery-public-data.ga4_obfuscated_sample_ecommerce.events_*`\n",
        "  WHERE\n",
        "    _TABLE_SUFFIX BETWEEN '20201101' AND '20210131'\n",
        "  GROUP BY\n",
        "    user_pseudo_id,\n",
        "    session_id\n",
        ")\n",
        "SELECT\n",
        "  COALESCE(medium, '(none)') AS medium_session,\n",
        "  COUNT(DISTINCT CONCAT(user_pseudo_id, session_id)) AS sessions\n",
        "FROM\n",
        "  prep\n",
        "GROUP BY\n",
        "  medium_session\n",
        "ORDER BY\n",
        "  sessions DESC;\n",
        "\"\"\"\n",
        "\n",
        "# Jalankan query\n",
        "query_job = client.query(query)\n",
        "\n",
        "# Dapatkan hasil query\n",
        "results = query_job.result()\n",
        "\n",
        "# Tampilkan hasil\n",
        "for row in results:\n",
        "    print(\"Medium Session:\", row.medium_session)\n",
        "    print(\"Sessions:\", row.sessions)\n",
        "    print(\"---\")\n",
        "\n",
        "# Jalankan query dan simpan hasilnya dalam variabel results\n",
        "query_job = client.query(query)\n",
        "results = list(query_job.result())  # Ubah menjadi list untuk menghindari kesalahan \"Iterator has already started\"\n",
        "\n",
        "# Simpan hasil query dalam daftar\n",
        "data = [(row.medium_session, row.sessions) for row in results]\n",
        "\n",
        "# Urutkan data berdasarkan sessions secara descending\n",
        "sorted_data = sorted(data, key=lambda x: x[1], reverse=True)\n",
        "\n",
        "# Ambil 5 data teratas dan sisanya digabungkan menjadi \"others\"\n",
        "top_5 = sorted_data[:5]\n",
        "others = sorted_data[5:]\n",
        "sessions_top_5 = [d[1] for d in top_5]\n",
        "sessions_others = sum(d[1] for d in others)\n",
        "\n",
        "# Label dan nilai untuk top 5 data\n",
        "labels_top_5 = [d[0] for d in top_5]\n",
        "labels_top_5.append(\"Others\")\n",
        "sessions_top_5.append(sessions_others)\n",
        "\n",
        "# Buat doughnut chart\n",
        "plt.figure(figsize=(8, 8))\n",
        "plt.pie(sessions_top_5, labels=labels_top_5, autopct='%1.1f%%', startangle=90)\n",
        "plt.title('Medium Sessions (Doughnut Chart)')\n",
        "\n",
        "# Lingkaran dalam (doughnut)\n",
        "circle = plt.Circle((0, 0), 0.6, color='white')\n",
        "fig = plt.gcf()\n",
        "fig.gca().add_artist(circle)\n",
        "\n",
        "# Tampilkan doughnut chart\n",
        "plt.axis('equal')\n",
        "plt.show()"
      ],
      "metadata": {
        "colab": {
          "base_uri": "https://localhost:8080/",
          "height": 1000
        },
        "id": "mb4BCr9cko2L",
        "outputId": "0eea9be6-1896-4345-c648-7e200ed6c3da"
      },
      "execution_count": 80,
      "outputs": [
        {
          "output_type": "stream",
          "name": "stdout",
          "text": [
            "Medium Session: referral\n",
            "Sessions: 132249\n",
            "---\n",
            "Medium Session: (none)\n",
            "Sessions: 122728\n",
            "---\n",
            "Medium Session: organic\n",
            "Sessions: 74433\n",
            "---\n",
            "Medium Session: <Other>\n",
            "Sessions: 18756\n",
            "---\n",
            "Medium Session: cpc\n",
            "Sessions: 5710\n",
            "---\n",
            "Medium Session: (data deleted)\n",
            "Sessions: 5155\n",
            "---\n",
            "Medium Session: affiliate\n",
            "Sessions: 1012\n",
            "---\n",
            "Medium Session: email\n",
            "Sessions: 86\n",
            "---\n"
          ]
        },
        {
          "output_type": "display_data",
          "data": {
            "text/plain": [
              "<Figure size 800x800 with 1 Axes>"
            ],
            "image/png": "[encoded data removed]"
          },
          "metadata": {}
        }
      ]
    },
    {
      "cell_type": "markdown",
      "source": [
        "## Mengetahui Channel Medium Marketing Yang Tepat Untuk Mengakuisisi User Baru"
      ],
      "metadata": {
        "id": "76Lk1I4bmym-"
      }
    },
    {
      "cell_type": "code",
      "source": [
        "# Query\n",
        "query = \"\"\"\n",
        "SELECT\n",
        "    -- user default channel grouping (dimension | the channel group associated with an user's first session)\n",
        "    CASE\n",
        "        WHEN traffic_source.source = '(direct)' AND (traffic_source.medium IN ('(not set)', '(none)')) THEN 'Direct'\n",
        "        WHEN REGEXP_CONTAINS(traffic_source.name, 'cross-network') THEN 'Cross-network'\n",
        "        WHEN (REGEXP_CONTAINS(traffic_source.source, 'alibaba|amazon|google shopping|shopify|etsy|ebay|stripe|walmart')\n",
        "            OR REGEXP_CONTAINS(traffic_source.name, '^(.*(([^a-df-z]|^)shop|shopping).*)$'))\n",
        "            AND REGEXP_CONTAINS(traffic_source.medium, '^(.*cp.*|ppc|paid.*)$') THEN 'Paid Shopping'\n",
        "        WHEN REGEXP_CONTAINS(traffic_source.source, 'baidu|bing|duckduckgo|ecosia|google|yahoo|yandex')\n",
        "            AND REGEXP_CONTAINS(traffic_source.medium, '^(.*cp.*|ppc|paid.*)$') THEN 'Paid Search'\n",
        "        WHEN REGEXP_CONTAINS(traffic_source.source, 'badoo|facebook|fb|instagram|linkedin|pinterest|tiktok|twitter|whatsapp')\n",
        "            AND REGEXP_CONTAINS(traffic_source.medium, '^(.*cp.*|ppc|paid.*)$') THEN 'Paid Social'\n",
        "        WHEN REGEXP_CONTAINS(traffic_source.source, 'dailymotion|disneyplus|netflix|youtube|vimeo|twitch|vimeo|youtube')\n",
        "            AND REGEXP_CONTAINS(traffic_source.medium, '^(.*cp.*|ppc|paid.*)$') THEN 'Paid Video'\n",
        "        WHEN traffic_source.medium IN ('display', 'banner', 'expandable', 'interstitial', 'cpm') THEN 'Display'\n",
        "        WHEN REGEXP_CONTAINS(traffic_source.source, 'alibaba|amazon|google shopping|shopify|etsy|ebay|stripe|walmart')\n",
        "            OR REGEXP_CONTAINS(traffic_source.name, '^(.*(([^a-df-z]|^)shop|shopping).*)$') THEN 'Organic Shopping'\n",
        "        WHEN REGEXP_CONTAINS(traffic_source.source, 'badoo|facebook|fb|instagram|linkedin|pinterest|tiktok|twitter|whatsapp')\n",
        "            OR traffic_source.medium IN ('social', 'social-network', 'social-media', 'sm', 'social network', 'social media') THEN 'Organic Social'\n",
        "        WHEN REGEXP_CONTAINS(traffic_source.source, 'dailymotion|disneyplus|netflix|youtube|vimeo|twitch|vimeo|youtube')\n",
        "            OR REGEXP_CONTAINS(traffic_source.medium, '^(.*video.*)$') THEN 'Organic Video'\n",
        "        WHEN REGEXP_CONTAINS(traffic_source.source, 'baidu|bing|duckduckgo|ecosia|google|yahoo|yandex')\n",
        "            OR traffic_source.medium = 'organic' THEN 'Organic Search'\n",
        "        WHEN REGEXP_CONTAINS(traffic_source.source, 'email|e-mail|e_mail|e mail')\n",
        "            OR REGEXP_CONTAINS(traffic_source.medium, 'email|e-mail|e_mail|e mail') THEN 'Email'\n",
        "        WHEN traffic_source.medium = 'affiliate' THEN 'Affiliates'\n",
        "        WHEN traffic_source.medium = 'referral' THEN 'Referral'\n",
        "        WHEN traffic_source.medium = 'audio' THEN 'Audio'\n",
        "        WHEN traffic_source.medium = 'sms' THEN 'SMS'\n",
        "        WHEN traffic_source.medium LIKE '%push'\n",
        "            OR REGEXP_CONTAINS(traffic_source.medium, 'mobile|notification') THEN 'Mobile Push Notifications'\n",
        "        ELSE 'Unassigned' END AS channel_grouping_user,\n",
        "    COUNT(DISTINCT user_pseudo_id) AS users\n",
        "FROM\n",
        "    `bigquery-public-data.ga4_obfuscated_sample_ecommerce.events_*`\n",
        "WHERE\n",
        "    _TABLE_SUFFIX BETWEEN '20201101' AND '20210131'\n",
        "GROUP BY\n",
        "    channel_grouping_user\n",
        "ORDER BY\n",
        "    users DESC;\n",
        "\"\"\"\n",
        "\n",
        "# Jalankan query\n",
        "query_job = client.query(query)\n",
        "\n",
        "# Dapatkan hasil query\n",
        "results = query_job.result()\n",
        "\n",
        "# Tampilkan hasil\n",
        "for row in results:\n",
        "    print(\"Channel Grouping User:\", row.channel_grouping_user)\n",
        "    print(\"Users:\", row.users)\n",
        "    print(\"---\")"
      ],
      "metadata": {
        "colab": {
          "base_uri": "https://localhost:8080/"
        },
        "id": "DCN8ovSalJwA",
        "outputId": "b2b4edc5-b795-4739-9270-1db730703add"
      },
      "execution_count": 71,
      "outputs": [
        {
          "output_type": "stream",
          "name": "stdout",
          "text": [
            "Channel Grouping User: Organic Search\n",
            "Users: 130848\n",
            "---\n",
            "Channel Grouping User: Direct\n",
            "Users: 75951\n",
            "---\n",
            "Channel Grouping User: Unassigned\n",
            "Users: 65309\n",
            "---\n",
            "Channel Grouping User: Referral\n",
            "Users: 32883\n",
            "---\n",
            "Channel Grouping User: Paid Search\n",
            "Users: 15527\n",
            "---\n"
          ]
        }
      ]
    },
    {
      "cell_type": "markdown",
      "source": [
        "Website ini memiliki channel akusisi Organic Search terbanyak yang artinya website ini memiliki user experience yang baik sehingga berhasil membuat search engine memprioritaskan website ini dibandingkan website lainnya. Akan tetapi adanya channel grouping \"Unassigned\" yang membuat kita harus melakukan penelitian lebih mendalam lagi apakah karena channel grouping yang disetting sudah tepat atau belum."
      ],
      "metadata": {
        "id": "-I0VJ9zEvmKx"
      }
    },
    {
      "cell_type": "markdown",
      "source": [
        "Kesimpulan dalam riset ini adalah webiste milik Google ini mendapatkan angka akuisis user terbesar melalui channel organik dan juga referral. Tidak hanya itu, website ini berhasil membuat salah satu customer berhasil melakukan pembelanjaan sebesar lebih dari $1,530 dengan jumlah 1 session, yang kemungkinan besar hal ini terjadi karena website ini sudah terpercaya dan juga berhasil membuat customer melakukan transaksi dalam jumlah besar dalam satu waktu.\n",
        "\n",
        "Setelah melihat dari jumlah transaksi yang terjadi dan channel medium yang berhasil membawa dampak besar adalah channel organik dan referral, membuat kita bisa melakukan optimisasi pada website dengan terus memberikan promo referral (affiliate) maupun membuat website lebih seamless dengan mobile optimization atau bisa mencoba membuat app."
      ],
      "metadata": {
        "id": "340uuo3owHBg"
      }
    },
    {
      "cell_type": "code",
      "source": [],
      "metadata": {
        "id": "WzT_xewaw32r"
      },
      "execution_count": 80,
      "outputs": []
    }
  ]
}