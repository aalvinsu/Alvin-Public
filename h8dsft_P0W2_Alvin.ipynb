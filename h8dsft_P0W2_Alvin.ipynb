{
  "nbformat": 4,
  "nbformat_minor": 0,
  "metadata": {
    "colab": {
      "provenance": [],
      "authorship_tag": "ABX9TyMGNsFRVbldQaNJYdFVMlQu"
    },
    "kernelspec": {
      "name": "python3",
      "display_name": "Python 3"
    },
    "language_info": {
      "name": "python"
    }
  },
  "cells": [
    {
      "cell_type": "markdown",
      "source": [
        "# Problem 1"
      ],
      "metadata": {
        "id": "GCUjDpuMoQuK"
      }
    },
    {
      "cell_type": "markdown",
      "source": [
        "## 1. Import Libary"
      ],
      "metadata": {
        "id": "Gjjme0dDZ5ZY"
      }
    },
    {
      "cell_type": "code",
      "execution_count": 163,
      "metadata": {
        "id": "TD5FkvayZdzs"
      },
      "outputs": [],
      "source": [
        "import pandas as pd \n",
        "import numpy as np\n",
        "import matplotlib\n",
        "import matplotlib.pyplot as plt\n",
        "import seaborn as sns\n",
        "from datetime import datetime\n",
        "from scipy import stats"
      ]
    },
    {
      "cell_type": "markdown",
      "source": [
        "## 2. Data Loading"
      ],
      "metadata": {
        "id": "Bus0_bzbaBFu"
      }
    },
    {
      "cell_type": "code",
      "source": [
        "# Ubah path_file_csv dengan path file CSV yang telah dihasilkan\n",
        "path_file_csv = 'h8dsft_P0GC2_Alvin.csv'\n",
        "\n",
        "# Membaca file CSV dan menyimpannya dalam bentuk dataframe\n",
        "df = pd.read_csv(path_file_csv)\n",
        "\n",
        "# Menampilkan head dari dataset (5 baris pertama)\n",
        "print(\"Head of the dataset:\")\n",
        "print(df.head())\n",
        "\n",
        "# Menampilkan tail dari dataset (5 baris terakhir)\n",
        "print(\"Tail of the dataset:\")\n",
        "print(df.tail())\n"
      ],
      "metadata": {
        "colab": {
          "base_uri": "https://localhost:8080/"
        },
        "id": "fzk8I_otZkj5",
        "outputId": "ddd251bf-140c-48d9-be16-59e369d23ee0"
      },
      "execution_count": 164,
      "outputs": [
        {
          "output_type": "stream",
          "name": "stdout",
          "text": [
            "Head of the dataset:\n",
            "  report_date                       load_time load_type  load_weight  \\\n",
            "0  2021-07-08  2021-07-08 12:00:00.000000 UTC     TIRES       2260.0   \n",
            "1  2021-07-08  2021-07-08 11:00:00.000000 UTC     TIRES       1260.0   \n",
            "2  2021-07-08  2021-07-08 03:00:00.000000 UTC     TIRES        800.0   \n",
            "3  2021-05-01  2021-05-01 12:29:00.000000 UTC     TIRES        760.0   \n",
            "4  2021-07-03  2021-07-03 12:09:00.000000 UTC     TIRES       1400.0   \n",
            "\n",
            "  dropoff_site  \n",
            "0          MRF  \n",
            "1          MRF  \n",
            "2          MRF  \n",
            "3          MRF  \n",
            "4          MRF  \n",
            "Tail of the dataset:\n",
            "      report_date                       load_time       load_type  \\\n",
            "26152  2021-03-01  2021-03-01 11:26:00.000000 UTC        ORGANICS   \n",
            "26153  2021-03-01  2021-03-01 04:27:00.000000 UTC        ORGANICS   \n",
            "26154  2021-03-01  2021-03-01 05:55:00.000000 UTC        ORGANICS   \n",
            "26155  2021-03-01  2021-03-02 01:10:00.000000 UTC        ORGANICS   \n",
            "26156  2021-03-01  2021-03-01 10:22:00.000000 UTC  RECYCLED METAL   \n",
            "\n",
            "       load_weight           dropoff_site  \n",
            "26152      12100.0       ORGANICS BY GOSH  \n",
            "26153      10900.0       ORGANICS BY GOSH  \n",
            "26154      21800.0       ORGANICS BY GOSH  \n",
            "26155       5640.0       ORGANICS BY GOSH  \n",
            "26156        360.0  AUSTIN IRON AND METAL  \n"
          ]
        }
      ]
    },
    {
      "cell_type": "markdown",
      "source": [
        "## 3. Data Cleansing"
      ],
      "metadata": {
        "id": "qsJcepMza-Ci"
      }
    },
    {
      "cell_type": "code",
      "source": [
        "# Menampilkan informasi tentang data yang hilang (missing value) pada setiap kolom\n",
        "print(\"Informasi tentang data yang hilang (missing value):\")\n",
        "print(df.isnull().sum())\n",
        "\n",
        "# Menghapus baris yang mengandung missing value\n",
        "df_cleaned = df.dropna()\n",
        "\n",
        "# Menampilkan informasi tentang data yang hilang setelah dilakukan pembersihan\n",
        "print(\"Informasi tentang data yang hilang setelah dilakukan pembersihan:\")\n",
        "print(df_cleaned.isnull().sum())"
      ],
      "metadata": {
        "colab": {
          "base_uri": "https://localhost:8080/"
        },
        "id": "jnXKfOO0aes3",
        "outputId": "193c64f6-2374-4d8d-f657-043b47df8ee3"
      },
      "execution_count": 165,
      "outputs": [
        {
          "output_type": "stream",
          "name": "stdout",
          "text": [
            "Informasi tentang data yang hilang (missing value):\n",
            "report_date        0\n",
            "load_time          0\n",
            "load_type          0\n",
            "load_weight     1048\n",
            "dropoff_site       0\n",
            "dtype: int64\n",
            "Informasi tentang data yang hilang setelah dilakukan pembersihan:\n",
            "report_date     0\n",
            "load_time       0\n",
            "load_type       0\n",
            "load_weight     0\n",
            "dropoff_site    0\n",
            "dtype: int64\n"
          ]
        }
      ]
    },
    {
      "cell_type": "markdown",
      "source": [
        "## 4. Eksplorasi Data"
      ],
      "metadata": {
        "id": "tmltQX-8bNR5"
      }
    },
    {
      "cell_type": "code",
      "source": [
        "# Menampilkan dimensi dataset (jumlah baris dan kolom)\n",
        "print(\"Dimensi dataset:\")\n",
        "print(df.shape)"
      ],
      "metadata": {
        "colab": {
          "base_uri": "https://localhost:8080/"
        },
        "id": "8gAUypfdbPX_",
        "outputId": "81993827-1fd0-422f-e685-418f8db42ac0"
      },
      "execution_count": 166,
      "outputs": [
        {
          "output_type": "stream",
          "name": "stdout",
          "text": [
            "Dimensi dataset:\n",
            "(26157, 5)\n"
          ]
        }
      ]
    },
    {
      "cell_type": "code",
      "source": [
        "# Menampilkan informasi umum tentang dataset\n",
        "print(\"Informasi umum tentang dataset:\")\n",
        "print(df.info())"
      ],
      "metadata": {
        "colab": {
          "base_uri": "https://localhost:8080/"
        },
        "id": "qYQqdWuSbpyq",
        "outputId": "e040293e-5203-42f7-811b-7128e82300cb"
      },
      "execution_count": 167,
      "outputs": [
        {
          "output_type": "stream",
          "name": "stdout",
          "text": [
            "Informasi umum tentang dataset:\n",
            "<class 'pandas.core.frame.DataFrame'>\n",
            "RangeIndex: 26157 entries, 0 to 26156\n",
            "Data columns (total 5 columns):\n",
            " #   Column        Non-Null Count  Dtype  \n",
            "---  ------        --------------  -----  \n",
            " 0   report_date   26157 non-null  object \n",
            " 1   load_time     26157 non-null  object \n",
            " 2   load_type     26157 non-null  object \n",
            " 3   load_weight   25109 non-null  float64\n",
            " 4   dropoff_site  26157 non-null  object \n",
            "dtypes: float64(1), object(4)\n",
            "memory usage: 1021.9+ KB\n",
            "None\n"
          ]
        }
      ]
    },
    {
      "cell_type": "code",
      "source": [
        "# Melihat rentang waktu pengambilan data\n",
        "print(\"Rentang waktu pengambilan data:\")\n",
        "print(\"Mulai:\", df['report_date'].min())\n",
        "print(\"Selesai:\", df['report_date'].max())"
      ],
      "metadata": {
        "colab": {
          "base_uri": "https://localhost:8080/"
        },
        "id": "J6lt1-gncj76",
        "outputId": "85c103c1-c32c-46d0-f22c-7e5b13b00eb6"
      },
      "execution_count": 168,
      "outputs": [
        {
          "output_type": "stream",
          "name": "stdout",
          "text": [
            "Rentang waktu pengambilan data:\n",
            "Mulai: 2021-01-01\n",
            "Selesai: 2021-07-09\n"
          ]
        }
      ]
    },
    {
      "cell_type": "code",
      "source": [
        "# Mengetahui tipe load sampah yang ada di kota Austin\n",
        "print(\"Tipe load sampah yang ada di kota Austin:\")\n",
        "load_types = df['load_type'].unique()\n",
        "for load_type in load_types:\n",
        "    print(load_type)"
      ],
      "metadata": {
        "colab": {
          "base_uri": "https://localhost:8080/"
        },
        "id": "nZ0-qYYDcmw-",
        "outputId": "a6e1b54a-6730-4c88-fe70-75662f369afa"
      },
      "execution_count": 169,
      "outputs": [
        {
          "output_type": "stream",
          "name": "stdout",
          "text": [
            "Tipe load sampah yang ada di kota Austin:\n",
            "TIRES\n",
            "RECYCLING - SINGLE STREAM\n",
            "SWEEPING\n",
            "BRUSH\n",
            "GARBAGE COLLECTIONS\n",
            "YARD TRIMMING\n",
            "BULK\n",
            "ORGANICS\n",
            "DEAD ANIMAL\n",
            "MIXED LITTER\n",
            "LITTER\n",
            "RECYCLED METAL\n",
            "CONTAMINATED RECYCLING\n",
            "CONTAMINATED ORGANICS\n"
          ]
        }
      ]
    },
    {
      "cell_type": "code",
      "source": [
        "# Mengetahui tempat pembuangan sampah yang ada di kota Austin\n",
        "print(\"Tempat pembuangan sampah yang ada di kota Austin:\")\n",
        "dropoff_sites = df['dropoff_site'].unique()\n",
        "for dropoff_site in dropoff_sites:\n",
        "    print(dropoff_site)"
      ],
      "metadata": {
        "colab": {
          "base_uri": "https://localhost:8080/"
        },
        "id": "xDMdiMR3cp1T",
        "outputId": "0ff26f8f-ae03-4da4-ff5e-0106f42fa2d0"
      },
      "execution_count": 170,
      "outputs": [
        {
          "output_type": "stream",
          "name": "stdout",
          "text": [
            "Tempat pembuangan sampah yang ada di kota Austin:\n",
            "MRF\n",
            "TDS - MRF\n",
            "ONION CREEK\n",
            "PARK CENTER\n",
            "HORNSBY BEND\n",
            "TDS LANDFILL\n",
            "GREAT NORTHERN\n",
            "ORGANICS BY GOSH\n",
            "BALCONES RECYCLING\n",
            "ON ROUTE HIGH DUMP\n",
            "AUSTIN IRON AND METAL\n",
            "PARK BEND\n",
            "BALCONES WOODS\n",
            "STEINER LANDFILL\n",
            "WESTFIELD\n",
            "ST. EDWARDS\n",
            "AUSTIN WOOD RECYCLING\n",
            "WILCAB\n"
          ]
        }
      ]
    },
    {
      "cell_type": "code",
      "source": [
        "# Menghitung mean (rata-rata) dari kolom load_weight\n",
        "mean_load_weight = df['load_weight'].mean()\n",
        "print(\"Mean (Rata-rata) dari load_weight:\", mean_load_weight)"
      ],
      "metadata": {
        "colab": {
          "base_uri": "https://localhost:8080/"
        },
        "id": "RaooNjTic49i",
        "outputId": "ec295774-b029-47c2-fc94-5cec1bec8920"
      },
      "execution_count": 171,
      "outputs": [
        {
          "output_type": "stream",
          "name": "stdout",
          "text": [
            "Mean (Rata-rata) dari load_weight: 12227.136307276274\n"
          ]
        }
      ]
    },
    {
      "cell_type": "code",
      "source": [
        "# Menghitung median dari kolom load_weight\n",
        "median_load_weight = df['load_weight'].median()\n",
        "print(\"Median dari load_weight:\", median_load_weight)"
      ],
      "metadata": {
        "colab": {
          "base_uri": "https://localhost:8080/"
        },
        "id": "hb6a9FJ8c8BN",
        "outputId": "0e92ed63-a077-4922-b339-1bd9d43ed3e3"
      },
      "execution_count": 172,
      "outputs": [
        {
          "output_type": "stream",
          "name": "stdout",
          "text": [
            "Median dari load_weight: 11300.0\n"
          ]
        }
      ]
    },
    {
      "cell_type": "code",
      "source": [
        "# Menghitung modus dari kolom load_type\n",
        "mode_load_type = df['load_type'].mode().values[0]\n",
        "print(\"Modus dari load_type:\", mode_load_type)"
      ],
      "metadata": {
        "colab": {
          "base_uri": "https://localhost:8080/"
        },
        "id": "HDm-gFpnc_I-",
        "outputId": "9bc936ad-4494-43f5-ba01-e6c20fbbc9af"
      },
      "execution_count": 173,
      "outputs": [
        {
          "output_type": "stream",
          "name": "stdout",
          "text": [
            "Modus dari load_type: GARBAGE COLLECTIONS\n"
          ]
        }
      ]
    },
    {
      "cell_type": "code",
      "source": [
        "# Menghitung total sampah berdasarkan dropoff_site\n",
        "total_sampah_per_site = df.groupby('dropoff_site')['load_weight'].sum().reset_index()"
      ],
      "metadata": {
        "id": "Iwm57suFdsuw"
      },
      "execution_count": 174,
      "outputs": []
    },
    {
      "cell_type": "code",
      "source": [
        "# Mengurutkan situs pembuangan sampah berdasarkan jumlah sampah terbanyak\n",
        "situs_terbanyak = total_sampah_per_site.sort_values('load_weight', ascending=False).iloc[0]"
      ],
      "metadata": {
        "id": "ejDODm7Pdu5Q"
      },
      "execution_count": 175,
      "outputs": []
    },
    {
      "cell_type": "code",
      "source": [
        "# Menampilkan situs pembuangan sampah dengan sampah terbanyak\n",
        "print(\"Situs pembuangan sampah dengan sampah terbanyak:\")\n",
        "print(\"Nama Situs:\", situs_terbanyak['dropoff_site'])\n",
        "print(\"Jumlah Sampah:\", situs_terbanyak['load_weight'])"
      ],
      "metadata": {
        "colab": {
          "base_uri": "https://localhost:8080/"
        },
        "id": "S-x-cPhEdx_q",
        "outputId": "ccab2b72-a47b-493b-ba1b-5fdf02259b07"
      },
      "execution_count": 176,
      "outputs": [
        {
          "output_type": "stream",
          "name": "stdout",
          "text": [
            "Situs pembuangan sampah dengan sampah terbanyak:\n",
            "Nama Situs: TDS LANDFILL\n",
            "Jumlah Sampah: 162176132.5394\n"
          ]
        }
      ]
    },
    {
      "cell_type": "markdown",
      "source": [
        "Dengan ekspolorasi sederhana kita bisa melihat informasi yang penting bahwa jenis sampah yang sering dibuang adalah Garbage Collections, dan situs pembuangan sampah dengan sampah terbanyak adalah TDS Landfill.\n",
        "\n",
        "Saya memilih TDS Landfill untuk dieksplorasi lebih lanjut karena situs ini menampung sampah terbanyak."
      ],
      "metadata": {
        "id": "a2ue3Ou4eXrL"
      }
    },
    {
      "cell_type": "markdown",
      "source": [
        "## 4.1 Pengolahan Data TDS Landfill Tanpa Outlier"
      ],
      "metadata": {
        "id": "ToxsUYq4ecS0"
      }
    },
    {
      "cell_type": "code",
      "source": [
        "# Mengambil data load_weight hanya untuk situs yang telah dipilih\n",
        "selected_site = \"TDS LANDFILL\"\n",
        "data_selected_site = df[df['dropoff_site'] == selected_site]['load_weight']"
      ],
      "metadata": {
        "id": "i2_FzU2cedOp"
      },
      "execution_count": 177,
      "outputs": []
    },
    {
      "cell_type": "code",
      "source": [
        "# Menggunakan teknik IQR (Interquartile Range) yang sesuai dengan distribusi data untuk mendeteksi outlier\n",
        "Q1 = data_selected_site.quantile(0.25)\n",
        "Q3 = data_selected_site.quantile(0.75)\n",
        "IQR = Q3 - Q1\n",
        "lower_bound = Q1 - 1.5 * IQR\n",
        "upper_bound = Q3 + 1.5 * IQR"
      ],
      "metadata": {
        "id": "7_qCwXTjfHQw"
      },
      "execution_count": 178,
      "outputs": []
    },
    {
      "cell_type": "markdown",
      "source": [
        "IQR (Interquartile Range) dipilih sebagai metode untuk mendeteksi outlier karena metode ini akurat terhadap data yang berdistribusi yang memiliki skewness. "
      ],
      "metadata": {
        "id": "ZYTeDC35fj27"
      }
    },
    {
      "cell_type": "code",
      "source": [
        "# Mengidentifikasi outlier dalam data\n",
        "outliers = data_selected_site[(data_selected_site < lower_bound) | (data_selected_site > upper_bound)]"
      ],
      "metadata": {
        "id": "yU9j0X2xf0xY"
      },
      "execution_count": 179,
      "outputs": []
    },
    {
      "cell_type": "code",
      "source": [
        "# Menampilkan persentase jumlah outlier\n",
        "outlier_percentage = len(outliers) / len(data_selected_site) * 100\n",
        "print(\"Persentase jumlah outlier:\", outlier_percentage)"
      ],
      "metadata": {
        "colab": {
          "base_uri": "https://localhost:8080/"
        },
        "id": "kjuSWJQIm2kn",
        "outputId": "d279c153-92e7-4b88-cd90-067de111ad8a"
      },
      "execution_count": 180,
      "outputs": [
        {
          "output_type": "stream",
          "name": "stdout",
          "text": [
            "Persentase jumlah outlier: 0.06545726575649898\n"
          ]
        }
      ]
    },
    {
      "cell_type": "code",
      "source": [
        "# Membandingkan central tendency data dengan dan tanpa outlier\n",
        "data_without_outliers = data_selected_site[~((data_selected_site < lower_bound) | (data_selected_site > upper_bound))]"
      ],
      "metadata": {
        "id": "Hn3-kb58m5pz"
      },
      "execution_count": 181,
      "outputs": []
    },
    {
      "cell_type": "code",
      "source": [
        "print(\"Central tendency data dengan outlier:\")\n",
        "print(data_selected_site.describe())"
      ],
      "metadata": {
        "colab": {
          "base_uri": "https://localhost:8080/"
        },
        "id": "k_YZFl7xm9Nz",
        "outputId": "176a77b9-8d1a-4f58-c780-771e8035d336"
      },
      "execution_count": 182,
      "outputs": [
        {
          "output_type": "stream",
          "name": "stdout",
          "text": [
            "Central tendency data dengan outlier:\n",
            "count     10691.000000\n",
            "mean      15169.407215\n",
            "std        8591.029283\n",
            "min           0.000000\n",
            "25%        8820.000000\n",
            "50%       14920.000000\n",
            "75%       21660.000000\n",
            "max      245540.000000\n",
            "Name: load_weight, dtype: float64\n"
          ]
        }
      ]
    },
    {
      "cell_type": "code",
      "source": [
        "print(\"Central tendency data tanpa outlier:\")\n",
        "print(data_without_outliers.describe())"
      ],
      "metadata": {
        "colab": {
          "base_uri": "https://localhost:8080/"
        },
        "id": "bMojVPhNnA4p",
        "outputId": "50c1272a-1771-4d7d-e7a6-b6fb78bfeba2"
      },
      "execution_count": 183,
      "outputs": [
        {
          "output_type": "stream",
          "name": "stdout",
          "text": [
            "Central tendency data tanpa outlier:\n",
            "count    10684.000000\n",
            "mean     15094.598983\n",
            "std       7854.247454\n",
            "min          0.000000\n",
            "25%       8820.000000\n",
            "50%      14920.000000\n",
            "75%      21645.000000\n",
            "max      35900.000000\n",
            "Name: load_weight, dtype: float64\n"
          ]
        }
      ]
    },
    {
      "cell_type": "code",
      "source": [
        "# Menghitung range\n",
        "data_range = data_without_outliers.max() - data_without_outliers.min()"
      ],
      "metadata": {
        "id": "cozVBcePoewL"
      },
      "execution_count": 184,
      "outputs": []
    },
    {
      "cell_type": "code",
      "source": [
        "# Menghitung variance\n",
        "data_variance = data_without_outliers.var()"
      ],
      "metadata": {
        "id": "QNucYhGQomhI"
      },
      "execution_count": 185,
      "outputs": []
    },
    {
      "cell_type": "code",
      "source": [
        "# Menghitung standar deviasi\n",
        "data_std_dev = data_without_outliers.std()\n"
      ],
      "metadata": {
        "id": "ZPNZ7cO4ooTZ"
      },
      "execution_count": 186,
      "outputs": []
    },
    {
      "cell_type": "code",
      "source": [
        "# Menampilkan hasil perhitungan\n",
        "print(\"Range data load_weight:\", data_range)\n",
        "print(\"Variance data load_weight:\", data_variance)\n",
        "print(\"Standar deviasi data load_weight:\", data_std_dev)"
      ],
      "metadata": {
        "colab": {
          "base_uri": "https://localhost:8080/"
        },
        "id": "KNc9gMCMotUL",
        "outputId": "e396cf08-a921-4e50-bbc9-6c5bde5546ed"
      },
      "execution_count": 187,
      "outputs": [
        {
          "output_type": "stream",
          "name": "stdout",
          "text": [
            "Range data load_weight: 35900.0\n",
            "Variance data load_weight: 61689203.067723714\n",
            "Standar deviasi data load_weight: 7854.247453940047\n"
          ]
        }
      ]
    },
    {
      "cell_type": "markdown",
      "source": [
        "## 4.2 Insight Hasil dari Pengolahan Data TDS Landfill"
      ],
      "metadata": {
        "id": "p7wilR9PoxC1"
      }
    },
    {
      "cell_type": "markdown",
      "source": [
        "Jika dibaca dari range data load, variance data load dan standard deviasi data load_weight nya besar kemungkinan sampah yang dibuang pada TDS Landfill sangatlah bervariatif dari bobot dan jenisnya."
      ],
      "metadata": {
        "id": "rNWprw57qHw0"
      }
    },
    {
      "cell_type": "markdown",
      "source": [
        "## 4.3 Saran Kapasitas Penampungan Sampah Site Baru"
      ],
      "metadata": {
        "id": "NpJq0Ye8pJ8Y"
      }
    },
    {
      "cell_type": "markdown",
      "source": [
        "Agar bisa memberikan saran kepada pemerintah kota setempat mengenai kapasitas penampungan sampah di site baru menggunakan confidence interval, sebaiknya memperhitungkan data dari keseluruhan site. Namun, untuk menghemat biaya dan waktu kita bisa menggunakan site yang representatif saja."
      ],
      "metadata": {
        "id": "G13yFoyTrF1P"
      }
    },
    {
      "cell_type": "markdown",
      "source": [
        "H0 (Hipotesis Nol): Rata-rata bobot sampah yang ada di site-site kota Austin tidak berbeda secara signifikan.\n",
        "\n",
        "H1 (Hipotesis Alternatif): Rata-rata bobot sampah yang ada di site-site kota Austin berbeda secara signifikan."
      ],
      "metadata": {
        "id": "oB7dQixbtf4p"
      }
    },
    {
      "cell_type": "code",
      "source": [
        "# Mengambil kolom load_weight sebagai sample\n",
        "sample = df_cleaned['load_weight']"
      ],
      "metadata": {
        "id": "HT_p6bPB1KLT"
      },
      "execution_count": 188,
      "outputs": []
    },
    {
      "cell_type": "code",
      "source": [
        "# Melakukan one-sample t-test\n",
        "t_statistic, p_value = stats.ttest_1samp(sample, popmean=100)"
      ],
      "metadata": {
        "id": "yYpyM8VT1OLe"
      },
      "execution_count": 189,
      "outputs": []
    },
    {
      "cell_type": "code",
      "source": [
        "# Menampilkan hasil perhitungan\n",
        "print(\"T-Statistic:\", t_statistic)\n",
        "print(\"P-Value:\", p_value)"
      ],
      "metadata": {
        "colab": {
          "base_uri": "https://localhost:8080/"
        },
        "id": "AjWWE2eS1QtB",
        "outputId": "f4cb9eff-faff-421e-ceb6-2a7561fcf846"
      },
      "execution_count": 190,
      "outputs": [
        {
          "output_type": "stream",
          "name": "stdout",
          "text": [
            "T-Statistic: 269.32419121243885\n",
            "P-Value: 0.0\n"
          ]
        }
      ]
    },
    {
      "cell_type": "markdown",
      "source": [
        "Berdasarkan hasil perhitungan menggunakan pengujian hipotesis menggunakan metode single sample, hasil analisis menunjukkan bahwa ada bukti yang kuat bahwa rata-rata bobot sampah di site-site kota Austin berbeda sangat signifikan. Sehingga kita harus mengamati lebih lanjut faktor yang mempengaruhi dan menyebabkan perbedaan ini bisa terjadi."
      ],
      "metadata": {
        "id": "Lfmivadm2-CD"
      }
    },
    {
      "cell_type": "markdown",
      "source": [
        "## Jawaban Pemahaman Konsep Problem 1"
      ],
      "metadata": {
        "id": "rA7RxNBh3DBK"
      }
    },
    {
      "cell_type": "markdown",
      "source": [
        "***Teknik apa yang kamu pilih untuk handling outlier? jelaskan alasannya!***\n",
        "\n",
        "\n",
        "IQR (Interquartile Range) dipilih sebagai metode untuk mendeteksi outlier karena metode ini akurat terhadap data yang berdistribusi yang memiliki skewness.\n",
        "\n",
        "***Apa konsep dibalik confidence interval sehingga kita dapat menggunakannya untuk menyelesaikan langkah pada nomor 7?***\n",
        "\n",
        "Confidence interval digunakan untuk menentukan rentang nilai dari data yang ada. Nilai ini mengandung rata-rata dari sample yang ada pada H0, dan jika ternyata rata-rata sample berada di luar confidence interval, artinya terjadi perbedaan yang signifikan antara rata-rata sample dan nilai yang diharapkan pada H0 atau dengan kata lain kita bisa bilang bahwa terjadi gagal penolakan H0.\n",
        "\n",
        "***Jelaskan jenis uji hipotesis apa yang kamu terapkan dan mengapa?***\n",
        "\n",
        "Menggunakan Single Sample Hypothesis Testing dimana kita membandingkan rata-rata load weight dan sebelum dan setelah peristiwa pada sample yang sama."
      ],
      "metadata": {
        "id": "MoXUTv7n3G6x"
      }
    },
    {
      "cell_type": "markdown",
      "source": [
        "# Problem 2"
      ],
      "metadata": {
        "id": "U5w4nPP_6pwL"
      }
    },
    {
      "cell_type": "code",
      "source": [
        "# Menarik data load weight di hari sebelumnya\n",
        "data_load_sebelumnya = df_cleaned[df_cleaned['report_date'] == '2021-07-09']['load_weight']"
      ],
      "metadata": {
        "id": "6hcKC4YR0wj5"
      },
      "execution_count": 191,
      "outputs": []
    },
    {
      "cell_type": "code",
      "source": [
        "# Menampilkan data load weight di hari sebelumnya\n",
        "print(\"Data load weight di hari sebelumnya:\")\n",
        "print(data_load_sebelumnya)"
      ],
      "metadata": {
        "colab": {
          "base_uri": "https://localhost:8080/"
        },
        "id": "lEeor71S0lcm",
        "outputId": "5f452af8-b636-4152-b40d-41f1de8b2ae7"
      },
      "execution_count": 192,
      "outputs": [
        {
          "output_type": "stream",
          "name": "stdout",
          "text": [
            "Data load weight di hari sebelumnya:\n",
            "203    3680.0\n",
            "204    5500.0\n",
            "205    5500.0\n",
            "206    5500.0\n",
            "207    5500.0\n",
            "208    5500.0\n",
            "209    9800.0\n",
            "210    7000.0\n",
            "211    5500.0\n",
            "212    7360.0\n",
            "213    8680.0\n",
            "214    7140.0\n",
            "215    5500.0\n",
            "216    5500.0\n",
            "217    5500.0\n",
            "218    5500.0\n",
            "219    8240.0\n",
            "220    4160.0\n",
            "221    4340.0\n",
            "608    1900.0\n",
            "609    3040.0\n",
            "Name: load_weight, dtype: float64\n"
          ]
        }
      ]
    },
    {
      "cell_type": "code",
      "source": [
        "# Menampilkan data load weight di hari sebelumnya\n",
        "if len(data_load_sebelumnya) > 0:\n",
        "    print(\"Data load weight di hari sebelumnya:\")\n",
        "    print(data_load_sebelumnya.values[0])  # Mengambil nilai load weight pertama\n",
        "else:\n",
        "    print(\"Tidak ada data load weight di hari sebelumnya.\")"
      ],
      "metadata": {
        "colab": {
          "base_uri": "https://localhost:8080/"
        },
        "id": "jzS9yZ3-07oc",
        "outputId": "e7346e69-8f3c-498d-96fb-395645a47dd0"
      },
      "execution_count": 193,
      "outputs": [
        {
          "output_type": "stream",
          "name": "stdout",
          "text": [
            "Data load weight di hari sebelumnya:\n",
            "3680.0\n"
          ]
        }
      ]
    },
    {
      "cell_type": "code",
      "source": [
        "# Prediksi load weight di hari berikutnya\n",
        "if len(data_load_sebelumnya) > 0:\n",
        "    load_weight_sebelumnya = data_load_sebelumnya.values[0]  # Nilai load weight di hari sebelumnya\n",
        "    kecepatan = 100  # Contoh nilai kecepatan, disesuaikan dengan karakteristik data\n",
        "    selisih_waktu = 1  # Selisih waktu dalam hari\n",
        "\n",
        "    load_weight_berikutnya = load_weight_sebelumnya + kecepatan * selisih_waktu\n",
        "\n",
        "    print(\"Prediksi load weight di hari berikutnya (10 Juli 2021):\")\n",
        "    print(load_weight_berikutnya)\n",
        "else:\n",
        "    print(\"Tidak dapat melakukan prediksi karena tidak ada data load weight di hari sebelumnya.\")"
      ],
      "metadata": {
        "colab": {
          "base_uri": "https://localhost:8080/"
        },
        "id": "sb9Koe441UB-",
        "outputId": "4240c031-80e6-4ce6-b0ca-a5f335641eb3"
      },
      "execution_count": 194,
      "outputs": [
        {
          "output_type": "stream",
          "name": "stdout",
          "text": [
            "Prediksi load weight di hari berikutnya (10 Juli 2021):\n",
            "3780.0\n"
          ]
        }
      ]
    },
    {
      "cell_type": "markdown",
      "source": [
        "## Jawaban Pemahaman Konsep Problem 2"
      ],
      "metadata": {
        "id": "MN7fP1HQA_e6"
      }
    },
    {
      "cell_type": "markdown",
      "source": [
        "***Untuk menghitung turunan pertama dapat digunakan metode simbolik dan numerik, untuk kasus ini, teknik apa yang kamu gunakan?***\n",
        "\n",
        "Pada case ini, saya menggunakan metode numerik untuk menghitung turunan pertama.\n",
        "\n",
        "***Apakah kamu membutuhkan fungsi matematis untuk menghitung turunannya? (ya/tidak) berikan alasanmu!***\n",
        "\n",
        "Ya kita membutuhkan fungsi matematis untuk menghitung turunan pertama secara numerik. Dengan menggunakan metode finite backward kita bisa memperoleh pendekatan turunan pertama dari data.\n",
        "\n",
        "***Berapa load weight yang kamu perkirakan di hari esok (10 Juli 2021)?***\n",
        "\n",
        "Berdasaran rumus kecepatan, maka prediksi sampahnya adalah 3780"
      ],
      "metadata": {
        "id": "5Hm0YMLeAjfi"
      }
    },
    {
      "cell_type": "markdown",
      "source": [
        "# Kesimpulan"
      ],
      "metadata": {
        "id": "CzQa1mhKCPL2"
      }
    },
    {
      "cell_type": "markdown",
      "source": [
        "Kesimpulannya adalah di Kota Austin terjadi perbedaan signifikan rata-rata bobit sampah di site-site yang tersedia. Yangmana site dengan rata-rata bobot sampah terbanyak adalah TDS Landfill. Dikarenakan terjadi rata-rata bobot sampah yang berbeda secara signifikan antar site, maka dalam membuat site baru diperlukan perhitungan yang cermat untuk memproyeksi berapa rata-rata bobot sampah yang bisa ditampung di site baru. Kita bisa menggunakan menggunakan berbagai pendekatan termasuk menggunakan rumus kecepatan untuk mengestimasi bobot sampah yang akan terjadi pada site baru. Hal ini bisa kita lihat dari data yang sudah dikerjakan bahwa pada tanggal 10 Juli (keesokan harinya) sampah yang dibuang oleh masyarakat sekitar 3780. Dengan keberhasilan pendekatan ini dimungkinkan kita memproyeksikan berapa kapasistas yang diperlukan pada site baru."
      ],
      "metadata": {
        "id": "3sGXRovyCMLt"
      }
    }
  ]
}