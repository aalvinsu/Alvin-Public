{
  "nbformat": 4,
  "nbformat_minor": 0,
  "metadata": {
    "colab": {
      "provenance": [],
      "authorship_tag": "ABX9TyO7v/goXH3onPAFLl3aJNi0",
      "include_colab_link": true
    },
    "kernelspec": {
      "name": "python3",
      "display_name": "Python 3"
    },
    "language_info": {
      "name": "python"
    }
  },
  "cells": [
    {
      "cell_type": "markdown",
      "metadata": {
        "id": "view-in-github",
        "colab_type": "text"
      },
      "source": [
        "<a href=\"https://colab.research.google.com/github/aalvinsu/Alvin-Public/blob/main/Alvin_RMT_20_(Live_Coding).ipynb\" target=\"_parent\"><img src=\"https://colab.research.google.com/assets/colab-badge.svg\" alt=\"Open In Colab\"/></a>"
      ]
    },
    {
      "cell_type": "markdown",
      "source": [
        "# **Perkenalan**"
      ],
      "metadata": {
        "id": "rHyM4ENqgCNy"
      }
    },
    {
      "cell_type": "code",
      "source": [
        "Alvin RMT-20"
      ],
      "metadata": {
        "id": "C1Q-Ji3cgEfm"
      },
      "execution_count": null,
      "outputs": []
    },
    {
      "cell_type": "markdown",
      "source": [
        "# **Import Pustaka**"
      ],
      "metadata": {
        "id": "FuG6XjNwgR3i"
      }
    },
    {
      "cell_type": "code",
      "execution_count": 1,
      "metadata": {
        "id": "q6DsJAsPdTnc"
      },
      "outputs": [],
      "source": [
        "import pandas as pd"
      ]
    },
    {
      "cell_type": "code",
      "source": [
        "# Membaca data dari file Excel\n",
        "df = pd.read_excel('/content/NMC1-9.xlsx')"
      ],
      "metadata": {
        "id": "WO4o_4DPexac"
      },
      "execution_count": 2,
      "outputs": []
    },
    {
      "cell_type": "markdown",
      "source": [
        "# **Data Loading**"
      ],
      "metadata": {
        "id": "iw8qxMeGgdD8"
      }
    },
    {
      "cell_type": "code",
      "source": [
        "# Fungsi untuk menghitung hambatan (R)\n",
        "def calculate_resistance(voltage, current):\n",
        "    return voltage / current"
      ],
      "metadata": {
        "id": "K6ywDuwNe0Tq"
      },
      "execution_count": 3,
      "outputs": []
    },
    {
      "cell_type": "code",
      "source": [
        "# Fungsi untuk menghitung daya (P)\n",
        "def calculate_power(voltage, current):\n",
        "    return voltage * current"
      ],
      "metadata": {
        "id": "_W8Dv0VMe1yo"
      },
      "execution_count": 4,
      "outputs": []
    },
    {
      "cell_type": "code",
      "source": [
        "# Menerapkan fungsi perhitungan pada DataFrame\n",
        "df['Resistance'] = calculate_resistance(df['V_m'], df['Current (A)'])\n",
        "df['Power'] = calculate_power(df['V_m'], df['Current (A)'])"
      ],
      "metadata": {
        "id": "SYzgDn51e3gd"
      },
      "execution_count": 8,
      "outputs": []
    },
    {
      "cell_type": "code",
      "source": [
        "# Fungsi untuk menentukan nilai kolom R/P berdasarkan kriteria\n",
        "def calculate_rp(capacity):\n",
        "    if capacity >= 2.5:\n",
        "        return 'Power'\n",
        "    else:\n",
        "        return 'Resistance'"
      ],
      "metadata": {
        "id": "c6AJDAbAe496"
      },
      "execution_count": 9,
      "outputs": []
    },
    {
      "cell_type": "code",
      "source": [
        "# Menerapkan fungsi perhitungan R/P pada DataFrame menggunakan loop dan if statement\n",
        "rp_values = []\n",
        "for capacity in df['Power'] / df['Resistance']:\n",
        "    rp_values.append(calculate_rp(capacity))\n",
        "df['R/P'] = rp_values"
      ],
      "metadata": {
        "id": "himEhMJAe6_b"
      },
      "execution_count": 10,
      "outputs": []
    },
    {
      "cell_type": "markdown",
      "source": [
        "# Hasil"
      ],
      "metadata": {
        "id": "ZFDsYbImgiaM"
      }
    },
    {
      "cell_type": "code",
      "source": [
        "# Menghitung rata-rata nilai kapasitas untuk arus = 1 Ampere dan cycle ganjil\n",
        "average_capacity = df[(df['Current (A)'] == 1) & (df['Cycle'] % 2 == 1)]['Power'].mean()\n",
        "print(\"Rata-rata nilai kapasitas untuk arus = 1 Ampere dan cycle ganjil:\", average_capacity)"
      ],
      "metadata": {
        "colab": {
          "base_uri": "https://localhost:8080/"
        },
        "id": "2iD2uqtLe9oL",
        "outputId": "465c5e38-b93a-4141-afe1-7e4e5d133e57"
      },
      "execution_count": 12,
      "outputs": [
        {
          "output_type": "stream",
          "name": "stdout",
          "text": [
            "Rata-rata nilai kapasitas untuk arus = 1 Ampere dan cycle ganjil: 3.615658272327965\n"
          ]
        }
      ]
    }
  ]
}